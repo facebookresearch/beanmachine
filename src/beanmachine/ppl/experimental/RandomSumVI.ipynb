{
 "cells": [
  {
   "cell_type": "code",
   "execution_count": 1,
   "metadata": {},
   "outputs": [],
   "source": [
    "import torch.distributions as dist\n",
    "\n",
    "import beanmachine.ppl as bm\n",
    "\n",
    "class NormalNormal:\n",
    "    @bm.random_variable\n",
    "    def mu(self):\n",
    "        return dist.Normal(0, 1)\n",
    "    \n",
    "    @bm.random_variable\n",
    "    def x(self, i):\n",
    "        return dist.Normal(self.mu(), 1)"
   ]
  },
  {
   "cell_type": "code",
   "execution_count": null,
   "metadata": {},
   "outputs": [
    {
     "data": {
      "application/vnd.jupyter.widget-view+json": {
       "model_id": "a5483b619fef4d6d8c6dbe3c2a142bca",
       "version_major": 2,
       "version_minor": 0
      },
      "text/plain": [
       "HBox(children=(FloatProgress(value=0.0, description='Training iterations', style=ProgressStyle(description_wid…"
      ]
     },
     "metadata": {},
     "output_type": "display_data"
    },
    {
     "name": "stdout",
     "output_type": "stream",
     "text": [
      "2.5079636573791504\n",
      "0.002271728590130806\n",
      "0.0065063475631177425\n",
      "0.00420379638671875\n",
      "0.005620727315545082\n",
      "0.011625366285443306\n",
      "0.0036282348446547985\n",
      "0.02070770226418972\n",
      "0.0003656005719676614\n",
      "0.005111389327794313\n",
      "0.0029025268740952015\n"
     ]
    }
   ],
   "source": [
    "import torch\n",
    "\n",
    "from beanmachine.ppl.experimental.vi.VariationalInfer import VariationalInference\n",
    "\n",
    "model = NormalNormal()\n",
    "\n",
    "vi = VariationalInference()\n",
    "vi_dicts = vi.infer([model.mu()], {\n",
    "    model.x(0): torch.tensor(3.0),\n",
    "    model.x(1): torch.tensor(4.0),\n",
    "})"
   ]
  },
  {
   "cell_type": "code",
   "execution_count": null,
   "metadata": {},
   "outputs": [],
   "source": [
    "vi_dicts[model.mu()]"
   ]
  },
  {
   "cell_type": "code",
   "execution_count": null,
   "metadata": {},
   "outputs": [],
   "source": []
  }
 ],
 "metadata": {
  "kernelspec": {
   "display_name": "Python 3",
   "language": "python",
   "name": "python3"
  },
  "language_info": {
   "codemirror_mode": {
    "name": "ipython",
    "version": 3
   },
   "file_extension": ".py",
   "mimetype": "text/x-python",
   "name": "python",
   "nbconvert_exporter": "python",
   "pygments_lexer": "ipython3",
   "version": "3.7.8"
  }
 },
 "nbformat": 4,
 "nbformat_minor": 4
}
