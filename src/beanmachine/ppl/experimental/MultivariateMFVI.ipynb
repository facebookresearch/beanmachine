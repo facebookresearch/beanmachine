{
  "metadata": {
    "kernelspec": {
      "display_name": "uncertainty",
      "language": "python",
      "name": "bento_kernel_uncertainty",
      "metadata": {}
    },
    "language_info": {
      "codemirror_mode": {
        "name": "ipython",
        "version": 3
      },
      "file_extension": ".py",
      "mimetype": "text/x-python",
      "name": "python",
      "nbconvert_exporter": "python",
      "pygments_lexer": "ipython3",
      "version": "3.8.6"
    }
  },
  "nbformat": 4,
  "nbformat_minor": 4,
  "cells": [
    {
      "cell_type": "code",
      "metadata": {
        "originalKey": "2027c205-57b7-43b9-a0f3-949b1d5c49ee",
        "collapsed": false
      },
      "source": [
        "%load_ext autoreload\n",
        "%autoreload 2"
      ],
      "execution_count": 1,
      "outputs": []
    },
    {
      "cell_type": "code",
      "metadata": {
        "originalKey": "2b1c294d-3af8-42ad-9403-f965f6b45469",
        "collapsed": false
      },
      "source": [
        "import os, sys\n",
        "sys.path.insert(0, os.path.expandvars('/data/users/$USER/fbsource/fbcode/beanmachine'))\n",
        "sys.path.insert(1, os.path.expandvars('/data/users/$USER/fbsource/third-party/pypi/flowtorch/0.0.dev2'))\n",
        "\n",
        "import beanmachine.ppl as bm"
      ],
      "execution_count": 2,
      "outputs": []
    },
    {
      "cell_type": "code",
      "metadata": {
        "originalKey": "52e0d678-7daf-4a3b-b523-279f89f0a91f",
        "collapsed": false
      },
      "source": [
        "import beanmachine.ppl as bm\n",
        "import matplotlib.pyplot as plt\n",
        "import pandas as pd\n",
        "import seaborn as sns\n",
        "import statsmodels.graphics.gofplots\n",
        "import scipy.stats as stats\n",
        "import torch\n",
        "import torch.distributions as dist\n",
        "import torch.nn as nn\n",
        "from beanmachine.ppl.experimental.vi.variational_infer import (\n",
        "    MeanFieldVariationalInference\n",
        ")\n",
        "from beanmachine.ppl.distribution import Flat\n",
        "\n",
        "sns.set_style('darkgrid')"
      ],
      "execution_count": 3,
      "outputs": []
    },
    {
      "cell_type": "markdown",
      "metadata": {
        "originalKey": "9373da4b-f20e-44ca-aceb-e523064bd8d0"
      },
      "source": [
        "# Bayesian Robust Regression"
      ]
    },
    {
      "cell_type": "code",
      "metadata": {
        "originalKey": "50031429-ff7c-4db8-afec-52bb1c6af279",
        "collapsed": false,
        "code_folding": [],
        "hidden_ranges": []
      },
      "source": [
        "n = 100\n",
        "d = 10\n",
        "df = 5.0\n",
        "\n",
        "X_train = torch.randn(n, d)\n",
        "beta_truth = torch.randn(d+1, 1)\n",
        "y_train = torch.cat((X_train, torch.ones(n, 1)), -1).mm(beta_truth) \\\n",
        "    + dist.StudentT(df=4.0).sample((n, 1))\n",
        "\n",
        "\n",
        "@bm.random_variable\n",
        "def beta():\n",
        "    return dist.Independent(\n",
        "        dist.StudentT(df=4.0*torch.ones(d+1)),\n",
        "        1,\n",
        "    )\n",
        "#    return Flat(shape=(d+1))\n",
        "\n",
        "\n",
        "@bm.random_variable\n",
        "def X():\n",
        "    return dist.Normal(0, 1)  # dummy\n",
        "\n",
        "\n",
        "@bm.random_variable\n",
        "def y():\n",
        "    X_with_ones = torch.cat((X(), torch.ones(X().shape[0], 1)), -1)\n",
        "    b = beta().squeeze()\n",
        "    if b.dim() == 1:\n",
        "        b = b.unsqueeze(0)\n",
        "    mu = b.mm(X_with_ones.T).T\n",
        "    return dist.Independent(\n",
        "        dist.StudentT(df=df, loc=mu, scale=1),\n",
        "        1,\n",
        "    )\n",
        "\n",
        "\n",
        "def annotate(data, **kws):\n",
        "    coord = data['variable'].unique()\n",
        "    assert len(coord) == 1\n",
        "    ax = plt.gca()\n",
        "    ax.axvline(x=beta_truth[coord[0]], color='r')"
      ],
      "execution_count": 4,
      "outputs": []
    },
    {
      "cell_type": "code",
      "metadata": {
        "originalKey": "20dc5a74-20cb-4194-b397-816d8d41deba",
        "collapsed": false,
        "code_folding": [],
        "hidden_ranges": []
      },
      "source": [
        "vi_dicts_normal = MeanFieldVariationalInference().infer(\n",
        "    queries=[beta()],\n",
        "    observations={\n",
        "        X(): X_train,\n",
        "        y(): y_train,\n",
        "    },\n",
        "    base_dist=dist.Normal,\n",
        "    base_args={\n",
        "        'loc': nn.Parameter(torch.tensor(0.0)),\n",
        "        'scale': nn.Parameter(torch.tensor(1.0)),\n",
        "    },\n",
        "    num_iter=10,\n",
        ")\n",
        "vi_dicts_student = MeanFieldVariationalInference().infer(\n",
        "    queries=[beta()],\n",
        "    observations={\n",
        "        X(): X_train,\n",
        "        y(): y_train,\n",
        "    },\n",
        "    base_dist=dist.StudentT,\n",
        "    base_args={\n",
        "        'df': nn.Parameter(torch.tensor(df)),\n",
        "        'loc': nn.Parameter(torch.tensor(0.0)),\n",
        "        'scale': nn.Parameter(torch.tensor(1.0)),\n",
        "    },\n",
        "    num_iter=10,\n",
        ")"
      ],
      "execution_count": 5,
      "outputs": [
        {
          "output_type": "stream",
          "name": "stderr",
          "text": [
            "\rTraining iterations:   0%|          | 0/10 [00:00<?, ?it/s]",
            "\rTraining iterations:  10%|█         | 1/10 [00:00<00:01,  8.71it/s]",
            "\rTraining iterations:  30%|███       | 3/10 [00:00<00:00, 13.25it/s]",
            "\rTraining iterations:  50%|█████     | 5/10 [00:00<00:00, 13.54it/s]",
            "\rTraining iterations:  70%|███████   | 7/10 [00:00<00:00, 13.68it/s]",
            "\rTraining iterations:  90%|█████████ | 9/10 [00:00<00:00, 13.76it/s]",
            "\rTraining iterations: 100%|██████████| 10/10 [00:00<00:00, 13.52it/s]",
            "\n\rTraining iterations:   0%|          | 0/10 [00:00<?, ?it/s]",
            "\rTraining iterations:  20%|██        | 2/10 [00:00<00:00, 13.84it/s]",
            "\rTraining iterations:  40%|████      | 4/10 [00:00<00:00, 12.86it/s]",
            "\rTraining iterations:  60%|██████    | 6/10 [00:00<00:00, 12.39it/s]",
            "\rTraining iterations:  80%|████████  | 8/10 [00:00<00:00, 12.05it/s]",
            "\rTraining iterations: 100%|██████████| 10/10 [00:00<00:00, 11.91it/s]",
            "\rTraining iterations: 100%|██████████| 10/10 [00:00<00:00, 12.16it/s]",
            "\n"
          ]
        }
      ]
    },
    {
      "cell_type": "code",
      "metadata": {
        "originalKey": "10dd2cf0-284b-42d0-b663-7ca14105b1ff",
        "collapsed": false,
        "code_folding": [],
        "hidden_ranges": []
      },
      "source": [
        "# N = 1000\n",
        "# g = sns.displot(\n",
        "#     data=pd.concat((\n",
        "#         pd.DataFrame(vi_dicts_normal(beta()).sample((N,)).numpy()).assign(method='vi_normal'),\n",
        "#         pd.DataFrame(vi_dicts_student(beta()).sample((N,)).numpy()).assign(method='vi_student'),\n",
        "#     )).melt(id_vars='method'),\n",
        "#     x='value',\n",
        "#     col='variable',\n",
        "#     col_wrap=3,\n",
        "#     hue='method',\n",
        "# )\n",
        "# g.map_dataframe(annotate)"
      ],
      "execution_count": 6,
      "outputs": []
    },
    {
      "cell_type": "markdown",
      "metadata": {
        "originalKey": "fb214064-4ccf-4649-be51-479a7b63c18c"
      },
      "source": [
        "Log pointwise predictive density? [link](https://arxiv.org/pdf/1307.5928.pdf), underestimates $E_\\pi \\log p(\\tilde{y} \\mid \\hat\\theta)$ for a given point esitmate $\\hat\\theta(y)$"
      ]
    },
    {
      "cell_type": "code",
      "metadata": {
        "originalKey": "9b4063d9-d17f-4c58-8543-3f279fa1fcb1",
        "collapsed": false
      },
      "source": [
        "n_test = 1000\n",
        "n_posterior = 100\n",
        "\n",
        "X_test = torch.randn(n_test, d)\n",
        "y_test = torch.cat((X_test, torch.ones(n_test, 1)), -1).mm(beta_truth) \\\n",
        "    + dist.StudentT(df=4.0).sample((n_test, 1))\n",
        "\n",
        "for vi_dicts in [\n",
        "    vi_dicts_normal,\n",
        "    vi_dicts_student,\n",
        "]:\n",
        "    samples = vi_dicts(beta()).sample((n_posterior,))\n",
        "    lppds = torch.stack([\n",
        "        dist.StudentT(df=df).log_prob(y_test - torch.cat((X_test, torch.ones(n_test, 1)), -1).mm(b.unsqueeze(1))).sum() for b in torch.unbind(samples, dim=0)\n",
        "    ], dim=0)\n",
        "    print(lppds.mean())\n",
        ""
      ],
      "execution_count": 7,
      "outputs": [
        {
          "output_type": "stream",
          "name": "stdout",
          "text": [
            "tensor(-2372.9817)\ntensor(-2437.0488)\n"
          ]
        }
      ]
    },
    {
      "cell_type": "markdown",
      "metadata": {
        "originalKey": "0849029c-f0a5-4c19-b829-aed211997331"
      },
      "source": [
        "QQ plots should show tail behavior"
      ]
    },
    {
      "cell_type": "code",
      "metadata": {
        "originalKey": "f461d259-01fa-4ad3-a3f5-66ffabd036cf",
        "collapsed": false
      },
      "source": [
        "n_posterior = int(1e5)"
      ],
      "execution_count": 8,
      "outputs": []
    },
    {
      "cell_type": "code",
      "metadata": {
        "originalKey": "40b1565e-8462-4f2c-b2ee-e28e94420b58",
        "collapsed": false
      },
      "source": [
        "statsmodels.graphics.gofplots.qqplot(\n",
        "    vi_dicts_normal(beta()).sample((n_posterior,))[:,6],\n",
        "    fit=True,\n",
        "    line=\"45\",\n",
        "    dist=stats.t,\n",
        "    distargs=(df,)\n",
        ")"
      ],
      "execution_count": 9,
      "outputs": [
        {
          "output_type": "execute_result",
          "data": {
            "text/plain": "<Figure size 432x288 with 1 Axes>",
            "image/png": "[encoded data removed]"
          },
          "metadata": {
            "bento_obj_id": "140003700423696"
          },
          "execution_count": 9
        },
        {
          "output_type": "display_data",
          "data": {
            "text/plain": "<Figure size 432x288 with 1 Axes>",
            "image/png": "[encoded data removed]"
          },
          "metadata": {
            "bento_obj_id": "140003700423696",
            "needs_background": "light"
          }
        }
      ]
    },
    {
      "cell_type": "code",
      "metadata": {
        "originalKey": "f3b2d56c-5228-47bd-a1b6-e7e17dd8b4f1",
        "collapsed": false
      },
      "source": [
        "statsmodels.graphics.gofplots.qqplot(\n",
        "    vi_dicts_student(beta()).sample((n_posterior,))[:,6],\n",
        "    fit=True,\n",
        "    line=\"45\",\n",
        "    dist=stats.t,\n",
        "    distargs=(df,)\n",
        ")"
      ],
      "execution_count": 10,
      "outputs": [
        {
          "output_type": "execute_result",
          "data": {
            "text/plain": "<Figure size 432x288 with 1 Axes>",
            "image/png": "[encoded data removed]"
          },
          "metadata": {
            "bento_obj_id": "140003699692736"
          },
          "execution_count": 10
        },
        {
          "output_type": "display_data",
          "data": {
            "text/plain": "<Figure size 432x288 with 1 Axes>",
            "image/png": "[encoded data removed]"
          },
          "metadata": {
            "bento_obj_id": "140003699692736",
            "needs_background": "light"
          }
        }
      ]
    },
    {
      "cell_type": "markdown",
      "metadata": {
        "originalKey": "e07f5bb8-17b7-4164-83ce-4efad953129d"
      },
      "source": [
        "Random Walk MH does poorly here"
      ]
    },
    {
      "cell_type": "code",
      "metadata": {
        "originalKey": "e7c22a61-d3dc-4536-a5e0-fe2717d8ddc0",
        "collapsed": false
      },
      "source": [
        "samples = bm.SingleSiteRandomWalk().infer(\n",
        "    queries=[beta()],\n",
        "    observations={\n",
        "        X(): X_train,\n",
        "        y(): y_train,\n",
        "    },\n",
        "    num_samples=1000,\n",
        "    num_chains=1,\n",
        ")"
      ],
      "execution_count": 11,
      "outputs": [
        {
          "output_type": "stream",
          "name": "stderr",
          "text": [
            "\rSamples collected:   0%|          | 0/1000 [00:00<?, ?it/s]",
            "\rSamples collected:   0%|          | 5/1000 [00:00<00:21, 47.04it/s]",
            "\rSamples collected:   1%|          | 10/1000 [00:00<00:24, 40.33it/s]",
            "\rSamples collected:   2%|▏         | 15/1000 [00:00<00:22, 43.58it/s]",
            "\rSamples collected:   2%|▏         | 21/1000 [00:00<00:20, 47.09it/s]",
            "\rSamples collected:   3%|▎         | 27/1000 [00:00<00:19, 48.89it/s]",
            "\rSamples collected:   3%|▎         | 33/1000 [00:00<00:18, 51.31it/s]",
            "\rSamples collected:   4%|▍         | 39/1000 [00:00<00:18, 52.10it/s]",
            "\rSamples collected:   5%|▍         | 46/1000 [00:00<00:17, 54.82it/s]",
            "\rSamples collected:   5%|▌         | 52/1000 [00:01<00:16, 56.18it/s]",
            "\rSamples collected:   6%|▌         | 58/1000 [00:01<00:16, 57.13it/s]",
            "\rSamples collected:   6%|▋         | 64/1000 [00:01<00:16, 57.87it/s]",
            "\rSamples collected:   7%|▋         | 70/1000 [00:01<00:15, 58.47it/s]",
            "\rSamples collected:   8%|▊         | 76/1000 [00:01<00:15, 57.90it/s]",
            "\rSamples collected:   8%|▊         | 82/1000 [00:01<00:16, 56.39it/s]",
            "\rSamples collected:   9%|▉         | 88/1000 [00:01<00:16, 54.53it/s]",
            "\rSamples collected:  10%|▉         | 95/1000 [00:01<00:16, 56.56it/s]",
            "\rSamples collected:  10%|█         | 101/1000 [00:01<00:15, 56.36it/s]",
            "\rSamples collected:  11%|█         | 108/1000 [00:01<00:15, 57.63it/s]",
            "\rSamples collected:  11%|█▏        | 114/1000 [00:02<00:15, 58.13it/s]",
            "\rSamples collected:  12%|█▏        | 120/1000 [00:02<00:15, 57.97it/s]",
            "\rSamples collected:  13%|█▎        | 126/1000 [00:02<00:15, 58.04it/s]",
            "\rSamples collected:  13%|█▎        | 132/1000 [00:02<00:15, 57.76it/s]",
            "\rSamples collected:  14%|█▍        | 138/1000 [00:02<00:14, 57.70it/s]",
            "\rSamples collected:  14%|█▍        | 144/1000 [00:02<00:14, 57.18it/s]",
            "\rSamples collected:  15%|█▌        | 150/1000 [00:02<00:14, 57.73it/s]",
            "\rSamples collected:  16%|█▌        | 157/1000 [00:02<00:14, 58.84it/s]",
            "\rSamples collected:  16%|█▋        | 164/1000 [00:02<00:14, 59.55it/s]",
            "\rSamples collected:  17%|█▋        | 171/1000 [00:03<00:13, 60.08it/s]",
            "\rSamples collected:  18%|█▊        | 178/1000 [00:03<00:13, 60.40it/s]",
            "\rSamples collected:  18%|█▊        | 185/1000 [00:03<00:13, 59.91it/s]",
            "\rSamples collected:  19%|█▉        | 192/1000 [00:03<00:13, 60.23it/s]",
            "\rSamples collected:  20%|█▉        | 199/1000 [00:03<00:13, 60.30it/s]",
            "\rSamples collected:  21%|██        | 206/1000 [00:03<00:13, 58.20it/s]",
            "\rSamples collected:  21%|██        | 212/1000 [00:03<00:13, 57.10it/s]",
            "\rSamples collected:  22%|██▏       | 219/1000 [00:03<00:13, 58.42it/s]",
            "\rSamples collected:  22%|██▎       | 225/1000 [00:03<00:13, 58.74it/s]",
            "\rSamples collected:  23%|██▎       | 231/1000 [00:04<00:13, 58.63it/s]",
            "\rSamples collected:  24%|██▍       | 238/1000 [00:04<00:12, 59.70it/s]",
            "\rSamples collected:  24%|██▍       | 245/1000 [00:04<00:12, 60.69it/s]",
            "\rSamples collected:  25%|██▌       | 252/1000 [00:04<00:12, 61.02it/s]",
            "\rSamples collected:  26%|██▌       | 259/1000 [00:04<00:12, 61.41it/s]",
            "\rSamples collected:  27%|██▋       | 266/1000 [00:04<00:15, 46.58it/s]",
            "\rSamples collected:  27%|██▋       | 273/1000 [00:04<00:14, 50.63it/s]",
            "\rSamples collected:  28%|██▊       | 280/1000 [00:04<00:13, 54.07it/s]",
            "\rSamples collected:  29%|██▊       | 287/1000 [00:05<00:12, 56.65it/s]",
            "\rSamples collected:  29%|██▉       | 294/1000 [00:05<00:12, 58.57it/s]",
            "\rSamples collected:  30%|███       | 301/1000 [00:05<00:11, 60.36it/s]",
            "\rSamples collected:  31%|███       | 308/1000 [00:05<00:11, 61.69it/s]",
            "\rSamples collected:  32%|███▏      | 315/1000 [00:05<00:10, 62.98it/s]",
            "\rSamples collected:  32%|███▏      | 322/1000 [00:05<00:10, 63.14it/s]",
            "\rSamples collected:  33%|███▎      | 329/1000 [00:05<00:10, 63.37it/s]",
            "\rSamples collected:  34%|███▎      | 336/1000 [00:05<00:10, 63.81it/s]",
            "\rSamples collected:  34%|███▍      | 343/1000 [00:05<00:10, 64.07it/s]",
            "\rSamples collected:  35%|███▌      | 350/1000 [00:06<00:10, 63.74it/s]",
            "\rSamples collected:  36%|███▌      | 357/1000 [00:06<00:10, 63.67it/s]",
            "\rSamples collected:  36%|███▋      | 364/1000 [00:06<00:09, 63.85it/s]",
            "\rSamples collected:  37%|███▋      | 371/1000 [00:06<00:09, 63.75it/s]",
            "\rSamples collected:  38%|███▊      | 378/1000 [00:06<00:09, 62.56it/s]",
            "\rSamples collected:  38%|███▊      | 385/1000 [00:06<00:11, 52.32it/s]",
            "\rSamples collected:  39%|███▉      | 392/1000 [00:06<00:11, 55.24it/s]",
            "\rSamples collected:  40%|███▉      | 399/1000 [00:06<00:10, 57.55it/s]",
            "\rSamples collected:  40%|████      | 405/1000 [00:07<00:13, 45.70it/s]",
            "\rSamples collected:  41%|████      | 411/1000 [00:07<00:15, 38.72it/s]",
            "\rSamples collected:  42%|████▏     | 416/1000 [00:07<00:15, 37.27it/s]",
            "\rSamples collected:  42%|████▏     | 421/1000 [00:07<00:14, 39.71it/s]",
            "\rSamples collected:  43%|████▎     | 427/1000 [00:07<00:13, 43.94it/s]",
            "\rSamples collected:  43%|████▎     | 433/1000 [00:07<00:11, 47.30it/s]",
            "\rSamples collected:  44%|████▍     | 439/1000 [00:07<00:11, 49.27it/s]",
            "\rSamples collected:  45%|████▍     | 446/1000 [00:08<00:10, 53.22it/s]",
            "\rSamples collected:  45%|████▌     | 452/1000 [00:08<00:09, 54.88it/s]",
            "\rSamples collected:  46%|████▌     | 458/1000 [00:08<00:10, 51.71it/s]",
            "\rSamples collected:  46%|████▋     | 465/1000 [00:08<00:09, 54.94it/s]",
            "\rSamples collected:  47%|████▋     | 471/1000 [00:08<00:09, 56.25it/s]",
            "\rSamples collected:  48%|████▊     | 477/1000 [00:08<00:09, 56.37it/s]",
            "\rSamples collected:  48%|████▊     | 484/1000 [00:08<00:08, 57.70it/s]",
            "\rSamples collected:  49%|████▉     | 490/1000 [00:08<00:08, 58.33it/s]",
            "\rSamples collected:  50%|████▉     | 497/1000 [00:08<00:08, 59.32it/s]",
            "\rSamples collected:  50%|█████     | 503/1000 [00:09<00:17, 28.99it/s]",
            "\rSamples collected:  51%|█████     | 509/1000 [00:09<00:14, 33.95it/s]",
            "\rSamples collected:  52%|█████▏    | 516/1000 [00:09<00:12, 39.65it/s]",
            "\rSamples collected:  52%|█████▏    | 522/1000 [00:09<00:10, 43.76it/s]",
            "\rSamples collected:  53%|█████▎    | 529/1000 [00:09<00:09, 48.12it/s]",
            "\rSamples collected:  54%|█████▎    | 536/1000 [00:09<00:09, 51.43it/s]",
            "\rSamples collected:  54%|█████▍    | 542/1000 [00:10<00:09, 49.48it/s]",
            "\rSamples collected:  55%|█████▍    | 549/1000 [00:10<00:08, 52.53it/s]",
            "\rSamples collected:  56%|█████▌    | 555/1000 [00:10<00:08, 54.41it/s]",
            "\rSamples collected:  56%|█████▌    | 561/1000 [00:10<00:08, 53.91it/s]",
            "\rSamples collected:  57%|█████▋    | 567/1000 [00:10<00:09, 44.74it/s]",
            "\rSamples collected:  57%|█████▋    | 572/1000 [00:10<00:09, 42.90it/s]",
            "\rSamples collected:  58%|█████▊    | 578/1000 [00:10<00:09, 45.71it/s]",
            "\rSamples collected:  58%|█████▊    | 584/1000 [00:10<00:08, 48.84it/s]",
            "\rSamples collected:  59%|█████▉    | 590/1000 [00:11<00:07, 51.47it/s]",
            "\rSamples collected:  60%|█████▉    | 596/1000 [00:11<00:07, 53.19it/s]",
            "\rSamples collected:  60%|██████    | 602/1000 [00:11<00:07, 53.70it/s]",
            "\rSamples collected:  61%|██████    | 608/1000 [00:11<00:07, 52.35it/s]",
            "\rSamples collected:  61%|██████▏   | 614/1000 [00:11<00:09, 40.93it/s]",
            "\rSamples collected:  62%|██████▏   | 620/1000 [00:11<00:08, 45.03it/s]",
            "\rSamples collected:  63%|██████▎   | 626/1000 [00:11<00:07, 47.38it/s]",
            "\rSamples collected:  63%|██████▎   | 633/1000 [00:11<00:07, 51.23it/s]",
            "\rSamples collected:  64%|██████▍   | 640/1000 [00:12<00:06, 54.21it/s]",
            "\rSamples collected:  65%|██████▍   | 646/1000 [00:12<00:06, 55.36it/s]",
            "\rSamples collected:  65%|██████▌   | 652/1000 [00:12<00:06, 56.18it/s]",
            "\rSamples collected:  66%|██████▌   | 658/1000 [00:12<00:05, 57.21it/s]",
            "\rSamples collected:  66%|██████▋   | 664/1000 [00:12<00:05, 57.94it/s]",
            "\rSamples collected:  67%|██████▋   | 671/1000 [00:12<00:05, 58.64it/s]",
            "\rSamples collected:  68%|██████▊   | 677/1000 [00:12<00:05, 57.65it/s]",
            "\rSamples collected:  68%|██████▊   | 683/1000 [00:12<00:07, 42.59it/s]",
            "\rSamples collected:  69%|██████▉   | 688/1000 [00:12<00:07, 43.59it/s]",
            "\rSamples collected:  69%|██████▉   | 694/1000 [00:13<00:06, 47.17it/s]",
            "\rSamples collected:  70%|███████   | 701/1000 [00:13<00:05, 50.98it/s]",
            "\rSamples collected:  71%|███████   | 708/1000 [00:13<00:05, 53.64it/s]",
            "\rSamples collected:  71%|███████▏  | 714/1000 [00:13<00:05, 54.29it/s]",
            "\rSamples collected:  72%|███████▏  | 720/1000 [00:13<00:05, 54.72it/s]",
            "\rSamples collected:  73%|███████▎  | 726/1000 [00:13<00:05, 54.56it/s]",
            "\rSamples collected:  73%|███████▎  | 732/1000 [00:13<00:04, 55.21it/s]",
            "\rSamples collected:  74%|███████▍  | 738/1000 [00:13<00:04, 55.85it/s]",
            "\rSamples collected:  74%|███████▍  | 744/1000 [00:13<00:04, 56.88it/s]",
            "\rSamples collected:  75%|███████▌  | 750/1000 [00:14<00:04, 57.28it/s]",
            "\rSamples collected:  76%|███████▌  | 756/1000 [00:14<00:04, 57.18it/s]",
            "\rSamples collected:  76%|███████▌  | 762/1000 [00:14<00:04, 57.98it/s]",
            "\rSamples collected:  77%|███████▋  | 768/1000 [00:14<00:04, 53.53it/s]",
            "\rSamples collected:  77%|███████▋  | 774/1000 [00:14<00:04, 54.59it/s]",
            "\rSamples collected:  78%|███████▊  | 780/1000 [00:14<00:04, 48.02it/s]",
            "\rSamples collected:  79%|███████▊  | 786/1000 [00:14<00:04, 50.76it/s]",
            "\rSamples collected:  79%|███████▉  | 792/1000 [00:14<00:03, 52.20it/s]",
            "\rSamples collected:  80%|███████▉  | 799/1000 [00:14<00:03, 54.95it/s]",
            "\rSamples collected:  81%|████████  | 806/1000 [00:15<00:03, 56.85it/s]",
            "\rSamples collected:  81%|████████  | 812/1000 [00:15<00:03, 57.57it/s]",
            "\rSamples collected:  82%|████████▏ | 819/1000 [00:15<00:03, 57.50it/s]",
            "\rSamples collected:  82%|████████▎ | 825/1000 [00:15<00:03, 56.67it/s]",
            "\rSamples collected:  83%|████████▎ | 832/1000 [00:15<00:02, 58.05it/s]",
            "\rSamples collected:  84%|████████▍ | 839/1000 [00:15<00:02, 58.93it/s]",
            "\rSamples collected:  85%|████████▍ | 846/1000 [00:15<00:02, 59.43it/s]",
            "\rSamples collected:  85%|████████▌ | 853/1000 [00:15<00:02, 60.08it/s]",
            "\rSamples collected:  86%|████████▌ | 860/1000 [00:16<00:02, 60.64it/s]",
            "\rSamples collected:  87%|████████▋ | 867/1000 [00:16<00:02, 52.11it/s]",
            "\rSamples collected:  87%|████████▋ | 874/1000 [00:16<00:02, 55.41it/s]",
            "\rSamples collected:  88%|████████▊ | 881/1000 [00:16<00:02, 57.12it/s]",
            "\rSamples collected:  89%|████████▉ | 888/1000 [00:16<00:01, 58.80it/s]",
            "\rSamples collected:  90%|████████▉ | 895/1000 [00:16<00:01, 60.65it/s]",
            "\rSamples collected:  90%|█████████ | 902/1000 [00:16<00:01, 62.03it/s]",
            "\rSamples collected:  91%|█████████ | 909/1000 [00:16<00:01, 63.40it/s]",
            "\rSamples collected:  92%|█████████▏| 916/1000 [00:16<00:01, 64.06it/s]",
            "\rSamples collected:  92%|█████████▏| 923/1000 [00:17<00:01, 64.90it/s]",
            "\rSamples collected:  93%|█████████▎| 930/1000 [00:17<00:01, 65.95it/s]",
            "\rSamples collected:  94%|█████████▎| 937/1000 [00:17<00:00, 66.73it/s]",
            "\rSamples collected:  94%|█████████▍| 944/1000 [00:17<00:00, 66.09it/s]",
            "\rSamples collected:  95%|█████████▌| 951/1000 [00:17<00:00, 64.82it/s]",
            "\rSamples collected:  96%|█████████▌| 958/1000 [00:17<00:00, 62.94it/s]",
            "\rSamples collected:  96%|█████████▋| 965/1000 [00:17<00:00, 61.65it/s]",
            "\rSamples collected:  97%|█████████▋| 972/1000 [00:17<00:00, 61.18it/s]",
            "\rSamples collected:  98%|█████████▊| 979/1000 [00:17<00:00, 60.73it/s]",
            "\rSamples collected:  99%|█████████▊| 986/1000 [00:18<00:00, 60.90it/s]",
            "\rSamples collected:  99%|█████████▉| 993/1000 [00:18<00:00, 62.08it/s]",
            "\rSamples collected: 100%|██████████| 1000/1000 [00:18<00:00, 63.00it/s]",
            "\rSamples collected: 100%|██████████| 1000/1000 [00:18<00:00, 54.71it/s]",
            "\n"
          ]
        }
      ]
    },
    {
      "cell_type": "code",
      "metadata": {
        "originalKey": "f5653aef-f1c3-4251-b5a7-95563da6b76e",
        "collapsed": false
      },
      "source": [
        "# g = sns.displot(\n",
        "#     pd.DataFrame(samples[beta()].squeeze().numpy()).melt(),\n",
        "#     col='variable',\n",
        "#     col_wrap=3,\n",
        "#     x='value',\n",
        "# )\n",
        "# g.map_dataframe(annotate)"
      ],
      "execution_count": 12,
      "outputs": []
    }
  ]
}
