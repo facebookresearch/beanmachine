{
 "cells": [
  {
   "cell_type": "markdown",
   "metadata": {},
   "source": [
    "# Normal Normal"
   ]
  },
  {
   "cell_type": "code",
   "execution_count": null,
   "metadata": {},
   "outputs": [],
   "source": [
    "import torch\n",
    "import torch.distributions as dist\n",
    "import pandas as pd\n",
    "import seaborn as sns\n",
    "\n",
    "sns.set_style(\"darkgrid\")\n",
    "\n",
    "import beanmachine.ppl as bm\n",
    "\n",
    "class NormalNormal:\n",
    "    @bm.random_variable\n",
    "    def mu(self):\n",
    "        return dist.Normal(0, 1)\n",
    "    \n",
    "    @bm.random_variable\n",
    "    def x(self, i):\n",
    "        return dist.Normal(self.mu(), 1)"
   ]
  },
  {
   "cell_type": "code",
   "execution_count": null,
   "metadata": {},
   "outputs": [],
   "source": [
    "from beanmachine.ppl.experimental.vi.VariationalInfer import MeanFieldVariationalInference\n",
    "\n",
    "model = NormalNormal()\n",
    "\n",
    "vi = MeanFieldVariationalInference()\n",
    "queries = [model.mu()]\n",
    "obs = {\n",
    "    model.x(0): torch.tensor(10.0),\n",
    "}\n",
    "vi_dicts = vi.infer(queries, obs, num_iter=500, lr=1e-2, num_flows=1)"
   ]
  },
  {
   "cell_type": "code",
   "execution_count": null,
   "metadata": {},
   "outputs": [],
   "source": [
    "x = torch.linspace(0, 12).unsqueeze(1)\n",
    "p = torch.exp(vi_dicts[model.mu()].log_prob(x))\n",
    "sns.relplot(data=pd.DataFrame({\n",
    "    \"x\": x.flatten().detach().numpy(),\n",
    "    \"p\": p.flatten().detach().numpy(),\n",
    "}), x=\"x\", y=\"p\", kind=\"line\")"
   ]
  },
  {
   "cell_type": "code",
   "execution_count": null,
   "metadata": {},
   "outputs": [],
   "source": [
    "sns.displot(vi_dicts[model.mu()].sample((100,1)).detach().numpy())"
   ]
  },
  {
   "cell_type": "code",
   "execution_count": null,
   "metadata": {},
   "outputs": [],
   "source": [
    "import beanmachine.ppl as bm\n",
    "\n",
    "mcmc = bm.SingleSiteHamiltonianMonteCarlo(path_length=10)\n",
    "samples = mcmc.infer(queries, obs, num_samples=100, num_chains=1)\n",
    "sns.displot(samples[model.mu()].flatten().numpy())"
   ]
  },
  {
   "cell_type": "code",
   "execution_count": null,
   "metadata": {},
   "outputs": [],
   "source": []
  }
 ],
 "metadata": {
  "kernelspec": {
   "display_name": "Python 3",
   "language": "python",
   "name": "python3"
  },
  "language_info": {
   "codemirror_mode": {
    "name": "ipython",
    "version": 3
   },
   "file_extension": ".py",
   "mimetype": "text/x-python",
   "name": "python",
   "nbconvert_exporter": "python",
   "pygments_lexer": "ipython3",
   "version": "3.7.8"
  }
 },
 "nbformat": 4,
 "nbformat_minor": 4
}
