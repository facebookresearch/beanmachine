{
 "cells": [
  {
   "cell_type": "code",
   "execution_count": 1,
   "metadata": {},
   "outputs": [],
   "source": [
    "%load_ext autoreload\n",
    "%autoreload 1\n",
    "%aimport beanmachine.ppl"
   ]
  },
  {
   "cell_type": "markdown",
   "metadata": {},
   "source": [
    "From PRML Section 10.2.6"
   ]
  },
  {
   "cell_type": "code",
   "execution_count": 79,
   "metadata": {},
   "outputs": [],
   "source": [
    "import beanmachine.ppl as bm\n",
    "from beanmachine.ppl.distributions import Flat\n",
    "import torch\n",
    "import torch.distributions as dist\n",
    "import torch.nn.functional as F\n",
    "\n",
    "K = 2\n",
    "\n",
    "@bm.random_variable\n",
    "def mu(k: int):\n",
    "    return Flat()\n",
    "\n",
    "@bm.random_variable\n",
    "def sigma(k: int):\n",
    "    return Flat()\n",
    "\n",
    "@bm.random_variable\n",
    "def mixture_probs():\n",
    "    return dist.Dirichlet(0.5*torch.ones(K))\n",
    "\n",
    "@bm.random_variable\n",
    "def cluster_assignment(i: int):\n",
    "    return dist.Categorical(probs=mixture_probs())\n",
    "\n",
    "@bm.random_variable\n",
    "def x(i: int):\n",
    "    k = cluster_assignment(i).int().item()\n",
    "    return dist.Normal(mu(k), F.softplus(sigma(k)))"
   ]
  },
  {
   "cell_type": "code",
   "execution_count": 91,
   "metadata": {},
   "outputs": [],
   "source": [
    "true_dist = dist.MixtureSameFamily(\n",
    "    dist.Categorical(torch.tensor([0.4, 0.6])),\n",
    "    dist.Normal(1*torch.tensor([-1., 1.]), 0.1*torch.tensor([1., 1.])),\n",
    ")\n",
    "N = 20\n",
    "X = true_dist.sample((N,))"
   ]
  },
  {
   "cell_type": "code",
   "execution_count": 92,
   "metadata": {},
   "outputs": [
    {
     "data": {
      "text/plain": [
       "<AxesSubplot:ylabel='Frequency'>"
      ]
     },
     "execution_count": 92,
     "metadata": {},
     "output_type": "execute_result"
    },
    {
     "data": {
      "image/png": "[encoded data removed]",
      "text/plain": [
       "<Figure size 432x288 with 1 Axes>"
      ]
     },
     "metadata": {},
     "output_type": "display_data"
    }
   ],
   "source": [
    "import matplotlib.pyplot as plt; plt.style.use('ggplot')\n",
    "import numpy as np\n",
    "import pandas as pd\n",
    "\n",
    "fig, ax = plt.subplots(1,1)\n",
    "pd.DataFrame({'x': X}).plot(kind='hist', ax=ax)"
   ]
  },
  {
   "cell_type": "code",
   "execution_count": 127,
   "metadata": {},
   "outputs": [],
   "source": [
    "@bm.param\n",
    "def r(i: int):\n",
    "    return torch.rand((K,))*4-2\n",
    "\n",
    "@bm.random_variable\n",
    "def q_cluster_assignment(i: int):\n",
    "    return dist.Categorical(logits=r(i))\n",
    "\n",
    "@bm.param\n",
    "def mu_loc():\n",
    "    return torch.tensor([-2., 2.])\n",
    "\n",
    "@bm.param\n",
    "def mu_scale():\n",
    "    return 0.1*torch.ones((K,))\n",
    "\n",
    "@bm.random_variable\n",
    "def q_mu(k: int):\n",
    "    return dist.Normal(loc=mu_loc()[k], scale=F.softplus(mu_scale()[k]))\n",
    "\n",
    "@bm.param\n",
    "def sigma_loc():\n",
    "    return torch.rand((K,))*4-2\n",
    "\n",
    "@bm.param\n",
    "def sigma_scale():\n",
    "    return 0.1*torch.rand((K,))+0.01\n",
    "\n",
    "@bm.random_variable\n",
    "def q_sigma(k: int):\n",
    "    return dist.Normal(loc=sigma_loc()[k], scale=F.softplus(sigma_scale()[k]))\n"
   ]
  },
  {
   "cell_type": "markdown",
   "metadata": {},
   "source": [
    "We have to use the score function / REINFORCE estimator here since the cluster assignment is discrete so there is no gradient with respect to variational parameters"
   ]
  },
  {
   "cell_type": "code",
   "execution_count": 128,
   "metadata": {},
   "outputs": [],
   "source": [
    "%autoreload"
   ]
  },
  {
   "cell_type": "code",
   "execution_count": 170,
   "metadata": {},
   "outputs": [
    {
     "data": {
      "application/vnd.jupyter.widget-view+json": {
       "model_id": "3d9db8da35cc4c73b17fd81198bfd5f6",
       "version_major": 2,
       "version_minor": 0
      },
      "text/plain": [
       "  0%|          | 0/100 [00:00<?, ?it/s]"
      ]
     },
     "metadata": {},
     "output_type": "display_data"
    }
   ],
   "source": [
    "import torch.optim as optim\n",
    "from tqdm.auto import tqdm\n",
    "\n",
    "\n",
    "vi = bm.VariationalInfer(\n",
    "    queries_to_guides={\n",
    "        mu(k): q_mu(k) for k in range(K)\n",
    "    } | {\n",
    "        sigma(k): q_sigma(k) for k in range(K)\n",
    "    } | {\n",
    "        cluster_assignment(i): q_cluster_assignment(i) for i in range(N)\n",
    "    },\n",
    "    observations={x(i): X[i] for i in range(N)},\n",
    "    optimizer=lambda params: optim.Adam(params, lr=1e-1),\n",
    ")\n",
    "\n",
    "\n",
    "\n",
    "num_steps = 100\n",
    "losses = torch.empty(num_steps)\n",
    "log_probs = torch.empty(num_steps)\n",
    "for i in tqdm(range(num_steps)):\n",
    "    loss, _ = vi.step(\n",
    "        mc_approx=bm.inference.variational.variational_infer.monte_carlo_approximate_sf,\n",
    "        num_samples=2,\n",
    "    )\n",
    "    losses[i] = loss"
   ]
  },
  {
   "cell_type": "code",
   "execution_count": 171,
   "metadata": {},
   "outputs": [
    {
     "data": {
      "text/plain": [
       "<AxesSubplot:>"
      ]
     },
     "execution_count": 171,
     "metadata": {},
     "output_type": "execute_result"
    },
    {
     "data": {
      "image/png": "[encoded data removed]",
      "text/plain": [
       "<Figure size 432x288 with 1 Axes>"
      ]
     },
     "metadata": {},
     "output_type": "display_data"
    }
   ],
   "source": [
    "import pandas as pd\n",
    "\n",
    "pd.DataFrame({\n",
    "    'losses': losses.detach().numpy(),\n",
    "}).plot(kind='line')"
   ]
  },
  {
   "cell_type": "code",
   "execution_count": 172,
   "metadata": {},
   "outputs": [
    {
     "data": {
      "text/plain": [
       "[(Normal(loc: -0.9476402997970581, scale: 0.6991487145423889), set()),\n",
       " (Normal(loc: 2.149923086166382, scale: 1.2238078117370605), set())]"
      ]
     },
     "execution_count": 172,
     "metadata": {},
     "output_type": "execute_result"
    }
   ],
   "source": [
    "[vi._world._run_node(q_mu(k)) for k in range(2)]"
   ]
  },
  {
   "cell_type": "code",
   "execution_count": 173,
   "metadata": {},
   "outputs": [
    {
     "data": {
      "text/plain": [
       "(0.0, 1.0)"
      ]
     },
     "execution_count": 173,
     "metadata": {},
     "output_type": "execute_result"
    },
    {
     "data": {
      "image/png": "[encoded data removed]",
      "text/plain": [
       "<Figure size 432x288 with 1 Axes>"
      ]
     },
     "metadata": {},
     "output_type": "display_data"
    }
   ],
   "source": [
    "import matplotlib.pyplot as plt; plt.style.use('ggplot')\n",
    "import numpy as np\n",
    "\n",
    "fig, ax = plt.subplots(1,1)\n",
    "pd.DataFrame({'x': X}).plot(kind='kde', ax=ax)\n",
    "\n",
    "xs = np.linspace(-6, 6, num=100)\n",
    "for k in range(K):\n",
    "    ax.plot(xs, vi._world._run_node(q_mu(k))[0].log_prob(torch.tensor(xs)).exp().detach().numpy())\n",
    "\n",
    "ax.set_ylim([0, 1])"
   ]
  },
  {
   "cell_type": "code",
   "execution_count": 174,
   "metadata": {},
   "outputs": [
    {
     "data": {
      "text/plain": [
       "<AxesSubplot:xlabel='x', ylabel='r'>"
      ]
     },
     "execution_count": 174,
     "metadata": {},
     "output_type": "execute_result"
    },
    {
     "data": {
      "image/png": "[encoded data removed]",
      "text/plain": [
       "<Figure size 432x288 with 1 Axes>"
      ]
     },
     "metadata": {},
     "output_type": "display_data"
    }
   ],
   "source": [
    "import seaborn as sns; sns.set_context('notebook')\n",
    "\n",
    "pd.DataFrame({\n",
    "    'x': X,\n",
    "    'r': [vi._world._run_node(q_cluster_assignment(i))[0].probs[1].detach() for i in range(N)],\n",
    "}).plot(kind='scatter', x='x', y='r')"
   ]
  },
  {
   "cell_type": "code",
   "execution_count": null,
   "metadata": {},
   "outputs": [],
   "source": []
  }
 ],
 "metadata": {
  "interpreter": {
   "hash": "2d13082b4bd245bb7b08aea3b25cb3b8185404358d859b3f501f7ea456008ea8"
  },
  "kernelspec": {
   "display_name": "Python 3.9.9 64-bit",
   "language": "python",
   "name": "python3"
  },
  "language_info": {
   "codemirror_mode": {
    "name": "ipython",
    "version": 3
   },
   "file_extension": ".py",
   "mimetype": "text/x-python",
   "name": "python",
   "nbconvert_exporter": "python",
   "pygments_lexer": "ipython3",
   "version": "3.9.9"
  },
  "orig_nbformat": 4
 },
 "nbformat": 4,
 "nbformat_minor": 2
}
