{
 "cells": [
  {
   "cell_type": "markdown",
   "metadata": {},
   "source": [
    "## Tutorial - Sampling sparse logistic regression"
   ]
  },
  {
   "cell_type": "markdown",
   "metadata": {},
   "source": [
    "Author: Shidi Zhao (zhao5@fb.com)"
   ]
  },
  {
   "cell_type": "markdown",
   "metadata": {},
   "source": [
    "The purpose of this tutorial is to demonstrate how to generate data to train a sparse logistic regression model in Bean Machine and present some inference methods that Bean Machine provides to sample this model, and showcase of how to use german-numeric data to train the sparse logistic regression model."
   ]
  },
  {
   "cell_type": "markdown",
   "metadata": {},
   "source": [
    "## Problem"
   ]
  },
  {
   "cell_type": "markdown",
   "metadata": {},
   "source": [
    "Logistic Regression is a very commonly used statistical method that allows us to predict a binary output from a set of independent variables. Suppose we have some prior knowledge about the data generated from the logistic regression model, we can sample the logistic regression model from the prior. The sparse logistic regression is a type of logistic regression model, it embeds feature selection in the classification by adding overall and pre-dimension scale factors, and has many applications in high-dimensional data, such as classifying credit score. So here, to sample the sparse logistic regression in Bean Machine, we first implement the sparse logistic regression model in Bean Machine and then try to sample it with various inference methods."
   ]
  },
  {
   "cell_type": "markdown",
   "metadata": {},
   "source": [
    "## Sparse logistic regression"
   ]
  },
  {
   "cell_type": "markdown",
   "metadata": {},
   "source": [
    "Sparse logistic regression is a hierarchical logistic regression with a sparse prior $\\tau$. We consider the model as following:\n",
    "\n",
    "   $$\n",
    "\\begin{array}{lcl}\n",
    "\\tau {\\sim} Gamma(\\alpha = 0.5, \\beta = 0.5) \\\\\n",
    "\\lambda_d{\\sim} Gamma(\\alpha = 0.5, \\beta = 0.5) \\\\\n",
    "\\beta_d{\\sim} Normal(0,1) \\\\\n",
    "y_n{\\sim}Bernoulli(\\sigma({X}^T(\\tau\\beta \\circ \\lambda))) \\\\\n",
    "\\end{array}\n",
    "$$\n",
    "\n",
    "Here $\\tau$ is the global shrinkage, $\\lambda$ is local shrinkage,$\\beta \\circ \\lambda$ denotes the elementwise product of $\\beta$ and $\\lambda$."
   ]
  },
  {
   "cell_type": "markdown",
   "metadata": {},
   "source": [
    "## Prerequisites"
   ]
  },
  {
   "cell_type": "markdown",
   "metadata": {},
   "source": [
    "Please import the following code packages for the rest of the code in the tutorial to work."
   ]
  },
  {
   "cell_type": "code",
   "execution_count": 40,
   "metadata": {
    "collapsed": true
   },
   "outputs": [],
   "source": [
    "# unittest\n",
    "import torch\n",
    "import numpy as np\n",
    "import beanmachine.ppl as bm\n",
    "from torch.distributions import *\n",
    "from beanmachine.ppl.diagnostics.diagnostics import BaseDiagnostics\n",
    "from beanmachine.ppl.inference.abstract_infer import (\n",
    "    VerboseLevel,\n",
    ")\n",
    "from torch import tensor,manual_seed, arange, float32, zeros, ones, randn\n",
    "import matplotlib.pyplot as plt\n",
    "import pandas as pd"
   ]
  },
  {
   "cell_type": "markdown",
   "metadata": {},
   "source": [
    "## Data generation "
   ]
  },
  {
   "cell_type": "markdown",
   "metadata": {},
   "source": [
    "To get the prior knowledge about the model, we can generate some data (x,y) use a pre-defined sparse logistic regression model with generated $\\tau$-value, $\\lambda$-value, and $\\beta$-value. Then we divide the generated data into training(50%) and test data(50%) and give the training data for inference and measure log_prob of test data."
   ]
  },
  {
   "cell_type": "code",
   "execution_count": 41,
   "metadata": {
    "collapsed": true
   },
   "outputs": [],
   "source": [
    "# unittest\n",
    "manual_seed(40)\n",
    "\n",
    "D=3 #number of predictors\n",
    "N=100 #number of observations\n",
    "\n",
    "tau_value = Gamma(tensor(0.5),tensor(0.5)).sample()\n",
    "lambda_value = Gamma(0.5,0.5).sample(sample_shape=(D,1))\n",
    "beta_value = Normal(0,1).sample(sample_shape=(D,1))\n",
    "X = Normal(0,10).sample(sample_shape=(N,D)) \n",
    "mu = X.mm(torch.mul(tau_value*beta_value,lambda_value))\n",
    "Y= Bernoulli(logits=mu).sample()"
   ]
  },
  {
   "cell_type": "code",
   "execution_count": 42,
   "metadata": {
    "collapsed": true
   },
   "outputs": [],
   "source": [
    "# unittest\n",
    "train_size=test_size= int(N/2)\n",
    "\n",
    "TRAIN_DATA_X = X[:train_size]\n",
    "TEST_DATA_X = X[test_size:]\n",
    "TRAIN_DATA_Y = Y[:train_size]\n",
    "TEST_DATA_Y = Y[test_size:]"
   ]
  },
  {
   "cell_type": "markdown",
   "metadata": {},
   "source": [
    "## Model"
   ]
  },
  {
   "cell_type": "markdown",
   "metadata": {},
   "source": [
    "To implement sparse logistic regression model in Bean Machine, we have random variable $\\tau$(), $\\lambda$(), $\\beta$() and y(). Here, we sample the random variables using MCMC, the observation here is the training data. Then we compute the predictive log-likelihood using test data. The predictive log-likelihood has an important role in statistical model comparison, the highest predictive log-likelihood will have the highest posterior probability, thus it can measure how the model fits overall."
   ]
  },
  {
   "cell_type": "code",
   "execution_count": 44,
   "metadata": {
    "collapsed": true
   },
   "outputs": [],
   "source": [
    "# unittest\n",
    "class Sparse(object):\n",
    "    def __init__(self,num_predictors,train_x,test_x,test_y):\n",
    "        self.D = num_predictors\n",
    "        self.TRAIN_DATA_X = train_x\n",
    "        self.TEST_DATA_X=test_x\n",
    "        self.TEST_DATA_Y=test_y\n",
    "        \n",
    "    @bm.random_variable\n",
    "    def tau(self):\n",
    "        return Gamma(tensor(0.5), tensor(0.5))\n",
    "\n",
    "    @bm.random_variable\n",
    "    def lambda_(self):\n",
    "        return Gamma(tensor([[0.5]] * (self.D)), tensor([[0.5]] * (self.D)))\n",
    "\n",
    "    @bm.random_variable\n",
    "    def beta(self):\n",
    "        return Normal(zeros((self.D, 1)), ones((self.D, 1)))\n",
    "\n",
    "    @bm.random_variable\n",
    "    def y(self):\n",
    "        y_=self.TRAIN_DATA_X.mm(torch.mul(self.tau()*self.beta(),self.lambda_()))\n",
    "        return Bernoulli(logits=y_)\n",
    "\n",
    "    @bm.functional\n",
    "    def log_prob_test(self):\n",
    "        y = self.TEST_DATA_X.mm(torch.mul(self.tau()*self.beta(),self.lambda_()))\n",
    "        s =(Bernoulli(logits=y)).log_prob(self.TEST_DATA_Y).sum()\n",
    "        return s"
   ]
  },
  {
   "cell_type": "markdown",
   "metadata": {},
   "source": [
    "## Inference"
   ]
  },
  {
   "cell_type": "markdown",
   "metadata": {},
   "source": [
    "Now, we will go through the performance of different inference methods on this model. We will investigate different inference algorithms, single-site Hamiltonian Monte Carlo (HMC), single-site MetropolisHastings, and single-site Newtonian Monte Carlo (NMC)"
   ]
  },
  {
   "cell_type": "markdown",
   "metadata": {},
   "source": [
    "### Single-site NMC"
   ]
  },
  {
   "cell_type": "code",
   "execution_count": 45,
   "metadata": {
    "collapsed": true
   },
   "outputs": [],
   "source": [
    "s = Sparse(D,TRAIN_DATA_X,TEST_DATA_X,TEST_DATA_Y)\n",
    "dict_y = {s.y(): TRAIN_DATA_Y}\n",
    "nw = bm.SingleSiteNewtonianMonteCarlo()\n",
    "samples_nw = nw.infer([s.log_prob_test(),s.tau(),s.lambda_(),s.beta()], dict_y , 1000, 3,verbose=VerboseLevel.OFF)"
   ]
  },
  {
   "cell_type": "code",
   "execution_count": 46,
   "metadata": {
    "collapsed": true
   },
   "outputs": [],
   "source": [
    "post_nw = tensor(samples_nw[s.log_prob_test()])\n",
    "p_nw=post_nw.cumsum(dim=0) / arange(1, len(post_nw[0])+1)"
   ]
  },
  {
   "cell_type": "markdown",
   "metadata": {},
   "source": [
    "## Visualizations"
   ]
  },
  {
   "cell_type": "markdown",
   "metadata": {},
   "source": [
    "Visualize the posterior of the latent variables, and the growth of the cumulative average log-likelihood of test data."
   ]
  },
  {
   "cell_type": "code",
   "execution_count": 115,
   "metadata": {
    "collapsed": true
   },
   "outputs": [],
   "source": [
    "def plots(sample,random_variable,true_value,sample_size):\n",
    "    \n",
    "    #posterior of random variable\n",
    "    plt.figure(figsize=(10,8))\n",
    "    plt.hist([sample[random_variable][0, i, 0].item() for i in range(sample_size)], bins=20)\n",
    "    if true_value:\n",
    "        plt.axvline(x=round(true_value.mean().item(), 3), c='k', linewidth=5) "
   ]
  },
  {
   "cell_type": "markdown",
   "metadata": {},
   "source": [
    "Posterior of $\\lambda$ "
   ]
  },
  {
   "cell_type": "code",
   "execution_count": 50,
   "metadata": {},
   "outputs": [
    {
     "data": {
      "image/png": "[encoded data removed]",
      "text/plain": [
       "<Figure size 720x576 with 1 Axes>"
      ]
     },
     "metadata": {
      "bento_obj_id": "140360171793360",
      "needs_background": "light"
     },
     "output_type": "display_data"
    }
   ],
   "source": [
    "plots(samples_nw,s.lambda_(),lambda_value,1000)"
   ]
  },
  {
   "cell_type": "markdown",
   "metadata": {},
   "source": [
    "Posterior of $\\beta$ "
   ]
  },
  {
   "cell_type": "code",
   "execution_count": 51,
   "metadata": {},
   "outputs": [
    {
     "data": {
      "image/png": "[encoded data removed]",
      "text/plain": [
       "<Figure size 720x576 with 1 Axes>"
      ]
     },
     "metadata": {
      "bento_obj_id": "140360171503888",
      "needs_background": "light"
     },
     "output_type": "display_data"
    }
   ],
   "source": [
    "plots(samples_nw,s.beta(),beta_value,1000)"
   ]
  },
  {
   "cell_type": "markdown",
   "metadata": {},
   "source": [
    "## Analysis¶"
   ]
  },
  {
   "cell_type": "markdown",
   "metadata": {},
   "source": [
    "Here, we compare the mean value of tao, lambda and beat with the generated $\\tau$-value, $\\lambda$-value, and $\\beta$-value, and compute the effective sample size and r hat of the samples as well."
   ]
  },
  {
   "cell_type": "code",
   "execution_count": 56,
   "metadata": {
    "collapsed": true
   },
   "outputs": [],
   "source": [
    "def analysis(label,samples, model_tao,model_lambda,model_beta,D,tau_value,lambda_value,beta_value):\n",
    "    \n",
    "    Tau = samples[model_tao].detach()\n",
    "    Lambda = samples[model_lambda].detach()\n",
    "    Beta=samples[model_beta].detach()\n",
    "    \n",
    "    if tau_value:\n",
    "        print(\"for \"+label+\":\")\n",
    "        data = [[round(samples[model_tao].mean().item(), D),round(tau_value.mean().item(), D)],[round(samples[model_lambda].mean().item(), D),round(lambda_value.mean().item(), D)],[round(samples[model_beta].mean().item(), D),round(beta_value.mean().item(), D)]]\n",
    "        df = pd.DataFrame(data,columns=['Predicted value','True value'],index=['Tao','Lambda','Beta'])\n",
    "        print(df)\n",
    "    else:\n",
    "        print(\"for \"+label+\":\")\n",
    "        data = [[round(samples[model_tao].mean().item(), D)],[round(samples[model_lambda].mean().item(), D)],[round(samples[model_beta].mean().item(), D)]]\n",
    "        df = pd.DataFrame(data,columns=['Predicted value'],index=['Tao','Lambda','Beta'])\n",
    "        print(df)\n",
    "    \n",
    "    print(\"for \"+label+\":\")\n",
    "    data = [[round(bm.effective_sample_size(Tau).mean().item(),D),round(bm.split_r_hat(Tau).mean().item(),D)],[round(bm.effective_sample_size(Lambda).mean().item(),D),round(bm.split_r_hat(Lambda).mean().item(),D)],[round(bm.effective_sample_size(Beta).mean().item(),D),round(bm.split_r_hat(Beta).mean().item(),D)]]\n",
    "    df = pd.DataFrame(data,columns=['effective_sample_size','r_hat'],index=['Tao','Lambda','Beta'])\n",
    "    print(df)     "
   ]
  },
  {
   "cell_type": "code",
   "execution_count": 57,
   "metadata": {},
   "outputs": [
    {
     "name": "stdout",
     "output_type": "stream",
     "text": [
      "for Single-site NMC:\n",
      "        Predicted value  True value\n",
      "Tao               0.124       0.001\n",
      "Lambda            0.659       1.155\n",
      "Beta             -0.206      -0.314\n",
      "for Single-site NMC:\n",
      "        effective_sample_size  r_hat\n",
      "Tao                   282.737  1.012\n",
      "Lambda                729.189  1.002\n",
      "Beta                 1610.244  1.002\n"
     ]
    }
   ],
   "source": [
    "analysis(\"Single-site NMC\",samples_nw,s.tau(),s.lambda_(),s.beta(),D,tau_value,lambda_value,beta_value)"
   ]
  },
  {
   "cell_type": "markdown",
   "metadata": {},
   "source": [
    "From the analysis, we can see the lambda would get stuck with half-space proposer in NMC. Since it is in half-space, so it initializes the value with 1. We can see from the mean value of $\\lambda$, it does not move. And we try with the current real space proposer, the acceptance is 5% for 100 samples. We would continue working on this model with the latest NMC inference method."
   ]
  },
  {
   "cell_type": "markdown",
   "metadata": {},
   "source": [
    "### Single-site MetropolisHastings"
   ]
  },
  {
   "cell_type": "code",
   "execution_count": 58,
   "metadata": {
    "collapsed": true
   },
   "outputs": [],
   "source": [
    "s = Sparse(D,TRAIN_DATA_X,TEST_DATA_X,TEST_DATA_Y)\n",
    "mh = bm.SingleSiteAncestralMetropolisHastings()\n",
    "samples_mh = mh.infer([s.log_prob_test(),s.tau(),s.lambda_(),s.beta()], dict_y, 1000, 3,verbose=VerboseLevel.OFF)"
   ]
  },
  {
   "cell_type": "code",
   "execution_count": 59,
   "metadata": {
    "collapsed": true
   },
   "outputs": [],
   "source": [
    "post_mh = tensor(samples_mh[s.log_prob_test()])\n",
    "p_mh=post_mh.cumsum(dim=0) / arange(1, len(post_mh[0])+1)"
   ]
  },
  {
   "cell_type": "code",
   "execution_count": 60,
   "metadata": {},
   "outputs": [
    {
     "data": {
      "image/png": "[encoded data removed]",
      "text/plain": [
       "<Figure size 720x576 with 1 Axes>"
      ]
     },
     "metadata": {
      "bento_obj_id": "140360162113936",
      "needs_background": "light"
     },
     "output_type": "display_data"
    }
   ],
   "source": [
    "plots(samples_mh,s.lambda_(),lambda_value,1000)"
   ]
  },
  {
   "cell_type": "code",
   "execution_count": 61,
   "metadata": {},
   "outputs": [
    {
     "data": {
      "image/png": "[encoded data removed]",
      "text/plain": [
       "<Figure size 720x576 with 1 Axes>"
      ]
     },
     "metadata": {
      "bento_obj_id": "140360161102032",
      "needs_background": "light"
     },
     "output_type": "display_data"
    }
   ],
   "source": [
    "plots(samples_mh,s.beta(),beta_value,1000)"
   ]
  },
  {
   "cell_type": "code",
   "execution_count": 62,
   "metadata": {},
   "outputs": [
    {
     "name": "stdout",
     "output_type": "stream",
     "text": [
      "for Single-site MH:\n",
      "        Predicted value  True value\n",
      "Tao               0.956       0.001\n",
      "Lambda            0.988       1.155\n",
      "Beta              0.003      -0.314\n",
      "for Single-site MH:\n",
      "        effective_sample_size  r_hat\n",
      "Tao                  2241.793  1.003\n",
      "Lambda               2832.573  1.000\n",
      "Beta                 2918.648  1.000\n"
     ]
    }
   ],
   "source": [
    "analysis(\"Single-site MH\",samples_mh,s.tau(),s.lambda_(),s.beta(),D,tau_value,lambda_value,beta_value)"
   ]
  },
  {
   "cell_type": "markdown",
   "metadata": {},
   "source": [
    "### Single-site HMC"
   ]
  },
  {
   "cell_type": "code",
   "execution_count": 63,
   "metadata": {
    "collapsed": true
   },
   "outputs": [],
   "source": [
    "s = Sparse(D,TRAIN_DATA_X,TEST_DATA_X,TEST_DATA_Y)\n",
    "step_size = 0.5\n",
    "num_steps=1\n",
    "hmc = bm.SingleSiteHamiltonianMonteCarlo(step_size, num_steps)\n",
    "samples_hmc = hmc.infer([s.log_prob_test(),s.tau(),s.lambda_(),s.beta()], dict_y , 1000, 3,verbose=VerboseLevel.OFF)"
   ]
  },
  {
   "cell_type": "code",
   "execution_count": 64,
   "metadata": {
    "collapsed": true
   },
   "outputs": [],
   "source": [
    "post_hmc = tensor(samples_hmc[s.log_prob_test()])\n",
    "p_hmc=post_hmc.cumsum(dim=0) / arange(1, len(post_hmc[0])+1)"
   ]
  },
  {
   "cell_type": "code",
   "execution_count": 65,
   "metadata": {},
   "outputs": [
    {
     "data": {
      "image/png": "[encoded data removed]",
      "text/plain": [
       "<Figure size 720x576 with 1 Axes>"
      ]
     },
     "metadata": {
      "bento_obj_id": "140359992080336",
      "needs_background": "light"
     },
     "output_type": "display_data"
    }
   ],
   "source": [
    "plots(samples_hmc,s.lambda_(),lambda_value,1000)"
   ]
  },
  {
   "cell_type": "code",
   "execution_count": 66,
   "metadata": {},
   "outputs": [
    {
     "data": {
      "image/png": "[encoded data removed]",
      "text/plain": [
       "<Figure size 720x576 with 1 Axes>"
      ]
     },
     "metadata": {
      "bento_obj_id": "140359991756752",
      "needs_background": "light"
     },
     "output_type": "display_data"
    }
   ],
   "source": [
    "plots(samples_hmc,s.beta(),beta_value,1000)"
   ]
  },
  {
   "cell_type": "code",
   "execution_count": 67,
   "metadata": {},
   "outputs": [
    {
     "name": "stdout",
     "output_type": "stream",
     "text": [
      "for Single-site HMC:\n",
      "        Predicted value  True value\n",
      "Tao               0.011       0.001\n",
      "Lambda            0.005       1.155\n",
      "Beta             -0.017      -0.314\n",
      "for Single-site HMC:\n",
      "        effective_sample_size  r_hat\n",
      "Tao                    91.508  1.021\n",
      "Lambda                187.690  1.010\n",
      "Beta                 1000.064  1.002\n"
     ]
    }
   ],
   "source": [
    "analysis(\"Single-site HMC\",samples_hmc,s.tau(),s.lambda_(),s.beta(),D,tau_value,lambda_value,beta_value)"
   ]
  },
  {
   "cell_type": "markdown",
   "metadata": {},
   "source": [
    "in HMC inference, lambda has a hard time to move."
   ]
  },
  {
   "cell_type": "markdown",
   "metadata": {},
   "source": [
    "## Log_prob analysis"
   ]
  },
  {
   "cell_type": "code",
   "execution_count": 68,
   "metadata": {},
   "outputs": [
    {
     "name": "stdout",
     "output_type": "stream",
     "text": [
      "true log_prob value of test data: tensor(-34.6161)\n"
     ]
    }
   ],
   "source": [
    "y = TEST_DATA_X.mm(torch.mul(tau_value*beta_value,lambda_value))\n",
    "s =(Bernoulli(logits=y)).log_prob(TEST_DATA_Y).sum()\n",
    "print(\"true log_prob value of test data:\",s)"
   ]
  },
  {
   "cell_type": "code",
   "execution_count": 106,
   "metadata": {},
   "outputs": [
    {
     "data": {
      "image/png": "[encoded data removed]",
      "text/plain": [
       "<Figure size 432x288 with 1 Axes>"
      ]
     },
     "metadata": {
      "bento_obj_id": "140360299651024",
      "needs_background": "light"
     },
     "output_type": "display_data"
    }
   ],
   "source": [
    "p_nw = post_nw.cumsum(dim=1)/ arange(1, len(post_mh[0])+1)\n",
    "p_mh = post_mh.cumsum(dim=1)/ arange(1, len(post_mh[0])+1)\n",
    "p_hmc = post_hmc.cumsum(dim=1)/ arange(1, len(post_mh[0])+1)\n",
    "\n",
    "x = np.linspace(0, 1000, 100)\n",
    "fig, ax = plt.subplots()\n",
    "ax.plot(p_nw[-1],color=\"purple\",linewidth=5,label='NMC')\n",
    "ax.plot(p_mh[-1],color=\"orange\",linewidth=5,label='MH')\n",
    "ax.plot(p_hmc[-1],color=\"blue\",linewidth=5,label='HMC')\n",
    "ax.axis('equal')\n",
    "leg = ax.legend()"
   ]
  },
  {
   "cell_type": "code",
   "execution_count": 141,
   "metadata": {},
   "outputs": [],
   "source": [
    "def analysis_log(p_nw,p_mh,p_hmc,true_value,sample_size):\n",
    "    if true_value:\n",
    "        data = [[round(p_nw[-1].mean().item(), sample_size),true_value],[round(p_mh[-1].mean().item(), sample_size),true_value],[round(p_hmc[-1].mean().item(), sample_size),true_value]]\n",
    "        df = pd.DataFrame(data,columns=['Predicted value','True value'],index=['NMC','MH','HMC'])\n",
    "        print(df)\n",
    "    else:\n",
    "        data = [[round(p_nw[-1].mean().item(), sample_size)],[round(p_mh[-1].mean().item(), sample_size)],[round(p_hmc[-1].mean().item(), sample_size)]]\n",
    "        df = pd.DataFrame(data,columns=['Predicted value'],index=['NMC','MH','HMC'])\n",
    "        print(df)"
   ]
  },
  {
   "cell_type": "code",
   "execution_count": 96,
   "metadata": {},
   "outputs": [
    {
     "name": "stdout",
     "output_type": "stream",
     "text": [
      "     Predicted value  True value\n",
      "NMC       -35.263012  -34.616058\n",
      "MH       -329.300000  -34.616058\n",
      "HMC       -34.657000  -34.616058\n"
     ]
    }
   ],
   "source": [
    "analysis_log(p_nw,p_mh,p_hmc,s.item(),1000)"
   ]
  },
  {
   "cell_type": "markdown",
   "metadata": {},
   "source": [
    "## German-numeric data"
   ]
  },
  {
   "cell_type": "markdown",
   "metadata": {},
   "source": [
    "Next, we consider our sparse logistic regression model with German credit dataset, you can download the data from: https://archive.ics.uci.edu/ml/machine-learning-databases/statlog/german/german.data-numeric. \n",
    "We use the numeric variant of the german credit dataset, with the covariates standardized to range between -1 and 1. With the addition of a constant factor, this yields 25 covariates (the data preprocess is the same as [NeuTra](https://arxiv.org/pdf/1903.03704.pdf) paper."
   ]
  },
  {
   "cell_type": "code",
   "execution_count": 107,
   "metadata": {},
   "outputs": [],
   "source": [
    "data = np.genfromtxt(\"german.data-numeric\")\n",
    "x = data[:, :-1]\n",
    "y = (data[:, -1] - 1)\n",
    "x_min = np.min(x, 0, keepdims=True)\n",
    "x_max = np.max(x, 0, keepdims=True)\n",
    "x /= (x_max - x_min)\n",
    "x = 2.0 * x - 1.0\n",
    "x = np.concatenate([x, np.ones([x.shape[0], 1])], -1)\n",
    "x =[torch.from_numpy(x[i]) for i in range(1000)]\n",
    "y = torch.from_numpy(y).view(len(x),1)\n",
    "D,N=len(x[0]),len(x)"
   ]
  },
  {
   "cell_type": "markdown",
   "metadata": {},
   "source": [
    "Since we only want to use all the data to train the model, we do not have test data as the previous case. here in the input, test data is the same as training data, which is the whole data set. And we use log_prob_test() to compute the predictive log-likelihood of training data."
   ]
  },
  {
   "cell_type": "code",
   "execution_count": 108,
   "metadata": {
    "collapsed": true
   },
   "outputs": [],
   "source": [
    "train_size=test_size= int(N/2)\n",
    "TRAIN_DATA_X = torch.stack(x[:train_size]).float()\n",
    "TEST_DATA_X = torch.stack(x[test_size:]).float()\n",
    "TRAIN_DATA_Y = y[:train_size]\n",
    "TEST_DATA_Y=y[test_size:]"
   ]
  },
  {
   "cell_type": "code",
   "execution_count": 109,
   "metadata": {
    "collapsed": true
   },
   "outputs": [],
   "source": [
    "s = Sparse(D,TRAIN_DATA_X,TEST_DATA_X,TEST_DATA_Y)"
   ]
  },
  {
   "cell_type": "code",
   "execution_count": 110,
   "metadata": {
    "collapsed": true
   },
   "outputs": [],
   "source": [
    "dict_y = {s.y(): TRAIN_DATA_Y}\n",
    "\n",
    "s = Sparse(D,TRAIN_DATA_X,TEST_DATA_X,TEST_DATA_Y)\n",
    "nw = bm.SingleSiteNewtonianMonteCarlo()\n",
    "samples_nw_g = nw.infer([s.tau(),s.lambda_(),s.beta(),s.log_prob_test()], dict_y , 1000, 3,verbose=VerboseLevel.OFF)"
   ]
  },
  {
   "cell_type": "code",
   "execution_count": 111,
   "metadata": {
    "collapsed": true
   },
   "outputs": [],
   "source": [
    "post_nw_g = tensor(samples_nw_g[s.log_prob_test()])\n",
    "p_nw_g=post_nw_g.cumsum(dim=0) / arange(1, len(post_nw_g[0])+1)"
   ]
  },
  {
   "cell_type": "code",
   "execution_count": 113,
   "metadata": {},
   "outputs": [
    {
     "name": "stdout",
     "output_type": "stream",
     "text": [
      "for single-site NMC on german data:\n",
      "        Predicted value\n",
      "Tao            1.040194\n",
      "Lambda         0.991486\n",
      "Beta          -0.005697\n",
      "for single-site NMC on german data:\n",
      "        effective_sample_size     r_hat\n",
      "Tao               3110.137939  1.000821\n",
      "Lambda            2916.411133  0.999839\n",
      "Beta              2228.690674  1.000347\n"
     ]
    }
   ],
   "source": [
    "analysis(\"single-site NMC on german data\",samples_nw_g, s.tau(),s.lambda_(),s.beta(),D,None,None,None)"
   ]
  },
  {
   "cell_type": "code",
   "execution_count": 116,
   "metadata": {},
   "outputs": [
    {
     "data": {
      "image/png": "[encoded data removed]",
      "text/plain": [
       "<Figure size 720x576 with 1 Axes>"
      ]
     },
     "metadata": {
      "bento_obj_id": "140360374894736",
      "needs_background": "light"
     },
     "output_type": "display_data"
    }
   ],
   "source": [
    "plots(samples_nw_g,s.lambda_(),None,1000)"
   ]
  },
  {
   "cell_type": "code",
   "execution_count": 117,
   "metadata": {},
   "outputs": [
    {
     "data": {
      "image/png": "[encoded data removed]",
      "text/plain": [
       "<Figure size 720x576 with 1 Axes>"
      ]
     },
     "metadata": {
      "bento_obj_id": "140360186693840",
      "needs_background": "light"
     },
     "output_type": "display_data"
    }
   ],
   "source": [
    "plots(samples_nw_g,s.beta(),None,1000)"
   ]
  },
  {
   "cell_type": "code",
   "execution_count": 118,
   "metadata": {
    "collapsed": true
   },
   "outputs": [],
   "source": [
    "dict_y = {s.y(): TRAIN_DATA_Y}\n",
    "\n",
    "s = Sparse(D,TRAIN_DATA_X,TEST_DATA_X,TEST_DATA_Y)\n",
    "mh = bm.SingleSiteAncestralMetropolisHastings()\n",
    "samples_mh_g = mh.infer([s.tau(),s.lambda_(),s.beta(),s.log_prob_test()], dict_y , 1000, 3,verbose=VerboseLevel.OFF)"
   ]
  },
  {
   "cell_type": "code",
   "execution_count": 119,
   "metadata": {},
   "outputs": [
    {
     "name": "stdout",
     "output_type": "stream",
     "text": [
      "for single-site MH on german data:\n",
      "        Predicted value\n",
      "Tao            1.006495\n",
      "Lambda         0.992107\n",
      "Beta          -0.001503\n",
      "for single-site MH on german data:\n",
      "        effective_sample_size     r_hat\n",
      "Tao               3054.900391  0.999278\n",
      "Lambda            2951.711182  0.999849\n",
      "Beta              2951.693115  1.000088\n"
     ]
    }
   ],
   "source": [
    "analysis(\"single-site MH on german data\",samples_mh_g, s.tau(),s.lambda_(),s.beta(),D,None,None,None)"
   ]
  },
  {
   "cell_type": "code",
   "execution_count": 120,
   "metadata": {
    "collapsed": true
   },
   "outputs": [],
   "source": [
    "post_mh_g = tensor(samples_mh_g[s.log_prob_test()])\n",
    "p_mh_g=post_mh_g.cumsum(dim=0) / arange(1, len(post_mh_g[0])+1)"
   ]
  },
  {
   "cell_type": "code",
   "execution_count": 121,
   "metadata": {},
   "outputs": [
    {
     "data": {
      "image/png": "[encoded data removed]",
      "text/plain": [
       "<Figure size 720x576 with 1 Axes>"
      ]
     },
     "metadata": {
      "bento_obj_id": "140360360357456",
      "needs_background": "light"
     },
     "output_type": "display_data"
    }
   ],
   "source": [
    "plots(samples_mh_g,s.lambda_(), None,1000)"
   ]
  },
  {
   "cell_type": "code",
   "execution_count": 122,
   "metadata": {},
   "outputs": [
    {
     "data": {
      "image/png": "[encoded data removed]",
      "text/plain": [
       "<Figure size 720x576 with 1 Axes>"
      ]
     },
     "metadata": {
      "bento_obj_id": "140360171192464",
      "needs_background": "light"
     },
     "output_type": "display_data"
    }
   ],
   "source": [
    "plots(samples_mh_g,s.beta(), None,1000)"
   ]
  },
  {
   "cell_type": "code",
   "execution_count": 123,
   "metadata": {
    "collapsed": true
   },
   "outputs": [],
   "source": [
    "dict_y = {s.y(): TRAIN_DATA_Y}\n",
    "step_size = 0.5\n",
    "num_steps=1\n",
    "\n",
    "s = Sparse(D,TRAIN_DATA_X,TEST_DATA_X,TEST_DATA_Y)\n",
    "hmc = bm.SingleSiteHamiltonianMonteCarlo(step_size, num_steps)\n",
    "samples_hmc_g = hmc.infer([s.tau(),s.lambda_(),s.beta(),s.log_prob_test()], dict_y , 1000, 3,verbose=VerboseLevel.OFF)"
   ]
  },
  {
   "cell_type": "code",
   "execution_count": 124,
   "metadata": {},
   "outputs": [
    {
     "name": "stdout",
     "output_type": "stream",
     "text": [
      "for single-site HMC on german data:\n",
      "        Predicted value\n",
      "Tao            0.002756\n",
      "Lambda         0.068305\n",
      "Beta          -0.006263\n",
      "for single-site HMC on german data:\n",
      "        effective_sample_size     r_hat\n",
      "Tao                277.754364  1.006382\n",
      "Lambda              63.477085  1.068470\n",
      "Beta               544.050659  1.003183\n"
     ]
    }
   ],
   "source": [
    "analysis(\"single-site HMC on german data\",samples_hmc_g, s.tau(),s.lambda_(),s.beta(),D,None,None,None)"
   ]
  },
  {
   "cell_type": "code",
   "execution_count": 125,
   "metadata": {
    "collapsed": true
   },
   "outputs": [],
   "source": [
    "post_hmc_g = tensor(samples_hmc_g[s.log_prob_test()])\n",
    "p_hmc_g=post_hmc_g.cumsum(dim=0) / arange(1, len(post_hmc_g[0])+1)"
   ]
  },
  {
   "cell_type": "code",
   "execution_count": 126,
   "metadata": {},
   "outputs": [
    {
     "data": {
      "image/png": "[encoded data removed]",
      "text/plain": [
       "<Figure size 720x576 with 1 Axes>"
      ]
     },
     "metadata": {
      "bento_obj_id": "140360361193616",
      "needs_background": "light"
     },
     "output_type": "display_data"
    }
   ],
   "source": [
    "plots(samples_hmc_g,s.lambda_(), None,1000)"
   ]
  },
  {
   "cell_type": "code",
   "execution_count": 127,
   "metadata": {},
   "outputs": [
    {
     "data": {
      "image/png": "[encoded data removed]",
      "text/plain": [
       "<Figure size 720x576 with 1 Axes>"
      ]
     },
     "metadata": {
      "bento_obj_id": "140360202192336",
      "needs_background": "light"
     },
     "output_type": "display_data"
    }
   ],
   "source": [
    "plots(samples_hmc_g,s.beta(), None,1000)"
   ]
  },
  {
   "cell_type": "code",
   "execution_count": 135,
   "metadata": {},
   "outputs": [
    {
     "data": {
      "text/plain": [
       "torch.Size([3, 1000])"
      ]
     },
     "execution_count": 135,
     "metadata": {
      "bento_obj_id": "140360187321136"
     },
     "output_type": "execute_result"
    }
   ],
   "source": [
    "p_nw_g = post_nw_g.cumsum(dim=1)/ arange(1, len(post_mh[0])+1)\n",
    "p_mh_g = post_mh_g.cumsum(dim=1)/ arange(1, len(post_mh[0])+1)\n",
    "p_hmc_g = post_hmc_g.cumsum(dim=1)/ arange(1, len(post_mh[0])+1)\n",
    "p_nw_g.size()"
   ]
  },
  {
   "cell_type": "code",
   "execution_count": 138,
   "metadata": {},
   "outputs": [
    {
     "data": {
      "text/plain": [
       "<matplotlib.legend.Legend at 0x7fa80fbe9910>"
      ]
     },
     "execution_count": 138,
     "metadata": {
      "bento_obj_id": "140359795382544"
     },
     "output_type": "execute_result"
    },
    {
     "data": {
      "image/png": "[encoded data removed]",
      "text/plain": [
       "<Figure size 432x288 with 1 Axes>"
      ]
     },
     "metadata": {
      "bento_obj_id": "140359795382992",
      "needs_background": "light"
     },
     "output_type": "display_data"
    }
   ],
   "source": [
    "plt.plot(p_nw_g[-1],color=\"purple\",linewidth=5,label='NMC')\n",
    "plt.plot(p_mh_g[-1],color=\"orange\",linewidth=5,label='MH')\n",
    "plt.plot(p_hmc_g[-1],color=\"blue\",linewidth=5,label='HMC')\n",
    "plt.legend(framealpha=1, frameon=True)"
   ]
  },
  {
   "cell_type": "code",
   "execution_count": 143,
   "metadata": {},
   "outputs": [
    {
     "name": "stdout",
     "output_type": "stream",
     "text": [
      "     Predicted value\n",
      "NMC     -1725.588702\n",
      "MH      -1641.021490\n",
      "HMC      -346.573591\n"
     ]
    }
   ],
   "source": [
    "analysis_log(p_nw_g,p_mh_g,p_hmc_g,None,1000)"
   ]
  },
  {
   "cell_type": "code",
   "execution_count": null,
   "metadata": {
    "collapsed": true
   },
   "outputs": [],
   "source": []
  }
 ],
 "metadata": {
  "anp_cloned_from": {
   "notebook_id": "1317952768402874",
   "revision_id": "294048698638911"
  },
  "bento_stylesheets": {
   "bento/extensions/flow/main.css": true,
   "bento/extensions/kernel_selector/main.css": true,
   "bento/extensions/kernel_ui/main.css": true,
   "bento/extensions/new_kernel/main.css": true,
   "bento/extensions/system_usage/main.css": true,
   "bento/extensions/theme/main.css": true
  },
  "disseminate_notebook_id": {
   "notebook_id": "1317952768402874"
  },
  "disseminate_notebook_info": {
   "bento_version": "20200601-000343",
   "description": "",
   "hide_code": false,
   "hipster_group": "",
   "kernel_build_info": {
    "error": "The file located at '/data/users/zhao5/fbsource/fbcode/bento/kernels/local/beanmachine/TARGETS' could not be found."
   },
   "no_uii": true,
   "notebook_number": "275391",
   "others_can_edit": true,
   "reviewers": "",
   "revision_id": "297569074971468",
   "tags": "",
   "tasks": "",
   "title": "Implement sparse logistic regression "
  },
  "kernelspec": {
   "display_name": "beanmachine (local)",
   "language": "python",
   "name": "beanmachine_local"
  },
  "language_info": {
   "codemirror_mode": {
    "name": "ipython",
    "version": 3
   },
   "file_extension": ".py",
   "mimetype": "text/x-python",
   "name": "python",
   "nbconvert_exporter": "python",
   "pygments_lexer": "ipython3",
   "version": "3.7.5+"
  }
 },
 "nbformat": 4,
 "nbformat_minor": 2
}
