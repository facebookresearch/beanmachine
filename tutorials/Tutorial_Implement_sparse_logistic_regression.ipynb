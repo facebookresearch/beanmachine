{
 "cells": [
  {
   "cell_type": "markdown",
   "metadata": {},
   "source": [
    "## Tutorial - Sampling sparse logistic regression"
   ]
  },
  {
   "cell_type": "markdown",
   "metadata": {},
   "source": [
    "Author: Shidi Zhao (zhao5@fb.com)"
   ]
  },
  {
   "cell_type": "markdown",
   "metadata": {},
   "source": [
    "The purpose of this tutorial is to showcase how to write a sparse logistic regression model in Bean Machine and present some inference methods that Bean Machine provides to sample this model."
   ]
  },
  {
   "cell_type": "markdown",
   "metadata": {},
   "source": [
    "## Problem"
   ]
  },
  {
   "cell_type": "markdown",
   "metadata": {},
   "source": [
    "Logistic Regression is a very commonly used statistical method that allows us to predict a binary output from a set of independent variables. Suppose we have some prior knowledge about the data generated from the logistic regression model, we can sample the logistic regression model from the prior. The sparse logistic regression is a type of logistic regression model, it embeds feature selection in the classification by adding overall and pre-dimension scale factors, and has many applications in high-dimensional data, such as classifying credit score. So here, to sample the sparse logistic regression in Bean Machine, we first implement the sparse logistic regression model in Bean Machine and then try to sample it with various inference methods."
   ]
  },
  {
   "cell_type": "markdown",
   "metadata": {},
   "source": [
    "## Sparse logistic regression"
   ]
  },
  {
   "cell_type": "markdown",
   "metadata": {},
   "source": [
    "Sparse logistic regression is a hierarchical logistic regression with a sparse prior $\\tau$. We consider the model as following:\n",
    "\n",
    "   $$\n",
    "\\begin{array}{lcl}\n",
    "\\tau {\\sim} Gamma(\\alpha = 0.5, \\beta = 0.5) \\\\\n",
    "\\lambda_d{\\sim} Gamma(\\alpha = 0.5, \\beta = 0.5) \\\\\n",
    "\\beta_d{\\sim} Normal(0,1) \\\\\n",
    "y_n{\\sim}Bernoulli(\\sigma{X}^T(\\tau\\beta \\circ \\lambda)) \\\\\n",
    "\\end{array}\n",
    "$$\n",
    "\n",
    "Here $\\tau$ is the global shrinkage, $\\lambda$ is local shrinkage,$\\beta \\circ \\lambda$ denotes the elementwise product of $\\beta$ and $\\lambda$."
   ]
  },
  {
   "cell_type": "markdown",
   "metadata": {},
   "source": [
    "## Prerequisites"
   ]
  },
  {
   "cell_type": "markdown",
   "metadata": {},
   "source": [
    "Please import the following code packages for the rest of the code in the tutorial to work."
   ]
  },
  {
   "cell_type": "code",
   "execution_count": 1110,
   "metadata": {
    "collapsed": true
   },
   "outputs": [],
   "source": [
    "import torch\n",
    "import numpy as np\n",
    "import beanmachine.ppl as bm\n",
    "from torch.distributions import *\n",
    "import torch.nn as nn\n",
    "from beanmachine.ppl.diagnostics.common_statistics import effective_sample_size, split_r_hat,r_hat\n",
    "from beanmachine.ppl.inference.abstract_infer import (\n",
    "    VerboseLevel,\n",
    ")\n",
    "from torch import tensor,manual_seed, arange, float32, zeros, ones, randn\n",
    "import matplotlib.pyplot as plt"
   ]
  },
  {
   "cell_type": "markdown",
   "metadata": {},
   "source": [
    "## Data generation "
   ]
  },
  {
   "cell_type": "markdown",
   "metadata": {},
   "source": [
    "To get the prior knowledge about the model, we can generate some data (x,y) use a pre-defined sparse logistic regression model with generated $\\tau$-value, $\\lambda$-value, and $\\beta$-value. Then we split the data into training data(50%) and testing data(50%). For the training data, we are going to run inference on it, and for the testing data, we are going to compute the predictive log-likelihood."
   ]
  },
  {
   "cell_type": "code",
   "execution_count": 1117,
   "metadata": {
    "collapsed": true
   },
   "outputs": [],
   "source": [
    "manual_seed(38)\n",
    "\n",
    "D=3 #number of predictors\n",
    "N=100 #number of observations\n",
    "\n",
    "tau_value = Gamma(tensor(0.5),tensor(0.5)).sample()\n",
    "lambda_value = Gamma(0.5,0.5).sample(sample_shape=(D,1))\n",
    "beta_value = Normal(0,1).sample(sample_shape=(D,1))\n",
    "X = Normal(0,10).sample(sample_shape=(N,D)) \n",
    "mu = X.mm(torch.mul(tau_value*beta_value,lambda_value))\n",
    "Y= Bernoulli(logits=mu).sample()"
   ]
  },
  {
   "cell_type": "code",
   "execution_count": 1118,
   "metadata": {
    "collapsed": true
   },
   "outputs": [],
   "source": [
    "train_size=test_size= int(N/2)\n",
    "\n",
    "TRAIN_DATA_X = X[:train_size]\n",
    "TEST_DATA_X = X[test_size:]\n",
    "TRAIN_DATA_Y = Y[:train_size]\n",
    "TEST_DATA_Y = Y[test_size:]"
   ]
  },
  {
   "cell_type": "markdown",
   "metadata": {},
   "source": [
    "## Model"
   ]
  },
  {
   "cell_type": "markdown",
   "metadata": {},
   "source": [
    "To implement sparse logistic regression model in Bean Machine, we have random variable $\\tau$(), $\\lambda$(), $\\beta$() and y(). Here, we sample the random variables using MCMC, the observation here is the training data. Then we compute the predictive log-likelihood using test data. The predictive log-likelihood has an important role in statistical model comparison, the highest predictive log-likelihood will have the highest posterior probability, thus it can measure how the model fits overall."
   ]
  },
  {
   "cell_type": "code",
   "execution_count": 1131,
   "metadata": {
    "collapsed": true
   },
   "outputs": [],
   "source": [
    "class Sparse(object):\n",
    "    def __init__(self,num_predictors,train_x,test_x,test_y):\n",
    "        self.D = num_predictors\n",
    "        self.TRAIN_DATA_X = train_x\n",
    "        self.TEST_DATA_X=test_x\n",
    "        self.TEST_DATA_Y=test_y\n",
    "        \n",
    "    @bm.random_variable\n",
    "    def tau(self):\n",
    "        return Gamma(tensor(0.5), tensor(0.5))\n",
    "\n",
    "    @bm.random_variable\n",
    "    def lambda_(self):\n",
    "        return Gamma(tensor([[0.5]] * (self.D)), tensor([[0.5]] * (self.D)))\n",
    "\n",
    "    @bm.random_variable\n",
    "    def beta(self):\n",
    "        return Normal(zeros((self.D, 1)), ones((self.D, 1)))\n",
    "\n",
    "    @bm.random_variable\n",
    "    def y(self):\n",
    "        y_=self.TRAIN_DATA_X.mm(torch.mul(self.tau()*self.beta(),self.lambda_()))\n",
    "        return Bernoulli(logits=y_)\n",
    "\n",
    "    @bm.functional\n",
    "    def log_prob_test(self):\n",
    "        y = self.TEST_DATA_X.mm(torch.mul(self.tau()*self.beta(),self.lambda_()))\n",
    "        s =(Bernoulli(logits=y)).log_prob(self.TEST_DATA_Y).sum()\n",
    "        return s"
   ]
  },
  {
   "cell_type": "markdown",
   "metadata": {},
   "source": [
    "## Inference"
   ]
  },
  {
   "cell_type": "markdown",
   "metadata": {},
   "source": [
    "Now, we will go through the performance of different inference methods on this model. We will investigate different inference algorithms, single-site Hamiltonian Monte Carlo (HMC), single-site MetropolisHastings, and single-site Newtonian Monte Carlo (NMC)"
   ]
  },
  {
   "cell_type": "markdown",
   "metadata": {},
   "source": [
    "### Single-site NMC"
   ]
  },
  {
   "cell_type": "code",
   "execution_count": 1132,
   "metadata": {
    "collapsed": true
   },
   "outputs": [],
   "source": [
    "s = Sparse(D,TRAIN_DATA_X,TEST_DATA_X,TEST_DATA_Y)\n",
    "dict_y = {s.y(): TRAIN_DATA_Y}\n",
    "nw = bm.SingleSiteNewtonianMonteCarlo()\n",
    "samples_nw = nw.infer([s.log_prob_test(),s.tau(),s.lambda_(),s.beta()], dict_y , 10, 3,verbose=VerboseLevel.OFF)"
   ]
  },
  {
   "cell_type": "code",
   "execution_count": 1133,
   "metadata": {
    "collapsed": true
   },
   "outputs": [],
   "source": [
    "post_nw = tensor(samples_nw[s.log_prob_test()])"
   ]
  },
  {
   "cell_type": "markdown",
   "metadata": {},
   "source": [
    "## Analysis¶"
   ]
  },
  {
   "cell_type": "markdown",
   "metadata": {},
   "source": [
    "Here, we compare the mean value of tao, lambda and beat with the generated $\\tau$-value, $\\lambda$-value, and $\\beta$-value, and compute the effective sample size and r hat of the samples as well."
   ]
  },
  {
   "cell_type": "code",
   "execution_count": 1134,
   "metadata": {
    "collapsed": true
   },
   "outputs": [],
   "source": [
    "def analysis(label,samples, model_tao,model_lambda,model_beta,D):\n",
    "    \n",
    "    Tau = samples[model_tao].detach()\n",
    "    Lambda = samples[model_lambda].detach()\n",
    "    Beta=samples[model_beta].detach()\n",
    "    \n",
    "    print(\"for \"+label+\":\")\n",
    "    print(\"Predicted Tao mean:\", round(samples[model_tao].mean().item(), 3), \"vs Tau that data was generated with:\", round(tau_value.mean().item(), 3))\n",
    "    print(\"Predicted Lambda mean:\", round(samples[model_lambda].mean().item(), 3), \"vs Lambda that data was generated with:\", round(lambda_value.mean().item(), 3))\n",
    "    print(\"Predicted Tao mean:\", round(samples[model_beta].mean().item(), 3), \"vs Beta that data was generated with:\", round(beta_value.mean().item(), 3))\n",
    "    \n",
    "    print(\"effective sample size\", effective_sample_size(Tau),\", r hat\", split_r_hat(Tau))\n",
    "    print(\"effective sample size\", effective_sample_size(Lambda).view(1,D),\", r hat\", split_r_hat(Lambda).view(1,D))\n",
    "    print(\"effective sample size\", effective_sample_size(Beta).view(1,D),\", r hat\", split_r_hat(Beta).view(1,D))"
   ]
  },
  {
   "cell_type": "code",
   "execution_count": 1135,
   "metadata": {},
   "outputs": [
    {
     "name": "stdout",
     "output_type": "stream",
     "text": [
      "for Single-site NMC:\n",
      "Predicted Tao mean: 3.864 vs Tau that data was generated with: 1.136\n",
      "Predicted Lambda mean: 0.935 vs Lambda that data was generated with: 0.15\n",
      "Predicted Tao mean: -0.073 vs Beta that data was generated with: -1.044\n",
      "effective sample size tensor(3.6529) , r hat tensor(1.7423)\n",
      "effective sample size tensor([[1.8104, 1.8104, 1.8104]]) , r hat tensor([[2.7203, 2.7203, 2.7203]])\n",
      "effective sample size tensor([[2.5923, 4.0948, 3.7746]]) , r hat tensor([[1.5838, 1.5343, 1.3231]])\n"
     ]
    }
   ],
   "source": [
    "analysis(\"Single-site NMC\",samples_nw,s.tau(),s.lambda_(),s.beta(),D)"
   ]
  },
  {
   "cell_type": "markdown",
   "metadata": {},
   "source": [
    "From the analysis, we can see the lambda would get stuck with half-space proposer in NMC. Since it is in half-space, so it initializes the value with 1. We can see from the mean value of $\\lambda$, it does not move. And we try with the current real space proposer, the acceptance is 5% for 100 samples. We would continue working on this model with the latest NMC inference method."
   ]
  },
  {
   "cell_type": "markdown",
   "metadata": {},
   "source": [
    "### Single-site MetropolisHastings"
   ]
  },
  {
   "cell_type": "code",
   "execution_count": 1124,
   "metadata": {
    "collapsed": true
   },
   "outputs": [],
   "source": [
    "s = Sparse(D,TRAIN_DATA_X,TEST_DATA_X,TEST_DATA_Y)\n",
    "mh = bm.SingleSiteAncestralMetropolisHastings()\n",
    "samples_mh = mh.infer([s.log_prob_test(),s.tau(),s.lambda_(),s.beta()], dict_y, 10, 3,verbose=VerboseLevel.OFF)"
   ]
  },
  {
   "cell_type": "code",
   "execution_count": 1125,
   "metadata": {
    "collapsed": true
   },
   "outputs": [],
   "source": [
    "post_mh = tensor(samples_mh[s.log_prob_test()])"
   ]
  },
  {
   "cell_type": "code",
   "execution_count": 1126,
   "metadata": {},
   "outputs": [
    {
     "name": "stdout",
     "output_type": "stream",
     "text": [
      "for Single-site MH:\n",
      "Predicted Tao mean: 1.336 vs Tau that data was generated with: 1.136\n",
      "Predicted Lambda mean: 0.863 vs Lambda that data was generated with: 0.15\n",
      "Predicted Tao mean: 0.015 vs Beta that data was generated with: -1.044\n",
      "effective sample size tensor(134.0233) , r hat tensor(0.9615)\n",
      "effective sample size tensor([[28.8424, 42.0718, 17.6982]]) , r hat tensor([[0.9506, 0.9850, 0.9781]])\n",
      "effective sample size tensor([[10.3614, 43.0382, 25.2414]]) , r hat tensor([[1.1139, 0.9914, 1.0146]])\n"
     ]
    }
   ],
   "source": [
    "analysis(\"Single-site MH\",samples_mh,s.tau(),s.lambda_(),s.beta(),D)"
   ]
  },
  {
   "cell_type": "markdown",
   "metadata": {},
   "source": [
    "### Single-site HMC"
   ]
  },
  {
   "cell_type": "code",
   "execution_count": 1127,
   "metadata": {
    "collapsed": true
   },
   "outputs": [],
   "source": [
    "s = Sparse(D,TRAIN_DATA_X,TEST_DATA_X,TEST_DATA_Y)\n",
    "step_size = 0.5\n",
    "num_steps=1\n",
    "hmc = bm.SingleSiteHamiltonianMonteCarlo(step_size, num_steps)\n",
    "samples_hmc = mh.infer([s.log_prob_test(),s.tau(),s.lambda_(),s.beta()], dict_y , 10, 3,verbose=VerboseLevel.OFF)"
   ]
  },
  {
   "cell_type": "code",
   "execution_count": 1128,
   "metadata": {},
   "outputs": [
    {
     "name": "stdout",
     "output_type": "stream",
     "text": [
      "for Single-site HMC:\n",
      "Predicted Tao mean: 1.0 vs Tau that data was generated with: 1.136\n",
      "Predicted Lambda mean: 1.0 vs Lambda that data was generated with: 0.15\n",
      "Predicted Tao mean: 0.0 vs Beta that data was generated with: -1.044\n",
      "effective sample size tensor(nan) , r hat tensor(nan)\n",
      "effective sample size tensor([[nan, nan, nan]]) , r hat tensor([[nan, nan, nan]])\n",
      "effective sample size tensor([[nan, nan, nan]]) , r hat tensor([[nan, nan, nan]])\n"
     ]
    }
   ],
   "source": [
    "analysis(\"Single-site HMC\",samples_hmc,s.tau(),s.lambda_(),s.beta(),D)"
   ]
  },
  {
   "cell_type": "code",
   "execution_count": 1129,
   "metadata": {
    "collapsed": true
   },
   "outputs": [],
   "source": [
    "post_hmc = tensor(samples_hmc[s.log_prob_test()])"
   ]
  },
  {
   "cell_type": "code",
   "execution_count": 1130,
   "metadata": {},
   "outputs": [
    {
     "data": {
      "text/plain": [
       "[<matplotlib.lines.Line2D at 0x7fda29585310>]"
      ]
     },
     "execution_count": 1130,
     "metadata": {
      "bento_obj_id": "140575013208224"
     },
     "output_type": "execute_result"
    },
    {
     "data": {
      "image/png": "[encoded data removed]",
      "text/plain": [
       "<Figure size 432x288 with 1 Axes>"
      ]
     },
     "metadata": {
      "bento_obj_id": "140575027569296",
      "needs_background": "light"
     },
     "output_type": "display_data"
    }
   ],
   "source": [
    "p_nw=post_nw.cumsum(dim=0) / arange(1, len(post_mh[0])+1)\n",
    "p_mh=post_mh.cumsum(dim=0)/ arange(1, len(post_mh[0])+1)\n",
    "p_hmc=post_hmc.cumsum(dim=0) / arange(1, len(post_hmc[0])+1)\n",
    "\n",
    "plt.plot(p_nw[-1],color=\"purple\",linewidth=5)\n",
    "plt.plot(p_mh[-1],color=\"orange\",linewidth=5)\n",
    "plt.plot(p_hmc[-1],color=\"blue\",linewidth=5)"
   ]
  },
  {
   "cell_type": "markdown",
   "metadata": {},
   "source": [
    "## German-numeric data"
   ]
  },
  {
   "cell_type": "markdown",
   "metadata": {},
   "source": [
    "Next, we consider our sparse logistic regression model with German credit dataset, you can download the data from: https://archive.ics.uci.edu/ml/machine-learning-databases/statlog/german/german.data-numeric. \n",
    "We use the numeric variant of the german credit dataset, with the covariates standardized to range between -1 and 1. With the addition of a constant factor, this yields 25 covariates (the data preprocess is the same as [NeuTra](https://arxiv.org/pdf/1903.03704.pdf) paper."
   ]
  },
  {
   "cell_type": "code",
   "execution_count": 1136,
   "metadata": {
    "collapsed": true
   },
   "outputs": [],
   "source": [
    "data = np.genfromtxt(\"german.data-numeric\")\n",
    "x = data[:, :-1]\n",
    "y = (data[:, -1] - 1)\n",
    "x_min = np.min(x, 0, keepdims=True)\n",
    "x_max = np.max(x, 0, keepdims=True)\n",
    "x /= (x_max - x_min)\n",
    "x = 2.0 * x - 1.0\n",
    "x = np.concatenate([x, np.ones([x.shape[0], 1])], -1)\n",
    "x =[torch.from_numpy(x[i]) for i in range(1000)]\n",
    "y = torch.from_numpy(y).view(len(x),1)\n",
    "D,N=len(x[0]),len(x)"
   ]
  },
  {
   "cell_type": "markdown",
   "metadata": {},
   "source": [
    "Since we only want to use all the data to train the model, we do not have test data as the previous case. here in the input, test data is the same as training data, which is the whole data set. And we use log_prob_test() to compute the predictive log-likelihood of training data."
   ]
  },
  {
   "cell_type": "code",
   "execution_count": 1137,
   "metadata": {
    "collapsed": true
   },
   "outputs": [],
   "source": [
    "TRAIN_DATA_X = torch.stack(x).float()\n",
    "TEST_DATA_X = torch.stack(x).float()\n",
    "TRAIN_DATA_Y = y\n",
    "TEST_DATA_Y=y"
   ]
  },
  {
   "cell_type": "code",
   "execution_count": 1140,
   "metadata": {
    "collapsed": true
   },
   "outputs": [],
   "source": [
    "s = Sparse(D,TRAIN_DATA_X,TEST_DATA_X,TEST_DATA_Y)"
   ]
  },
  {
   "cell_type": "code",
   "execution_count": 1141,
   "metadata": {
    "collapsed": true
   },
   "outputs": [],
   "source": [
    "dict_y = {s.y(): TRAIN_DATA_Y}\n",
    "\n",
    "s = Sparse(D,TRAIN_DATA_X,TEST_DATA_X,TEST_DATA_Y)\n",
    "nw = bm.SingleSiteNewtonianMonteCarlo()\n",
    "samples_nw = nw.infer([s.tau(),s.lambda_(),s.beta()], dict_y , 10, 3,verbose=VerboseLevel.OFF)"
   ]
  },
  {
   "cell_type": "code",
   "execution_count": 1142,
   "metadata": {},
   "outputs": [
    {
     "name": "stdout",
     "output_type": "stream",
     "text": [
      "for Single-site NMC:\n",
      "Predicted Tao mean: 1.027 vs Tau that data was generated with: 1.136\n",
      "Predicted Lambda mean: 1.0 vs Lambda that data was generated with: 0.15\n",
      "Predicted Tao mean: -0.001 vs Beta that data was generated with: -1.044\n",
      "effective sample size tensor(34.3803) , r hat tensor(0.9936)\n",
      "effective sample size tensor([[nan, nan, nan, nan, nan, nan, nan, nan, nan, nan, nan, nan, nan, nan, nan, nan, nan, nan, nan, nan, nan, nan, nan, nan,\n",
      "         nan]]) , r hat tensor([[nan, nan, nan, nan, nan, nan, nan, nan, nan, nan, nan, nan, nan, nan, nan, nan, nan, nan, nan, nan, nan, nan, nan, nan,\n",
      "         nan]])\n",
      "effective sample size tensor([[  16.1713,   18.6361,    7.0798,   21.5570,   21.0521, 2130.0254,\n",
      "           12.0979,    9.0913,   46.4759,   37.1142,   19.3713,   32.6580,\n",
      "           26.6086,   26.8423,   22.4751,   19.2516,   26.7237,   18.2936,\n",
      "           20.5685,   14.2885,    5.5679,   20.7948,    9.6529,   15.3659,\n",
      "           21.5948]]) , r hat tensor([[1.1251, 1.1507, 1.2530, 0.9701, 1.0502, 0.9238, 1.1358, 1.0813, 1.0412,\n",
      "         0.9577, 0.9801, 0.9637, 0.9412, 1.0397, 1.1303, 1.0751, 1.0604, 0.9994,\n",
      "         1.0067, 1.0922, 1.1823, 1.0819, 1.1001, 0.9800, 1.0330]])\n"
     ]
    }
   ],
   "source": [
    "analysis(\"Single-site NMC\",samples_nw,s.tau(),s.lambda_(),s.beta(),D)"
   ]
  }
 ],
 "metadata": {
  "anp_cloned_from": {
   "notebook_id": "1317952768402874",
   "revision_id": "294048698638911"
  },
  "bento_stylesheets": {
   "bento/extensions/flow/main.css": true,
   "bento/extensions/kernel_selector/main.css": true,
   "bento/extensions/kernel_ui/main.css": true,
   "bento/extensions/new_kernel/main.css": true,
   "bento/extensions/system_usage/main.css": true,
   "bento/extensions/theme/main.css": true
  },
  "disseminate_notebook_id": {
   "notebook_id": "1317952768402874"
  },
  "disseminate_notebook_info": {
   "bento_version": "20200601-000343",
   "description": "",
   "hide_code": false,
   "hipster_group": "",
   "kernel_build_info": {
    "deps": [
     "//beanmachine:bento_deps"
    ],
    "external_deps": []
   },
   "no_uii": true,
   "notebook_number": "275391",
   "others_can_edit": false,
   "reviewers": "",
   "revision_id": "271583090655679",
   "tags": "",
   "tasks": "",
   "title": "Implement sparse logistic regression "
  },
  "kernelspec": {
   "display_name": "beanmachine",
   "language": "python",
   "name": "bento_kernel_beanmachine"
  },
  "language_info": {
   "codemirror_mode": {
    "name": "ipython",
    "version": 3
   },
   "file_extension": ".py",
   "mimetype": "text/x-python",
   "name": "python",
   "nbconvert_exporter": "python",
   "pygments_lexer": "ipython3",
   "version": "3.7.5+"
  }
 },
 "nbformat": 4,
 "nbformat_minor": 2
}
