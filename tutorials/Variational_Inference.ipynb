{
 "cells": [
  {
   "cell_type": "code",
   "execution_count": 1,
   "metadata": {},
   "outputs": [],
   "source": [
    "%load_ext autoreload\n",
    "%autoreload 1"
   ]
  },
  {
   "cell_type": "code",
   "execution_count": 2,
   "metadata": {},
   "outputs": [],
   "source": [
    "%aimport beanmachine.ppl"
   ]
  },
  {
   "cell_type": "code",
   "execution_count": 170,
   "metadata": {},
   "outputs": [],
   "source": [
    "%autoreload"
   ]
  },
  {
   "cell_type": "code",
   "execution_count": 179,
   "metadata": {},
   "outputs": [
    {
     "data": {
      "application/vnd.jupyter.widget-view+json": {
       "model_id": "be90853e977941dd9f923f351a427342",
       "version_major": 2,
       "version_minor": 0
      },
      "text/plain": [
       "  0%|          | 0/1000 [00:00<?, ?it/s]"
      ]
     },
     "metadata": {},
     "output_type": "display_data"
    },
    {
     "name": "stdout",
     "output_type": "stream",
     "text": [
      "Normal(loc: 3.60760498046875, scale: 0.7004327774047852)\n",
      "----------\n"
     ]
    },
    {
     "data": {
      "application/vnd.jupyter.widget-view+json": {
       "model_id": "74cb92cb7fa34ffd90222abfee8ce170",
       "version_major": 2,
       "version_minor": 0
      },
      "text/plain": [
       "  0%|          | 0/1000 [00:00<?, ?it/s]"
      ]
     },
     "metadata": {},
     "output_type": "display_data"
    },
    {
     "name": "stdout",
     "output_type": "stream",
     "text": [
      "Normal(loc: 3.5967936515808105, scale: 1.1184630393981934)\n",
      "----------\n"
     ]
    }
   ],
   "source": [
    "import beanmachine.ppl as bm\n",
    "import torch\n",
    "import torch.distributions as dist\n",
    "import torch.optim as optim\n",
    "\n",
    "from beanmachine.ppl.inference.variational.variational_infer import (\n",
    "    kl_forward,\n",
    "    kl_reverse\n",
    ")\n",
    "\n",
    "class NormalNormal:\n",
    "    def __init__(self):\n",
    "        self.device = 'cpu'\n",
    "\n",
    "    @bm.random_variable\n",
    "    def mu(self):\n",
    "        return dist.Normal(\n",
    "            torch.zeros(1).to(self.device), 10 * torch.ones(1).to(self.device)\n",
    "        )\n",
    "\n",
    "    @bm.random_variable\n",
    "    def x(self, i):\n",
    "        return dist.Normal(self.mu(), torch.ones(1).to(self.device))\n",
    "\n",
    "model = NormalNormal()\n",
    "\n",
    "@bm.param\n",
    "def phi():\n",
    "    return torch.zeros(2)  # mean, log std\n",
    "\n",
    "@bm.random_variable\n",
    "def q_mu():\n",
    "    params = phi()\n",
    "    return dist.Normal(params[0], params[1].exp())\n",
    "\n",
    "for discrepancy in [kl_reverse, kl_forward]:\n",
    "    world = bm.VariationalInfer().infer(\n",
    "        queries_to_guides={model.mu(): q_mu()},\n",
    "        observations={\n",
    "            model.x(1): torch.tensor(3.0),\n",
    "            model.x(2): torch.tensor(4.0),\n",
    "        },\n",
    "        num_steps=1000,\n",
    "        num_samples=1,\n",
    "        optimizer=lambda params: optim.Adam(params, lr=1e-1),\n",
    "        discrepancy_fn=discrepancy,\n",
    "    )\n",
    "    print(world._run_node(q_mu())[0])\n",
    "    print('-'*10)"
   ]
  },
  {
   "cell_type": "code",
   "execution_count": null,
   "metadata": {},
   "outputs": [],
   "source": []
  }
 ],
 "metadata": {
  "interpreter": {
   "hash": "2d13082b4bd245bb7b08aea3b25cb3b8185404358d859b3f501f7ea456008ea8"
  },
  "kernelspec": {
   "display_name": "Python 3.9.9 64-bit",
   "language": "python",
   "name": "python3"
  },
  "language_info": {
   "codemirror_mode": {
    "name": "ipython",
    "version": 3
   },
   "file_extension": ".py",
   "mimetype": "text/x-python",
   "name": "python",
   "nbconvert_exporter": "python",
   "pygments_lexer": "ipython3",
   "version": "3.9.9"
  },
  "orig_nbformat": 4
 },
 "nbformat": 4,
 "nbformat_minor": 2
}
