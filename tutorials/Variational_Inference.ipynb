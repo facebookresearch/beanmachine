{
 "cells": [
  {
   "cell_type": "code",
   "execution_count": 1,
   "metadata": {},
   "outputs": [],
   "source": [
    "%load_ext autoreload\n",
    "%autoreload 1"
   ]
  },
  {
   "cell_type": "code",
   "execution_count": 2,
   "metadata": {},
   "outputs": [],
   "source": [
    "%aimport beanmachine.ppl"
   ]
  },
  {
   "cell_type": "code",
   "execution_count": 14,
   "metadata": {},
   "outputs": [],
   "source": [
    "%autoreload"
   ]
  },
  {
   "cell_type": "code",
   "execution_count": 157,
   "metadata": {},
   "outputs": [
    {
     "data": {
      "application/vnd.jupyter.widget-view+json": {
       "model_id": "0a59ee29b4ba4eb0b78914be67a406b8",
       "version_major": 2,
       "version_minor": 0
      },
      "text/plain": [
       "  0%|          | 0/100 [00:00<?, ?it/s]"
      ]
     },
     "metadata": {},
     "output_type": "display_data"
    },
    {
     "data": {
      "text/plain": [
       "Normal(loc: 4.735093593597412, scale: 0.3820481300354004)"
      ]
     },
     "execution_count": 157,
     "metadata": {},
     "output_type": "execute_result"
    }
   ],
   "source": [
    "import beanmachine.ppl as bm\n",
    "import torch\n",
    "import torch.distributions as dist\n",
    "import torch.optim as optim\n",
    "\n",
    "from beanmachine.ppl.inference.variational.variational_infer import (\n",
    "    kl_forward,\n",
    "    kl_reverse,\n",
    "    monte_carlo_approximate_reparam,\n",
    "    monte_carlo_approximate_sf,\n",
    ")\n",
    "\n",
    "sigma_0 = 1.0\n",
    "\n",
    "class NormalNormal:\n",
    "    def __init__(self):\n",
    "        self.device = 'cpu'\n",
    "\n",
    "    @bm.random_variable\n",
    "    def mu(self):\n",
    "        return dist.Normal(\n",
    "            torch.zeros(1).to(self.device), sigma_0 * torch.ones(1).to(self.device)\n",
    "        )\n",
    "\n",
    "    @bm.random_variable\n",
    "    def x(self, i):\n",
    "        return dist.Normal(self.mu(), torch.ones(1).to(self.device))\n",
    "\n",
    "model = NormalNormal()\n",
    "\n",
    "@bm.param\n",
    "def phi():\n",
    "    return torch.zeros(2)\n",
    "\n",
    "@bm.random_variable\n",
    "def q_mu():\n",
    "    params = phi()\n",
    "    return dist.Normal(params[0], torch.nn.functional.softplus(params[1]))\n",
    "\n",
    "obs = {\n",
    "    model.x(i): 5+torch.randn((1,))\n",
    "    for i in range(5)\n",
    "}\n",
    "world = bm.VariationalInfer().infer(\n",
    "    queries_to_guides={model.mu(): q_mu()},\n",
    "    observations=obs,\n",
    "    num_steps=100,\n",
    "    num_samples=5,\n",
    "    optimizer=lambda params: optim.Adam(params, lr=1e-1),\n",
    "    discrepancy_fn=kl_reverse,\n",
    "    #discrepancy_fn=kl_forward,\n",
    "    mc_approx=monte_carlo_approximate_reparam,\n",
    "    #mc_approx=monte_carlo_approximate_sf,\n",
    ")\n",
    "world.get_variable(q_mu()).distribution"
   ]
  },
  {
   "cell_type": "code",
   "execution_count": 158,
   "metadata": {},
   "outputs": [],
   "source": [
    "true_posterior = dist.Normal(\n",
    "    loc=sum(obs.values()) / (len(obs) + 1),\n",
    "    scale=1 / (1 + len(obs))\n",
    ")"
   ]
  },
  {
   "cell_type": "code",
   "execution_count": 159,
   "metadata": {},
   "outputs": [
    {
     "name": "stdout",
     "output_type": "stream",
     "text": [
      " "
     ]
    },
    {
     "data": {
      "application/vnd.jupyter.widget-view+json": {
       "model_id": "1487f367ad7e45139ad6e83a6ff17b62",
       "version_major": 2,
       "version_minor": 0
      },
      "text/plain": [
       "Samples collected:   0%|          | 0/150 [00:00<?, ?it/s]"
      ]
     },
     "metadata": {},
     "output_type": "display_data"
    }
   ],
   "source": [
    "nuts_samples = bm.GlobalNoUTurnSampler().infer(\n",
    "    [model.mu()],\n",
    "    obs,\n",
    "    num_samples=100,\n",
    "    num_chains=1,\n",
    ")"
   ]
  },
  {
   "cell_type": "code",
   "execution_count": 160,
   "metadata": {},
   "outputs": [
    {
     "name": "stderr",
     "output_type": "stream",
     "text": [
      "/root/micromamba/lib/python3.9/site-packages/numpy/core/shape_base.py:65: FutureWarning: The input object of type 'Tensor' is an array-like implementing one of the corresponding protocols (`__array__`, `__array_interface__` or `__array_struct__`); but not a sequence (or 0-D). In the future, this object will be coerced as if it was first converted using `np.array(obj)`. To retain the old behaviour, you have to either modify the type 'Tensor', or assign to an empty array created with `np.empty(correct_shape, dtype=object)`.\n",
      "  ary = asanyarray(ary)\n",
      "/root/micromamba/lib/python3.9/site-packages/numpy/core/shape_base.py:65: VisibleDeprecationWarning: Creating an ndarray from ragged nested sequences (which is a list-or-tuple of lists-or-tuples-or ndarrays with different lengths or shapes) is deprecated. If you meant to do this, you must specify 'dtype=object' when creating the ndarray.\n",
      "  ary = asanyarray(ary)\n"
     ]
    },
    {
     "data": {
      "text/plain": [
       "[-3.0, 7.0]"
      ]
     },
     "execution_count": 160,
     "metadata": {},
     "output_type": "execute_result"
    },
    {
     "data": {
      "image/png": "[encoded data removed]",
      "text/plain": [
       "<Figure size 432x288 with 2 Axes>"
      ]
     },
     "metadata": {
      "needs_background": "light"
     },
     "output_type": "display_data"
    }
   ],
   "source": [
    "import matplotlib.pyplot as plt\n",
    "import numpy as np\n",
    "\n",
    "xs = torch.linspace(-3, 7, steps=1000)\n",
    "prior = dist.Normal(0, sigma_0).log_prob(xs)\n",
    "guide = world.get_variable(q_mu()).distribution.log_prob(xs).detach().numpy()\n",
    "\n",
    "fig = plt.figure()\n",
    "ax = fig.add_subplot(211)\n",
    "\n",
    "ax.set_ylim([-4,1])\n",
    "ax.plot(xs, prior)\n",
    "ax.plot(obs.values(), np.zeros(len(obs.values()))-3.4, 'kx')\n",
    "ax.plot(xs, guide, 'r')\n",
    "ax.plot(xs, true_posterior.log_prob(xs), 'y')\n",
    "ax.legend(['prior', 'data', 'guide', 'analytical'])\n",
    "\n",
    "ax = fig.add_subplot(212)\n",
    "ax.hist(nuts_samples.get_chain(0)[model.mu()].detach().numpy(), bottom=-3.4)\n",
    "\n",
    "plt.setp(ax, xlim=[-3,7])"
   ]
  }
 ],
 "metadata": {
  "interpreter": {
   "hash": "2d13082b4bd245bb7b08aea3b25cb3b8185404358d859b3f501f7ea456008ea8"
  },
  "kernelspec": {
   "display_name": "Python 3.9.9 64-bit",
   "language": "python",
   "name": "python3"
  },
  "language_info": {
   "codemirror_mode": {
    "name": "ipython",
    "version": 3
   },
   "file_extension": ".py",
   "mimetype": "text/x-python",
   "name": "python",
   "nbconvert_exporter": "python",
   "pygments_lexer": "ipython3",
   "version": "3.9.9"
  },
  "orig_nbformat": 4
 },
 "nbformat": 4,
 "nbformat_minor": 2
}
