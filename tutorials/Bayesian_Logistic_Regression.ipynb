{
  "metadata": {
    "bento_stylesheets": {
      "bento/extensions/flow/main.css": true,
      "bento/extensions/kernel_selector/main.css": true,
      "bento/extensions/kernel_ui/main.css": true,
      "bento/extensions/new_kernel/main.css": true,
      "bento/extensions/system_usage/main.css": true,
      "bento/extensions/theme/main.css": true
    },
    "disseminate_notebook_id": {
      "notebook_id": "337194597295968"
    },
    "disseminate_notebook_info": {
      "bento_version": "20200811-093407",
      "description": "",
      "hide_code": false,
      "hipster_group": "",
      "kernel_build_info": {
        "deps": [
          "//beanmachine:bento_deps"
        ],
        "external_deps": []
      },
      "no_uii": true,
      "notebook_number": "326914",
      "others_can_edit": true,
      "reviewers": "",
      "revision_id": "2982442155195279",
      "tags": "",
      "tasks": "",
      "title": "Bayesian_Logistic_Regression"
    },
    "kernelspec": {
      "display_name": "beanmachine",
      "language": "python",
      "name": "bento_kernel_beanmachine",
      "metadata": {
        "kernel_name": "bento_kernel_beanmachine",
        "nightly_builds": true,
        "fbpkg_supported": true,
        "is_prebuilt": true
      }
    },
    "language_info": {
      "codemirror_mode": {
        "name": "ipython",
        "version": 3
      },
      "file_extension": ".py",
      "mimetype": "text/x-python",
      "name": "python",
      "nbconvert_exporter": "python",
      "pygments_lexer": "ipython3",
      "version": "3.7.5+"
    },
    "last_server_session_id": "82607b24-57dc-4fc5-969d-f67e517a3f77",
    "last_kernel_id": "fdf05132-c6e6-469c-af0f-82a3b310102d",
    "last_base_url": "https://devvm3544.prn0.facebook.com:8090/",
    "last_msg_id": "2e38de38-5dd31eb5d1f1247dc7ddc5f4_441",
    "widgets": {
      "application/vnd.jupyter.widget-state+json": {
        "state": {
          "fefdb5a5cc1b404a8ea48f372f460056": {
            "state": {
              "_model_module": "@jupyter-widgets/base",
              "_model_module_version": "1.2.0",
              "_model_name": "LayoutModel",
              "_view_count": null,
              "_view_module": "@jupyter-widgets/base",
              "_view_module_version": "1.2.0",
              "_view_name": "LayoutView",
              "align_content": null,
              "align_items": null,
              "align_self": null,
              "border": null,
              "bottom": null,
              "display": null,
              "flex": null,
              "flex_flow": null,
              "grid_area": null,
              "grid_auto_columns": null,
              "grid_auto_flow": null,
              "grid_auto_rows": null,
              "grid_column": null,
              "grid_gap": null,
              "grid_row": null,
              "grid_template_areas": null,
              "grid_template_columns": null,
              "grid_template_rows": null,
              "height": null,
              "justify_content": null,
              "justify_items": null,
              "left": null,
              "margin": null,
              "max_height": null,
              "max_width": null,
              "min_height": null,
              "min_width": null,
              "object_fit": null,
              "object_position": null,
              "order": null,
              "overflow": null,
              "overflow_x": null,
              "overflow_y": null,
              "padding": null,
              "right": null,
              "top": null,
              "visibility": null,
              "width": null
            },
            "buffers": []
          },
          "2edb07b0172d450bbcdf95f5de52ea58": {
            "state": {
              "_model_module": "@jupyter-widgets/controls",
              "_model_module_version": "1.5.0",
              "_model_name": "ProgressStyleModel",
              "_view_count": null,
              "_view_module": "@jupyter-widgets/base",
              "_view_module_version": "1.2.0",
              "_view_name": "StyleView",
              "bar_color": null,
              "description_width": ""
            },
            "buffers": []
          },
          "bbee3c1e7c474ef39a6fdf2b8a8d3c12": {
            "state": {
              "_dom_classes": [],
              "_model_module": "@jupyter-widgets/controls",
              "_model_module_version": "1.5.0",
              "_model_name": "FloatProgressModel",
              "_view_count": null,
              "_view_module": "@jupyter-widgets/controls",
              "_view_module_version": "1.5.0",
              "_view_name": "ProgressView",
              "bar_style": "success",
              "description": "",
              "description_tooltip": null,
              "layout": "IPY_MODEL_fefdb5a5cc1b404a8ea48f372f460056",
              "max": 400,
              "min": 0,
              "orientation": "horizontal",
              "style": "IPY_MODEL_2edb07b0172d450bbcdf95f5de52ea58",
              "value": 400
            },
            "buffers": []
          },
          "f544432313994723a825745a12f14b7e": {
            "state": {
              "_model_module": "@jupyter-widgets/base",
              "_model_module_version": "1.2.0",
              "_model_name": "LayoutModel",
              "_view_count": null,
              "_view_module": "@jupyter-widgets/base",
              "_view_module_version": "1.2.0",
              "_view_name": "LayoutView",
              "align_content": null,
              "align_items": null,
              "align_self": null,
              "border": null,
              "bottom": null,
              "display": null,
              "flex": null,
              "flex_flow": null,
              "grid_area": null,
              "grid_auto_columns": null,
              "grid_auto_flow": null,
              "grid_auto_rows": null,
              "grid_column": null,
              "grid_gap": null,
              "grid_row": null,
              "grid_template_areas": null,
              "grid_template_columns": null,
              "grid_template_rows": null,
              "height": null,
              "justify_content": null,
              "justify_items": null,
              "left": null,
              "margin": null,
              "max_height": null,
              "max_width": null,
              "min_height": null,
              "min_width": null,
              "object_fit": null,
              "object_position": null,
              "order": null,
              "overflow": null,
              "overflow_x": null,
              "overflow_y": null,
              "padding": null,
              "right": null,
              "top": null,
              "visibility": null,
              "width": null
            },
            "buffers": []
          },
          "906e0e92d4634f73a350313fa56a5be0": {
            "state": {
              "_model_module": "@jupyter-widgets/controls",
              "_model_module_version": "1.5.0",
              "_model_name": "DescriptionStyleModel",
              "_view_count": null,
              "_view_module": "@jupyter-widgets/base",
              "_view_module_version": "1.2.0",
              "_view_name": "StyleView",
              "description_width": ""
            },
            "buffers": []
          },
          "cf56ca4ab2384251b5873481a238de9c": {
            "state": {
              "_dom_classes": [],
              "_model_module": "@jupyter-widgets/controls",
              "_model_module_version": "1.5.0",
              "_model_name": "HTMLModel",
              "_view_count": null,
              "_view_module": "@jupyter-widgets/controls",
              "_view_module_version": "1.5.0",
              "_view_name": "HTMLView",
              "description": "",
              "description_tooltip": null,
              "layout": "IPY_MODEL_f544432313994723a825745a12f14b7e",
              "placeholder": "​",
              "style": "IPY_MODEL_906e0e92d4634f73a350313fa56a5be0",
              "value": "Samples collected: 100%"
            },
            "buffers": []
          },
          "3cb4db70e43641db888ec926abc88f9a": {
            "state": {
              "_model_module": "@jupyter-widgets/base",
              "_model_module_version": "1.2.0",
              "_model_name": "LayoutModel",
              "_view_count": null,
              "_view_module": "@jupyter-widgets/base",
              "_view_module_version": "1.2.0",
              "_view_name": "LayoutView",
              "align_content": null,
              "align_items": null,
              "align_self": null,
              "border": null,
              "bottom": null,
              "display": null,
              "flex": null,
              "flex_flow": null,
              "grid_area": null,
              "grid_auto_columns": null,
              "grid_auto_flow": null,
              "grid_auto_rows": null,
              "grid_column": null,
              "grid_gap": null,
              "grid_row": null,
              "grid_template_areas": null,
              "grid_template_columns": null,
              "grid_template_rows": null,
              "height": null,
              "justify_content": null,
              "justify_items": null,
              "left": null,
              "margin": null,
              "max_height": null,
              "max_width": null,
              "min_height": null,
              "min_width": null,
              "object_fit": null,
              "object_position": null,
              "order": null,
              "overflow": null,
              "overflow_x": null,
              "overflow_y": null,
              "padding": null,
              "right": null,
              "top": null,
              "visibility": null,
              "width": null
            },
            "buffers": []
          },
          "9f2fa9750d6f4b9da41c44d8374f9500": {
            "state": {
              "_model_module": "@jupyter-widgets/controls",
              "_model_module_version": "1.5.0",
              "_model_name": "DescriptionStyleModel",
              "_view_count": null,
              "_view_module": "@jupyter-widgets/base",
              "_view_module_version": "1.2.0",
              "_view_name": "StyleView",
              "description_width": ""
            },
            "buffers": []
          },
          "60c362ecab9649b8ba198660b15ea38d": {
            "state": {
              "_dom_classes": [],
              "_model_module": "@jupyter-widgets/controls",
              "_model_module_version": "1.5.0",
              "_model_name": "HTMLModel",
              "_view_count": null,
              "_view_module": "@jupyter-widgets/controls",
              "_view_module_version": "1.5.0",
              "_view_name": "HTMLView",
              "description": "",
              "description_tooltip": null,
              "layout": "IPY_MODEL_3cb4db70e43641db888ec926abc88f9a",
              "placeholder": "​",
              "style": "IPY_MODEL_9f2fa9750d6f4b9da41c44d8374f9500",
              "value": " 400/400 [00:01&lt;00:00, 219.50it/s]"
            },
            "buffers": []
          },
          "7a57a8eeb49844a699b238e73f8f6d10": {
            "state": {
              "_model_module": "@jupyter-widgets/base",
              "_model_module_version": "1.2.0",
              "_model_name": "LayoutModel",
              "_view_count": null,
              "_view_module": "@jupyter-widgets/base",
              "_view_module_version": "1.2.0",
              "_view_name": "LayoutView",
              "align_content": null,
              "align_items": null,
              "align_self": null,
              "border": null,
              "bottom": null,
              "display": null,
              "flex": null,
              "flex_flow": null,
              "grid_area": null,
              "grid_auto_columns": null,
              "grid_auto_flow": null,
              "grid_auto_rows": null,
              "grid_column": null,
              "grid_gap": null,
              "grid_row": null,
              "grid_template_areas": null,
              "grid_template_columns": null,
              "grid_template_rows": null,
              "height": null,
              "justify_content": null,
              "justify_items": null,
              "left": null,
              "margin": null,
              "max_height": null,
              "max_width": null,
              "min_height": null,
              "min_width": null,
              "object_fit": null,
              "object_position": null,
              "order": null,
              "overflow": null,
              "overflow_x": null,
              "overflow_y": null,
              "padding": null,
              "right": null,
              "top": null,
              "visibility": null,
              "width": null
            },
            "buffers": []
          },
          "21e658ca4b6f4ec3a5f29de364df6695": {
            "state": {
              "_dom_classes": [],
              "_model_module": "@jupyter-widgets/controls",
              "_model_module_version": "1.5.0",
              "_model_name": "HBoxModel",
              "_view_count": null,
              "_view_module": "@jupyter-widgets/controls",
              "_view_module_version": "1.5.0",
              "_view_name": "HBoxView",
              "box_style": "",
              "children": [
                "IPY_MODEL_cf56ca4ab2384251b5873481a238de9c",
                "IPY_MODEL_bbee3c1e7c474ef39a6fdf2b8a8d3c12",
                "IPY_MODEL_60c362ecab9649b8ba198660b15ea38d"
              ],
              "layout": "IPY_MODEL_7a57a8eeb49844a699b238e73f8f6d10"
            },
            "buffers": []
          },
          "cf0025b758bd48788c1eed8a2fea0471": {
            "state": {
              "_model_module": "@jupyter-widgets/base",
              "_model_module_version": "1.2.0",
              "_model_name": "LayoutModel",
              "_view_count": null,
              "_view_module": "@jupyter-widgets/base",
              "_view_module_version": "1.2.0",
              "_view_name": "LayoutView",
              "align_content": null,
              "align_items": null,
              "align_self": null,
              "border": null,
              "bottom": null,
              "display": null,
              "flex": null,
              "flex_flow": null,
              "grid_area": null,
              "grid_auto_columns": null,
              "grid_auto_flow": null,
              "grid_auto_rows": null,
              "grid_column": null,
              "grid_gap": null,
              "grid_row": null,
              "grid_template_areas": null,
              "grid_template_columns": null,
              "grid_template_rows": null,
              "height": null,
              "justify_content": null,
              "justify_items": null,
              "left": null,
              "margin": null,
              "max_height": null,
              "max_width": null,
              "min_height": null,
              "min_width": null,
              "object_fit": null,
              "object_position": null,
              "order": null,
              "overflow": null,
              "overflow_x": null,
              "overflow_y": null,
              "padding": null,
              "right": null,
              "top": null,
              "visibility": null,
              "width": null
            },
            "buffers": []
          },
          "a6e248e22e5a49b1bdf3a8e07a54a748": {
            "state": {
              "_model_module": "@jupyter-widgets/controls",
              "_model_module_version": "1.5.0",
              "_model_name": "ProgressStyleModel",
              "_view_count": null,
              "_view_module": "@jupyter-widgets/base",
              "_view_module_version": "1.2.0",
              "_view_name": "StyleView",
              "bar_color": null,
              "description_width": ""
            },
            "buffers": []
          },
          "af55f5add4dd4e4ba8921ebe18f4226d": {
            "state": {
              "_dom_classes": [],
              "_model_module": "@jupyter-widgets/controls",
              "_model_module_version": "1.5.0",
              "_model_name": "FloatProgressModel",
              "_view_count": null,
              "_view_module": "@jupyter-widgets/controls",
              "_view_module_version": "1.5.0",
              "_view_name": "ProgressView",
              "bar_style": "success",
              "description": "",
              "description_tooltip": null,
              "layout": "IPY_MODEL_cf0025b758bd48788c1eed8a2fea0471",
              "max": 1000,
              "min": 0,
              "orientation": "horizontal",
              "style": "IPY_MODEL_a6e248e22e5a49b1bdf3a8e07a54a748",
              "value": 1000
            },
            "buffers": []
          },
          "994ba42016304dea84d920b36d5b8499": {
            "state": {
              "_model_module": "@jupyter-widgets/base",
              "_model_module_version": "1.2.0",
              "_model_name": "LayoutModel",
              "_view_count": null,
              "_view_module": "@jupyter-widgets/base",
              "_view_module_version": "1.2.0",
              "_view_name": "LayoutView",
              "align_content": null,
              "align_items": null,
              "align_self": null,
              "border": null,
              "bottom": null,
              "display": null,
              "flex": null,
              "flex_flow": null,
              "grid_area": null,
              "grid_auto_columns": null,
              "grid_auto_flow": null,
              "grid_auto_rows": null,
              "grid_column": null,
              "grid_gap": null,
              "grid_row": null,
              "grid_template_areas": null,
              "grid_template_columns": null,
              "grid_template_rows": null,
              "height": null,
              "justify_content": null,
              "justify_items": null,
              "left": null,
              "margin": null,
              "max_height": null,
              "max_width": null,
              "min_height": null,
              "min_width": null,
              "object_fit": null,
              "object_position": null,
              "order": null,
              "overflow": null,
              "overflow_x": null,
              "overflow_y": null,
              "padding": null,
              "right": null,
              "top": null,
              "visibility": null,
              "width": null
            },
            "buffers": []
          },
          "4980a63209d74b29a1b4fb8d77a245cb": {
            "state": {
              "_model_module": "@jupyter-widgets/controls",
              "_model_module_version": "1.5.0",
              "_model_name": "DescriptionStyleModel",
              "_view_count": null,
              "_view_module": "@jupyter-widgets/base",
              "_view_module_version": "1.2.0",
              "_view_name": "StyleView",
              "description_width": ""
            },
            "buffers": []
          },
          "e537a760353a405cbcca0da305637efc": {
            "state": {
              "_dom_classes": [],
              "_model_module": "@jupyter-widgets/controls",
              "_model_module_version": "1.5.0",
              "_model_name": "HTMLModel",
              "_view_count": null,
              "_view_module": "@jupyter-widgets/controls",
              "_view_module_version": "1.5.0",
              "_view_name": "HTMLView",
              "description": "",
              "description_tooltip": null,
              "layout": "IPY_MODEL_994ba42016304dea84d920b36d5b8499",
              "placeholder": "​",
              "style": "IPY_MODEL_4980a63209d74b29a1b4fb8d77a245cb",
              "value": "Samples collected: 100%"
            },
            "buffers": []
          },
          "7ccc4089ade547f091e2fd80f1ae468e": {
            "state": {
              "_model_module": "@jupyter-widgets/base",
              "_model_module_version": "1.2.0",
              "_model_name": "LayoutModel",
              "_view_count": null,
              "_view_module": "@jupyter-widgets/base",
              "_view_module_version": "1.2.0",
              "_view_name": "LayoutView",
              "align_content": null,
              "align_items": null,
              "align_self": null,
              "border": null,
              "bottom": null,
              "display": null,
              "flex": null,
              "flex_flow": null,
              "grid_area": null,
              "grid_auto_columns": null,
              "grid_auto_flow": null,
              "grid_auto_rows": null,
              "grid_column": null,
              "grid_gap": null,
              "grid_row": null,
              "grid_template_areas": null,
              "grid_template_columns": null,
              "grid_template_rows": null,
              "height": null,
              "justify_content": null,
              "justify_items": null,
              "left": null,
              "margin": null,
              "max_height": null,
              "max_width": null,
              "min_height": null,
              "min_width": null,
              "object_fit": null,
              "object_position": null,
              "order": null,
              "overflow": null,
              "overflow_x": null,
              "overflow_y": null,
              "padding": null,
              "right": null,
              "top": null,
              "visibility": null,
              "width": null
            },
            "buffers": []
          },
          "b58140a267dc48bcb02f265a93cd9bab": {
            "state": {
              "_model_module": "@jupyter-widgets/controls",
              "_model_module_version": "1.5.0",
              "_model_name": "DescriptionStyleModel",
              "_view_count": null,
              "_view_module": "@jupyter-widgets/base",
              "_view_module_version": "1.2.0",
              "_view_name": "StyleView",
              "description_width": ""
            },
            "buffers": []
          },
          "dfbdd9b984f14767b2482fb621fc76c0": {
            "state": {
              "_dom_classes": [],
              "_model_module": "@jupyter-widgets/controls",
              "_model_module_version": "1.5.0",
              "_model_name": "HTMLModel",
              "_view_count": null,
              "_view_module": "@jupyter-widgets/controls",
              "_view_module_version": "1.5.0",
              "_view_name": "HTMLView",
              "description": "",
              "description_tooltip": null,
              "layout": "IPY_MODEL_7ccc4089ade547f091e2fd80f1ae468e",
              "placeholder": "​",
              "style": "IPY_MODEL_b58140a267dc48bcb02f265a93cd9bab",
              "value": " 1000/1000 [00:07&lt;00:00, 137.91it/s]"
            },
            "buffers": []
          },
          "6ee795cfc2cf4ca4896fa40ac2b42a5f": {
            "state": {
              "_model_module": "@jupyter-widgets/base",
              "_model_module_version": "1.2.0",
              "_model_name": "LayoutModel",
              "_view_count": null,
              "_view_module": "@jupyter-widgets/base",
              "_view_module_version": "1.2.0",
              "_view_name": "LayoutView",
              "align_content": null,
              "align_items": null,
              "align_self": null,
              "border": null,
              "bottom": null,
              "display": null,
              "flex": null,
              "flex_flow": null,
              "grid_area": null,
              "grid_auto_columns": null,
              "grid_auto_flow": null,
              "grid_auto_rows": null,
              "grid_column": null,
              "grid_gap": null,
              "grid_row": null,
              "grid_template_areas": null,
              "grid_template_columns": null,
              "grid_template_rows": null,
              "height": null,
              "justify_content": null,
              "justify_items": null,
              "left": null,
              "margin": null,
              "max_height": null,
              "max_width": null,
              "min_height": null,
              "min_width": null,
              "object_fit": null,
              "object_position": null,
              "order": null,
              "overflow": null,
              "overflow_x": null,
              "overflow_y": null,
              "padding": null,
              "right": null,
              "top": null,
              "visibility": null,
              "width": null
            },
            "buffers": []
          },
          "6b202a8c22564ea1a0aad2f42a25a03e": {
            "state": {
              "_dom_classes": [],
              "_model_module": "@jupyter-widgets/controls",
              "_model_module_version": "1.5.0",
              "_model_name": "HBoxModel",
              "_view_count": null,
              "_view_module": "@jupyter-widgets/controls",
              "_view_module_version": "1.5.0",
              "_view_name": "HBoxView",
              "box_style": "",
              "children": [
                "IPY_MODEL_e537a760353a405cbcca0da305637efc",
                "IPY_MODEL_af55f5add4dd4e4ba8921ebe18f4226d",
                "IPY_MODEL_dfbdd9b984f14767b2482fb621fc76c0"
              ],
              "layout": "IPY_MODEL_6ee795cfc2cf4ca4896fa40ac2b42a5f"
            },
            "buffers": []
          }
        }
      }
    },
    "outputWidgetContext": {}
  },
  "nbformat": 4,
  "nbformat_minor": 2,
  "cells": [
    {
      "cell_type": "markdown",
      "metadata": {
        "collapsed": true,
        "originalKey": "69bf1817-032e-457e-bfa0-e57ede210e5d"
      },
      "source": [
        "# Tutorial - Bayesian Logistic Regression\n",
        "\n",
        "**Author:** Eric Lippert (`ericlippert@fb.com`)\n",
        "\n",
        "The purpose of this tutorial is to show how to build a simple Bayesian model to deduce the line which separates two categories of points."
      ]
    },
    {
      "cell_type": "markdown",
      "metadata": {
        "originalKey": "b4361d0f-ed7e-494f-9270-14d364d433ad"
      },
      "source": [
        "## Problem\n",
        "\n",
        "A *logistic model* is a statistical model where we have a collection of things that can be divided into two categories -- pictures of cats or dogs, patients who are immune or susceptible, students who pass or fail, and so on. An assumption of the model is: the probability that a given thing is in a category can be computed by taking a linear combination of characteristics of the thing.\n",
        "\n",
        "The problem we seek to solve in this tutorial is: *when given a set of examples of each category, can we infer the boundary between the categories?*"
      ]
    },
    {
      "cell_type": "markdown",
      "metadata": {
        "originalKey": "e60f7e01-62ba-4c50-970b-eab5cc8f87c7"
      },
      "source": [
        "## Example: orange and blue points\n",
        "\n",
        "For the purposes of this tutorial our \"things\" will be two-dimensional points between $(-10, -10)$ and $(10, 10)$. Our two categories will be represented by $0.0$, which we'll render as blue, and $1.0$, which we'll render as orange.\n",
        "\n",
        "The probability that a given point $(x, y)$ will be orange is \n",
        "\n",
        "$P((x, y)\\text{ is orange}) = \\Large{\\frac{1}{1 + e^{-b_0 - b_1 x - b_2 y}}}$\n",
        "\n",
        "for some coefficients $b_0, b_1, b_2$.\n",
        "\n",
        "That equation is seen to be a linear combination of properties of the point if we express the probability as log odds:\n",
        "\n",
        "$logit(P((x, y)\\text{ is orange})) = b_0 + b_1 x + b_2 y$\n",
        "\n",
        "The boundary between the two categories is the set of points where the probability is $0.5$ that the point is orange; the log odds of $0.5$ is $0$, so the equation of the set of $(x, y)$ points separating the categories is a straight line:\n",
        "\n",
        "$b_0 + b_1 x + b_2 y = 0$\n",
        "\n",
        "Or, expressed as slope and intercept:\n",
        "\n",
        "$y = -\\frac{b_1}{b_2}x - \\frac{b_0}{b_2}$\n",
        "\n",
        "Our goal therefore is to infer possible values for $b_0, b_1, b_2$ from which we can compute the line separating the categories."
      ]
    },
    {
      "cell_type": "markdown",
      "metadata": {
        "originalKey": "2bd8efd3-f76f-49e0-94b4-54d702dc994e"
      },
      "source": [
        "## Prerequistites\n",
        "\n",
        "Please import the following code packages for the rest of the code in the tutorial to work."
      ]
    },
    {
      "cell_type": "code",
      "metadata": {
        "originalKey": "8d0bd588-3693-4c75-994c-e9edbc018328",
        "collapsed": false,
        "requestMsgId": "058e7907-8f5b-4d8c-8c13-09c465ce70fb",
        "executionStartTime": 1637114597594,
        "executionStopTime": 1637114599149
      },
      "source": [
        "# unittest\n",
        "import beanmachine.ppl as bm\n",
        "from torch import manual_seed, randint, tensor\n",
        "from torch.distributions import Bernoulli, Normal, Uniform\n",
        "import matplotlib.pyplot as plt\n",
        "import logging\n",
        "\n",
        "logging.getLogger(\"beanmachine\").setLevel(50)\n",
        "manual_seed(8); # This makes the results deterministic and reproducible."
      ],
      "execution_count": 1,
      "outputs": [
        {
          "output_type": "stream",
          "name": "stderr",
          "text": [
            "\nBad key \"axes.color_cycle\" on line 214 in\n/home/jpchen/.matplotlib/matplotlibrc.\nYou probably need to get an updated matplotlibrc file from\nhttps://github.com/matplotlib/matplotlib/blob/v3.1.2/matplotlibrc.template\nor from the matplotlib source distribution\n"
          ]
        }
      ]
    },
    {
      "cell_type": "markdown",
      "metadata": {
        "originalKey": "29cd54e7-5459-44f2-8abf-2bebd919a65d"
      },
      "source": [
        "## Creating sample data\n",
        "\n",
        "We start by creating a data set to illustrate the model.  In order to make computations faster and easier, we will express the entire data set as a single tensor representing 200 points. Each row of the tensor will be in the form $\\begin{bmatrix}1.0&x&y\\end{bmatrix}$. That way we can compute the linear combination by matrix-multiplying each row by $\\begin{bmatrix}b_0 \\\\ b_1 \\\\ b_2\\end{bmatrix}$ to obtain the log odds that the point is orange: $b_0 + b_1 x + b_2 y$."
      ]
    },
    {
      "cell_type": "code",
      "metadata": {
        "originalKey": "be7ae049-403f-4674-9216-a7e01d857f72",
        "collapsed": false,
        "requestMsgId": "cd7c7f6f-18b4-473f-80cd-9716fc4d1c25",
        "executionStartTime": 1637114600997,
        "executionStopTime": 1637114601683
      },
      "source": [
        "n = 200\n",
        "low = -10.0\n",
        "high = 10.0\n",
        "uniform = Uniform(low=tensor([1.0, low, low]), high=tensor([1.0, high, high]))\n",
        "points = tensor([uniform.sample().tolist() for i in range(n)]).view(n, 3)\n",
        "\n",
        "plt.figure(figsize=(10,8))\n",
        "for point in points:\n",
        "    plt.scatter(point[1], point[2], c='black')"
      ],
      "execution_count": 2,
      "outputs": [
        {
          "output_type": "display_data",
          "data": {
            "text/plain": "<Figure size 720x576 with 1 Axes>",
            "image/png": "[encoded data removed]"
          },
          "metadata": {
            "bento_obj_id": "140082908677024",
            "needs_background": "light"
          }
        }
      ]
    },
    {
      "cell_type": "markdown",
      "metadata": {
        "originalKey": "a51ec7c6-587c-41cb-abfa-d2776ce03dc2",
        "showInput": false
      },
      "source": [
        "We now assign points to categories $0.0$ (blue) and $1.0$ (orange). \n",
        "\n",
        "For this example we will assign categories to points using $\\begin{bmatrix}-2.0 \\\\ 0.3 \\\\ -0.5\\end{bmatrix}$ as our coefficients, which makes the line separating the categories $y = 0.6 x - 4$."
      ]
    },
    {
      "cell_type": "code",
      "metadata": {
        "originalKey": "5bb004de-7083-4dc5-b93c-7fcb1b9cc9e6",
        "collapsed": false,
        "requestMsgId": "5c079801-997b-4491-ad4b-eb2c0492b1ad",
        "executionStartTime": 1637114601727,
        "executionStopTime": 1637114601751
      },
      "source": [
        "true_coefficients = tensor([-2.0, 0.3, -0.5]).view(3, 1)\n",
        "true_slope = -float(true_coefficients[1] / true_coefficients[2])\n",
        "true_intercept = -float(true_coefficients[0] / true_coefficients[2])\n",
        "\n",
        "def log_odds(point):\n",
        "    return point.view(1, 3).mm(true_coefficients)\n",
        "\n",
        "observed_categories = tensor([Bernoulli(logits=log_odds(point)).sample() for point in points])"
      ],
      "execution_count": 3,
      "outputs": []
    },
    {
      "cell_type": "markdown",
      "metadata": {
        "originalKey": "034858dd-7b08-4655-b60f-e1c4adbf153c",
        "showInput": false
      },
      "source": [
        "## Data visualization methods\n",
        "\n",
        "It is useful to have helper methods to visualize the test data set and the line which separates the two categories:"
      ]
    },
    {
      "cell_type": "code",
      "metadata": {
        "originalKey": "02a7fa91-1fdc-4afa-ba22-97e577701f39",
        "collapsed": false,
        "requestMsgId": "8bbe705c-925e-4274-9ac7-00d7780dd730",
        "executionStartTime": 1637114602731,
        "executionStopTime": 1637114603654
      },
      "source": [
        "def plot_line(slope, intercept):\n",
        "    if intercept > high or intercept < low:\n",
        "        return\n",
        "    xs = [low, high]\n",
        "    ys = [slope * low + intercept, slope * high + intercept]\n",
        "    if ys[0] > high:\n",
        "        xs[0] = (high - intercept) / slope\n",
        "        ys[0] = high\n",
        "    elif ys[0] < low:\n",
        "        xs[0] = (low - intercept) / slope\n",
        "        ys[0] = low\n",
        "    if ys[1] > high:\n",
        "        xs[1] = (high - intercept) / slope\n",
        "        ys[1] = high\n",
        "    elif ys[1] < low:\n",
        "        xs[1] = (low - intercept) / slope\n",
        "        ys[1] = low\n",
        "    plt.plot(xs, ys)\n",
        "\n",
        "def plot_points(ps, cs):\n",
        "    for p, c in zip(ps, cs):\n",
        "        plt.scatter(p[1], p[2], c=('orange' if c == 1.0 else 'blue'))\n",
        "\n",
        "plt.figure(figsize=(10,8))\n",
        "plot_points(points, observed_categories)\n",
        "plot_line(true_slope, true_intercept)"
      ],
      "execution_count": 4,
      "outputs": [
        {
          "output_type": "display_data",
          "data": {
            "text/plain": "<Figure size 720x576 with 1 Axes>",
            "image/png": "[encoded data removed]"
          },
          "metadata": {
            "bento_obj_id": "140082489438800",
            "needs_background": "light"
          }
        }
      ]
    },
    {
      "cell_type": "markdown",
      "metadata": {
        "originalKey": "0781c3b9-4dcd-4420-b46a-7ff580eb6b7f",
        "showInput": false
      },
      "source": [
        "## Model\n",
        "\n",
        "We can now start building our model. \n",
        "\n",
        "The first thing we need is a prior distribution for our three coefficients.\n",
        "\n",
        "We have no reason to believe that the coefficients will be either positive or negative, so we should choose a prior distribution that is centered on zero. For the purposes of this tutorial, let's suppose that we know that the coefficients will typically be in the range of $-20.0$ to $20.0$; a reasonable prior is $\\mathcal{N}(0.0, 10.0)$\n",
        "\n",
        "We use a matrix multiplication to compute the linear combination, and therefore make the prior a column vector of samples from a normal distribution:"
      ]
    },
    {
      "cell_type": "code",
      "metadata": {
        "originalKey": "2f10574e-642e-4390-b2a7-b81cb489c196",
        "collapsed": false,
        "requestMsgId": "63bd330c-1efa-484c-8c07-06de41632d0d",
        "executionStartTime": 1637114603890,
        "executionStopTime": 1637114604121
      },
      "source": [
        "scale = 20.0\n",
        "\n",
        "@bm.random_variable\n",
        "def coefficients():\n",
        "    mean = tensor([0.0, 0.0, 0.0]).view(3, 1)\n",
        "    sigma = tensor([scale / 2.0, scale / 2.0, scale / 2.0]).view(3, 1)\n",
        "    return Normal(mean, sigma)"
      ],
      "execution_count": 5,
      "outputs": []
    },
    {
      "cell_type": "markdown",
      "metadata": {
        "originalKey": "ef0d7954-f0b2-4311-94cf-6acbbd7722c5",
        "showInput": false
      },
      "source": [
        "Our model for categories is now straightforward: each category is chosen by matrix-multiplying the point by the prior distribution of coefficients, and we get a set of categories from the Bernoulli distribution; either $0.0$ (blue) or $1.0$ (orange):"
      ]
    },
    {
      "cell_type": "code",
      "metadata": {
        "originalKey": "7d90a748-ac74-4783-a138-0244437ccb21",
        "collapsed": false,
        "requestMsgId": "af46acd7-5380-495e-9341-d7a081654994",
        "executionStartTime": 1637114605274,
        "executionStopTime": 1637114605338
      },
      "source": [
        "@bm.random_variable\n",
        "def categories():\n",
        "    return Bernoulli(logits=points.mm(coefficients()))"
      ],
      "execution_count": 6,
      "outputs": []
    },
    {
      "cell_type": "markdown",
      "metadata": {
        "originalKey": "9138c92e-31ab-46f2-8428-1e2d0eea1372",
        "showInput": false
      },
      "source": [
        "## Inference\n",
        "\n",
        "We can now infer the posterior distribution of the coefficients given the observations:"
      ]
    },
    {
      "cell_type": "code",
      "metadata": {
        "originalKey": "3adcc879-763b-4592-b24c-9fb2a532daf8",
        "code_folding": [],
        "hidden_ranges": [],
        "collapsed": false,
        "requestMsgId": "b1285ac0-acb5-40a3-924a-6323896296a0",
        "executionStartTime": 1637114641946,
        "executionStopTime": 1637114649399
      },
      "source": [
        "num_samples = 1000\n",
        "num_chains = 1\n",
        "observations = {categories() : observed_categories.view(n, 1)}\n",
        "queries = [coefficients()]\n",
        "mc = bm.GlobalNoUTurnSampler()\n",
        "%time samples = mc.infer(queries, observations, num_samples, num_chains)\n",
        "sampled_coefficients = samples.get_chain()[coefficients()]"
      ],
      "execution_count": 14,
      "outputs": [
        {
          "output_type": "display_data",
          "data": {
            "text/plain": "Samples collected:   0%|          | 0/1000 [00:00<?, ?it/s]",
            "application/vnd.jupyter.widget-view+json": {
              "version_major": 2,
              "version_minor": 0,
              "model_id": "6b202a8c22564ea1a0aad2f42a25a03e"
            }
          },
          "metadata": {}
        },
        {
          "output_type": "stream",
          "name": "stdout",
          "text": [
            "CPU times: user 7.38 s, sys: 46.1 ms, total: 7.43 s\nWall time: 7.39 s\n"
          ]
        }
      ]
    },
    {
      "cell_type": "markdown",
      "metadata": {
        "originalKey": "257e2dbe-845b-424d-af83-bf86678db8fa",
        "showInput": false
      },
      "source": [
        "The slopes and intercepts are computed from the sampled coefficients:"
      ]
    },
    {
      "cell_type": "code",
      "metadata": {
        "originalKey": "a86b176e-1c47-41d0-ae55-1c08183de8a1",
        "collapsed": false,
        "requestMsgId": "94d54e8e-487c-4f8d-ae60-d89b0abb0e27",
        "executionStartTime": 1637114728750,
        "executionStopTime": 1637114728824
      },
      "source": [
        "slopes = [-float(s[1] / s[2]) for s in sampled_coefficients if float(s[2]) != 0.0]\n",
        "intercepts = [-float(s[0] / s[2]) for s in sampled_coefficients if float(s[2]) != 0.0]\n",
        ""
      ],
      "execution_count": 15,
      "outputs": []
    },
    {
      "cell_type": "markdown",
      "metadata": {
        "originalKey": "b4fabded-f2ac-40b0-b386-4498a286580a",
        "showInput": false
      },
      "source": [
        "## Visualizing the results\n",
        "\n",
        "A histogram of the inferred slopes should cluster near the true value, marked in red:"
      ]
    },
    {
      "cell_type": "code",
      "metadata": {
        "originalKey": "4377d3da-6093-4151-bf7e-5d97eb61da83",
        "collapsed": false,
        "requestMsgId": "15780f88-b534-441a-990d-87e9a440959b",
        "executionStartTime": 1637114729726,
        "executionStopTime": 1637114730021
      },
      "source": [
        "plt.figure(figsize=(10,8))\n",
        "plt.hist(slopes, bins=40)\n",
        "plt.axvline(x=true_slope, c='red', linewidth=5);"
      ],
      "execution_count": 16,
      "outputs": [
        {
          "output_type": "display_data",
          "data": {
            "text/plain": "<Figure size 720x576 with 1 Axes>",
            "image/png": "[encoded data removed]"
          },
          "metadata": {
            "bento_obj_id": "140082277070064",
            "needs_background": "light"
          }
        }
      ]
    },
    {
      "cell_type": "markdown",
      "metadata": {
        "originalKey": "61a761a5-509a-4be1-9488-cb89a246bc7e"
      },
      "source": [
        "And similarly for the intercepts:"
      ]
    },
    {
      "cell_type": "code",
      "metadata": {
        "originalKey": "0983bb3b-cb60-4f75-868a-c8ceb100b637",
        "collapsed": false,
        "requestMsgId": "19520021-7f63-4b2e-98cb-d819c3937798",
        "executionStartTime": 1637114733391,
        "executionStopTime": 1637114733641
      },
      "source": [
        "plt.figure(figsize=(10,8))\n",
        "plt.hist(intercepts, bins=30)\n",
        "plt.axvline(x=true_intercept, c='red', linewidth=5);"
      ],
      "execution_count": 17,
      "outputs": [
        {
          "output_type": "display_data",
          "data": {
            "text/plain": "<Figure size 720x576 with 1 Axes>",
            "image/png": "[encoded data removed]"
          },
          "metadata": {
            "bento_obj_id": "140082275510064",
            "needs_background": "light"
          }
        }
      ]
    },
    {
      "cell_type": "markdown",
      "metadata": {
        "originalKey": "ff3727f0-3135-465e-ae51-484ff0556c49"
      },
      "source": [
        "Notice that we generated the data by separating points along a line with slope $0.6$ and intercept $-4.0$, but were we to observe the *specific* set of 200 points we classified without knowing the true parameters ahead of time, we would deduce that the separating line had a slightly slower slope than $0.6$ and an intercept around $-3.0$. \n",
        "\n",
        "To more clearly illustrate the accuracy of the inference, we can take a random selection of the inferred lines and plot them on the data set:"
      ]
    },
    {
      "cell_type": "code",
      "metadata": {
        "originalKey": "9b7b0d44-b1df-4530-ac7d-82b73b7093b0",
        "collapsed": false,
        "requestMsgId": "25ef6e4e-e808-42f5-b28c-a621cfdcfe2b",
        "executionStartTime": 1637114736492,
        "executionStopTime": 1637114737422
      },
      "source": [
        "plt.figure(figsize=(10,8))\n",
        "plot_points(points, observed_categories)\n",
        "num_lines = 25\n",
        "for i in randint(0, len(slopes), (num_lines,)):\n",
        "    plot_line(slopes[i], intercepts[i])"
      ],
      "execution_count": 18,
      "outputs": [
        {
          "output_type": "display_data",
          "data": {
            "text/plain": "<Figure size 720x576 with 1 Axes>",
            "image/png": "[encoded data removed]"
          },
          "metadata": {
            "bento_obj_id": "140082262113200",
            "needs_background": "light"
          }
        }
      ]
    },
    {
      "cell_type": "markdown",
      "metadata": {
        "collapsed": true,
        "originalKey": "413d1834-8af4-404c-8658-af43520a0d5b"
      },
      "source": [
        "Inference typically finds a reasonable distribution of possible lines that separate these two categories."
      ]
    },
    {
      "cell_type": "markdown",
      "metadata": {
        "originalKey": "ce592651-6157-4246-a1ff-5972639ef192"
      },
      "source": [
        "## Diagnostics\n",
        "\n",
        "In addition to visualizing the lines directly, we can also use the diagnostics capabilities of Bean Machine to examine the deduced values of the coefficients; recall that the true coefficients were $-2.0$, $0.3$ and $-0.6$:"
      ]
    },
    {
      "cell_type": "code",
      "metadata": {
        "originalKey": "c0ca3cb6-23cc-4535-8082-6b4b3bbadc3e",
        "collapsed": false,
        "requestMsgId": "2bc7a718-9d65-47e6-945f-50bbe181e274",
        "executionStartTime": 1637114629009,
        "executionStopTime": 1637114629080
      },
      "source": [
        "bm.Diagnostics(samples).summary()"
      ],
      "execution_count": 13,
      "outputs": [
        {
          "output_type": "execute_result",
          "data": {
            "text/plain": "                           avg       std  ...     97.5%       n_eff\ncoefficients()[0, 0] -1.246007  0.297887  ... -0.763429   18.739229\ncoefficients()[1, 0]  0.201324  0.061140  ...  0.302589  169.037552\ncoefficients()[2, 0] -0.434330  0.077517  ... -0.300914   35.770031\n\n[3 rows x 6 columns]",
            "text/html": "<div>\n<style scoped>\n    .dataframe tbody tr th:only-of-type {\n        vertical-align: middle;\n    }\n\n    .dataframe tbody tr th {\n        vertical-align: top;\n    }\n\n    .dataframe thead th {\n        text-align: right;\n    }\n</style>\n<table border=\"1\" class=\"dataframe\">\n  <thead>\n    <tr style=\"text-align: right;\">\n      <th></th>\n      <th>avg</th>\n      <th>std</th>\n      <th>2.5%</th>\n      <th>50%</th>\n      <th>97.5%</th>\n      <th>n_eff</th>\n    </tr>\n  </thead>\n  <tbody>\n    <tr>\n      <th>coefficients()[0, 0]</th>\n      <td>-1.246007</td>\n      <td>0.297887</td>\n      <td>-1.796926</td>\n      <td>-1.217670</td>\n      <td>-0.763429</td>\n      <td>18.739229</td>\n    </tr>\n    <tr>\n      <th>coefficients()[1, 0]</th>\n      <td>0.201324</td>\n      <td>0.061140</td>\n      <td>0.094424</td>\n      <td>0.199188</td>\n      <td>0.302589</td>\n      <td>169.037552</td>\n    </tr>\n    <tr>\n      <th>coefficients()[2, 0]</th>\n      <td>-0.434330</td>\n      <td>0.077517</td>\n      <td>-0.574136</td>\n      <td>-0.430585</td>\n      <td>-0.300914</td>\n      <td>35.770031</td>\n    </tr>\n  </tbody>\n</table>\n</div>",
            "application/vnd.dataresource+json": {
              "schema": {
                "fields": [
                  {
                    "name": "index",
                    "type": "string"
                  },
                  {
                    "name": "avg",
                    "type": "number"
                  },
                  {
                    "name": "std",
                    "type": "number"
                  },
                  {
                    "name": "2.5%",
                    "type": "number"
                  },
                  {
                    "name": "50%",
                    "type": "number"
                  },
                  {
                    "name": "97.5%",
                    "type": "number"
                  },
                  {
                    "name": "n_eff",
                    "type": "number"
                  }
                ],
                "primaryKey": [
                  "index"
                ],
                "pandas_version": "0.20.0"
              },
              "data": [
                {
                  "index": "coefficients()[0, 0]",
                  "avg": -1.2460072041,
                  "std": 0.2978865206,
                  "2.5%": -1.7969260663,
                  "50%": -1.2176700234,
                  "97.5%": -0.7634289801,
                  "n_eff": 18.7392292023
                },
                {
                  "index": "coefficients()[1, 0]",
                  "avg": 0.2013237327,
                  "std": 0.0611398555,
                  "2.5%": 0.094424367,
                  "50%": 0.1991882548,
                  "97.5%": 0.3025892384,
                  "n_eff": 169.0375518799
                },
                {
                  "index": "coefficients()[2, 0]",
                  "avg": -0.4343304038,
                  "std": 0.0775169358,
                  "2.5%": -0.5741355136,
                  "50%": -0.4305846542,
                  "97.5%": -0.3009141035,
                  "n_eff": 35.7700309753
                }
              ]
            }
          },
          "metadata": {
            "bento_obj_id": "140082305334240"
          },
          "execution_count": 13
        }
      ]
    },
    {
      "cell_type": "markdown",
      "metadata": {
        "originalKey": "e3ccd720-144e-43f6-9adb-3dee890e1832"
      },
      "source": [
        "As you can see, the average and median (50%) values inferred are reasonably close to the true values but there is a large spread. Remember that *any constant multiple of the true values would produce the same line*; if we got $-4.0$, $0.6$ and $-1.2$ then the slope and intercept would be the same and only the amount of \"mixing\" near the line would change, so we can expect that this inference problem may have some fairly large variance.\n",
        "\n",
        "The `n_eff` column is the effective sample size, which indicates how correlated the posterior samples are to each other; higher is better. This effective sample size is a little low."
      ]
    },
    {
      "cell_type": "markdown",
      "metadata": {
        "originalKey": "c681bfcc-26a0-4f1d-a08d-d42227bc5e14"
      },
      "source": [
        "## Further explorations\n",
        "\n",
        "Try experimenting with different coefficients to generate the test data set; if the coefficients are relatively small then there is a lot of \"mixing\" of the orange and blue points; if relatively large, less so; how does this affect the distribution of lines? For example, if we have true coefficients $\\begin{bmatrix} -15.0 \\\\ -5.0 \\\\ -3.0\\end{bmatrix}$ then there will be almost no overlap; does inference do a better job finding the line?"
      ]
    },
    {
      "cell_type": "code",
      "metadata": {
        "originalKey": "517dc109-c92e-493e-b8a2-df836249af6e"
      },
      "source": [
        ""
      ],
      "execution_count": null,
      "outputs": []
    }
  ]
}
