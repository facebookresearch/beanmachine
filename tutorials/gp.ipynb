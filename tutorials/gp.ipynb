{
 "cells": [
  {
   "cell_type": "markdown",
   "metadata": {},
   "source": [
    "# Gaussian Process Regression (with GPytorch)\n",
    "A Gaussian Process (GP) is a stochastic process commonly used in Bayesian non-parametrics, whose random variables follow a multivariate Gaussian distribution.  GPs are fully defined by a mean and covariance function:\n",
    "\n",
    "$$f \\sim \\mathcal{GP}\\left(\\mu(x), \\mathbf{K}_f(x, x')\\right)$$\n",
    "\n",
    "where  $x, x' \\in\\mathbf{X}$ are two data points (e.g. train and test), $\\mu$ is the mean function (usually taken to be zero or constant), and $\\mathbf{K}_f$ is the kernel function, which computes a covariance given two datapoints.\n",
    "\n",
    "The aim is then to fit a posterior over *functions*.  GPs allow us to learn a distribution over functions given our observed data and predict unseen data with well-calibrated uncertainty, and is commonly used in Bayesian Optimization to maximize an objective. For a thorough introduction to Gaussian processes, please see [1]\n",
    "\n",
    "With a PPL such as Bean Machine, we can be Bayesian about the parameters we care about, i.e. learn posterior distributions over these parameters rather than a point estimate."
   ]
  },
  {
   "cell_type": "code",
   "execution_count": 1,
   "metadata": {},
   "outputs": [
    {
     "name": "stdout",
     "output_type": "stream",
     "text": [
      "pytorch:  1.7.0.dev20200901\n",
      "gpytorch:  1.2.0\n",
      "beanmachine:  0.0.1a1\n"
     ]
    }
   ],
   "source": [
    "import math\n",
    "import copy\n",
    "from functools import partial\n",
    "\n",
    "import torch\n",
    "import torch.distributions as dist\n",
    "\n",
    "import beanmachine\n",
    "import beanmachine.ppl as bm\n",
    "from beanmachine.ppl.inference.single_site_no_u_turn_sampler import SingleSiteNoUTurnSampler\n",
    "import beanmachine.ppl.experimental.gp as bgp\n",
    "from beanmachine.ppl.experimental.gp.models import SimpleGP\n",
    "from beanmachine.ppl.experimental.gp import likelihoods\n",
    "\n",
    "import gpytorch as gpt\n",
    "from gpytorch.kernels import Kernel\n",
    "from gpytorch.distributions import MultivariateNormal\n",
    "\n",
    "import matplotlib.pyplot as plt\n",
    "import seaborn as sns\n",
    "\n",
    "torch.manual_seed(123)\n",
    "print('pytorch: ', torch.__version__)\n",
    "print('gpytorch: ', gpt.__version__)\n",
    "print('beanmachine: ', beanmachine.__version__)"
   ]
  },
  {
   "cell_type": "code",
   "execution_count": 2,
   "metadata": {},
   "outputs": [],
   "source": [
    "x_train = torch.linspace(0, 1, 11)\n",
    "y_train = torch.sin(x_train * (2 * math.pi)) + torch.randn(x_train.shape) * 0.2\n",
    "x_test = torch.linspace(0, 1, 51).unsqueeze(-1)"
   ]
  },
  {
   "cell_type": "markdown",
   "metadata": {},
   "source": [
    "We will use Bean Machine's custom kernel and likelihood primitives to define our GP as a module. `SimpleGP` is a simple wrapper around `gpytorch.models.ExactGP` that lifts learnable parameters to BM random variables.  The `forward()` method defines our GP Multivariate Normal prior, similar to a Gpytorch model."
   ]
  },
  {
   "cell_type": "code",
   "execution_count": 3,
   "metadata": {},
   "outputs": [],
   "source": [
    "class Regression(SimpleGP):\n",
    "    def __init__(self,\n",
    "                 x_train,\n",
    "                 y_train,\n",
    "                 mean,\n",
    "                 kernel,\n",
    "                 likelihood,\n",
    "                 *args,\n",
    "                 **kwargs):\n",
    "        super().__init__(x_train, y_train, mean, kernel, likelihood)\n",
    "\n",
    "    def forward(self, data, batch_shape=()):\n",
    "        shape = data.shape[len(batch_shape)]\n",
    "        jitter = torch.eye(shape, shape) * 1e-5\n",
    "        for _ in range(len(batch_shape)):\n",
    "            jitter = jitter.unsqueeze(0)\n",
    "        if self.training:\n",
    "            mean = self.mean(batch_shape).expand(data.shape[len(batch_shape):])\n",
    "        else:\n",
    "            mean = self.mean.expand(data.shape[:-1]) # overridden for evaluation\n",
    "        cov = self.kernel(data) + jitter\n",
    "        return MultivariateNormal(mean, cov)"
   ]
  },
  {
   "cell_type": "markdown",
   "metadata": {},
   "source": [
    "Next, lets declare priors over our kernel parameters, mean, and observation noise. We'll use a periodic kernel with a learnable scale factor."
   ]
  },
  {
   "cell_type": "code",
   "execution_count": 4,
   "metadata": {},
   "outputs": [],
   "source": [
    "@bm.random_variable\n",
    "def outputscale_prior():\n",
    "    return dist.Uniform(torch.tensor(1.), torch.tensor(2.))\n",
    "\n",
    "@bm.random_variable\n",
    "def lengthscale_prior():\n",
    "    return dist.Uniform(torch.tensor([0.01]), torch.tensor([0.5]))\n",
    "\n",
    "@bm.random_variable\n",
    "def period_length_prior():\n",
    "    return dist.Uniform(torch.tensor([0.05]), torch.tensor([2.5]))\n",
    "\n",
    "@bm.random_variable\n",
    "def noise_prior():\n",
    "    return dist.Uniform(torch.tensor([0.05]), torch.tensor([0.3]))\n",
    "\n",
    "@bm.random_variable\n",
    "def mean_prior(batch_shape=()):\n",
    "    batch_shape += (1,)\n",
    "    a = -1 * torch.ones(batch_shape)\n",
    "    b = torch.ones(batch_shape)\n",
    "    return dist.Uniform(a, b)\n"
   ]
  },
  {
   "cell_type": "markdown",
   "metadata": {},
   "source": [
    "We'll create kernel and likelihood objects from our priors, and pass them to our GP model..."
   ]
  },
  {
   "cell_type": "code",
   "execution_count": 5,
   "metadata": {},
   "outputs": [],
   "source": [
    "kernel = bgp.kernels.ScaleKernel(\n",
    "            base_kernel=bgp.kernels.PeriodicKernel(period_length_prior=period_length_prior,\n",
    "                                                   lengthscale_prior=lengthscale_prior),\n",
    "            outputscale_prior=outputscale_prior\n",
    "        )\n",
    "likelihood = likelihoods.GaussianLikelihood(noise_prior=noise_prior)\n",
    "\n",
    "gp = Regression(x_train, y_train, mean_prior, kernel, likelihood)"
   ]
  },
  {
   "cell_type": "markdown",
   "metadata": {},
   "source": [
    "...and then run inference as usual:"
   ]
  },
  {
   "cell_type": "code",
   "execution_count": 6,
   "metadata": {
    "scrolled": false
   },
   "outputs": [
    {
     "data": {
      "application/vnd.jupyter.widget-view+json": {
       "model_id": "1825e4723f8d4e7c8fd6d97cde69dcb1",
       "version_major": 2,
       "version_minor": 0
      },
      "text/plain": [
       "HBox(children=(FloatProgress(value=0.0, description='Samples collected', max=110.0, style=ProgressStyle(descri…"
      ]
     },
     "metadata": {},
     "output_type": "display_data"
    },
    {
     "name": "stdout",
     "output_type": "stream",
     "text": [
      "\n"
     ]
    }
   ],
   "source": [
    "num_samples = 100\n",
    "\n",
    "gp_prior = partial(gp.__call__, x_train)\n",
    "obs = {gp.likelihood(gp_prior): y_train}\n",
    "\n",
    "nuts = SingleSiteNoUTurnSampler()\n",
    "samples = nuts.infer([mean_prior(), lengthscale_prior(), period_length_prior(),\n",
    "                      outputscale_prior()],\n",
    "                     obs,\n",
    "                     num_samples=num_samples,\n",
    "                     num_adaptive_samples=10,\n",
    "                     num_chains=1)"
   ]
  },
  {
   "cell_type": "markdown",
   "metadata": {},
   "source": [
    "Let's take a look at how our model fit. We will plot the samples of our posterior as well as the predictives generated from our GP."
   ]
  },
  {
   "cell_type": "code",
   "execution_count": 7,
   "metadata": {},
   "outputs": [],
   "source": [
    "lengthscale_samples = samples.get_chain(0)[lengthscale_prior()]\n",
    "outputscale_samples = samples.get_chain(0)[outputscale_prior()]\n",
    "period_length_samples = samples.get_chain(0)[period_length_prior()]\n",
    "mean_samples = samples.get_chain(0)[mean_prior()]"
   ]
  },
  {
   "cell_type": "code",
   "execution_count": 8,
   "metadata": {
    "scrolled": true
   },
   "outputs": [
    {
     "data": {
      "image/png": "[encoded data removed]",
      "text/plain": [
       "<Figure size 576x360 with 1 Axes>"
      ]
     },
     "metadata": {
      "needs_background": "light"
     },
     "output_type": "display_data"
    }
   ],
   "source": [
    "plt.figure(figsize=(8, 5))\n",
    "sns.distplot(lengthscale_samples, label='lengthscale')\n",
    "sns.distplot(outputscale_samples, label='outputscale')\n",
    "sns.distplot(period_length_samples[:int(num_samples/2)], label='periodlength')\n",
    "plt.legend()\n",
    "plt.title(\"Posterior Empirical Distribution\", fontsize=18)\n",
    "plt.tight_layout()\n",
    "plt.show()\n"
   ]
  },
  {
   "cell_type": "markdown",
   "metadata": {},
   "source": [
    "To generate predictions, we will convert our model to a Gpytorch model by running in `eval` mode. We load our posterior samples with a python dict, keyed on the parameter namespace and valued on the torch tensor of samples. Note the `unsqueeze`s to allow broadcasting of the data dimension to the right. "
   ]
  },
  {
   "cell_type": "code",
   "execution_count": 9,
   "metadata": {
    "scrolled": false
   },
   "outputs": [],
   "source": [
    "gp.eval() # converts to Gpytorch model in eval mode\n",
    "gp.bm_load_samples({'kernel.outputscale': outputscale_samples,\n",
    "               'kernel.base_kernel.lengthscale': lengthscale_samples.unsqueeze(-1),\n",
    "               'kernel.base_kernel.period_length': period_length_samples.unsqueeze(-1),\n",
    "               'mean': mean_samples,\n",
    "              })\n",
    "expanded_x_test = x_test.unsqueeze(0).repeat(num_samples, 1, 1)\n",
    "output = gp(expanded_x_test.detach(), batch_shape=(num_samples,))"
   ]
  },
  {
   "cell_type": "code",
   "execution_count": 10,
   "metadata": {
    "scrolled": true
   },
   "outputs": [
    {
     "data": {
      "image/png": "[encoded data removed]",
      "text/plain": [
       "<Figure size 288x216 with 1 Axes>"
      ]
     },
     "metadata": {
      "needs_background": "light"
     },
     "output_type": "display_data"
    }
   ],
   "source": [
    "with torch.no_grad():\n",
    "    f, ax = plt.subplots(1, 1, figsize=(4, 3))\n",
    "    ax.plot(x_train.numpy(), y_train.numpy(), 'k*', zorder=10)\n",
    "    for i in range(min(20, num_samples)):\n",
    "        ax.plot(x_test.numpy(), output.mean[i].detach().numpy(), 'b', linewidth=0.3)\n",
    "    ax.legend(['Observed Data', 'Sampled Means'])"
   ]
  },
  {
   "cell_type": "markdown",
   "metadata": {},
   "source": [
    "## References\n",
    "[1] Rasmussen, Carl and Williams, Christopher. **Gaussian Processes for Machine Learning**. 2006."
   ]
  }
 ],
 "metadata": {
  "kernelspec": {
   "display_name": "Python 3",
   "language": "python",
   "name": "python3"
  },
  "language_info": {
   "codemirror_mode": {
    "name": "ipython",
    "version": 3
   },
   "file_extension": ".py",
   "mimetype": "text/x-python",
   "name": "python",
   "nbconvert_exporter": "python",
   "pygments_lexer": "ipython3",
   "version": "3.7.6"
  }
 },
 "nbformat": 4,
 "nbformat_minor": 4
}
