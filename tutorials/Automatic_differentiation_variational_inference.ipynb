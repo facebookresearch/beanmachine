{
 "cells": [
  {
   "cell_type": "markdown",
   "metadata": {
    "customInput": null,
    "customOutput": null,
    "executionStartTime": 1661302280147,
    "executionStopTime": 1661302280197,
    "originalKey": "f3588f1d-48ba-4ba3-8ab6-98824c186a5f",
    "requestMsgId": "f3588f1d-48ba-4ba3-8ab6-98824c186a5f",
    "showInput": false
   },
   "source": [
    "# Tutorial: Automatic differentiation variational inference (ADVI)"
   ]
  },
  {
   "cell_type": "markdown",
   "metadata": {
    "customInput": null,
    "originalKey": "caa2603b-0377-4d8f-a8ae-bef574660e20",
    "showInput": false
   },
   "source": [
    "This tutorial demonstrates the automatic differentiation variational inference (ADVI) `AutoGuideVI` implementation.\n",
    "It assumes a variational family which mean-field factorizes into a product of Gaussians: $$q(z) = \\prod_i N(z_i; \\mu_i, \\sigma_i)$$\n",
    "ADVI is a convenient way to perform VI and obtain distributional estimates which\n",
    "include uncertainty. It is appropriate when posteriors are expected to be close to a product of\n",
    "Normals."
   ]
  },
  {
   "cell_type": "markdown",
   "metadata": {},
   "source": [
    "# Prerequisites"
   ]
  },
  {
   "cell_type": "code",
   "execution_count": null,
   "metadata": {},
   "outputs": [],
   "source": [
    "# Install Bean Machine in Colab if using Colab.\n",
    "import sys\n",
    "\n",
    "\n",
    "if \"google.colab\" in sys.modules and \"beanmachine\" not in sys.modules:\n",
    "    !pip install beanmachine"
   ]
  },
  {
   "cell_type": "code",
   "execution_count": 1,
   "metadata": {},
   "outputs": [],
   "source": [
    "import torch.distributions as dist\n",
    "import beanmachine.ppl as bm\n",
    "import torch\n",
    "from beanmachine.ppl.inference.vi import ADVI"
   ]
  },
  {
   "cell_type": "code",
   "execution_count": null,
   "metadata": {},
   "outputs": [],
   "source": [
    "import os\n",
    "\n",
    "# Plotting settings\n",
    "plt.rc(\"figure\", figsize=[8, 6])\n",
    "plt.rc(\"font\", size=14)\n",
    "plt.rc(\"lines\", linewidth=2.5)\n",
    "\n",
    "# Manual seed\n",
    "bm.seed(11)\n",
    "torch.manual_seed(11)\n",
    "\n",
    "# Other settings for the notebook.\n",
    "smoke_test = \"SANDCASTLE_NEXUS\" in os.environ or \"CI\" in os.environ"
   ]
  },
  {
   "cell_type": "markdown",
   "metadata": {
    "customInput": null,
    "originalKey": "8ddeec3b-b69b-400a-9716-93a5d2e19d86",
    "showInput": false
   },
   "source": [
    "## ADVI on a Normal-Normal model"
   ]
  },
  {
   "cell_type": "markdown",
   "metadata": {
    "code_folding": [],
    "customInput": null,
    "hidden_ranges": [],
    "originalKey": "a6857036-db4c-4a18-a8b0-e284cf23de8e",
    "showInput": false
   },
   "source": [
    "This example considers a Normal-Normal model where both the prior $\\mu \\sim N(0, 10)$ and observation model $x \\mid \\mu \\sim N(\\mu, 1)$ are Normal distributions. All of ADVI's\n",
    "assumptions are satisfied in this setting."
   ]
  },
  {
   "cell_type": "code",
   "execution_count": 2,
   "metadata": {},
   "outputs": [],
   "source": [
    "std_0 = 10. # scale for mu\n",
    "std_x = 1. # scale for observations x(i)\n",
    "\n",
    "@bm.random_variable\n",
    "def mu():\n",
    "    return dist.Normal(\n",
    "        torch.zeros(1), std_0 * torch.ones(1)\n",
    "    )\n",
    "\n",
    "@bm.random_variable\n",
    "def x(i):\n",
    "    return dist.Normal(mu(), std_x * torch.ones(1))\n",
    "\n",
    "observations = {x(i): torch.tensor(1.0) for i in range(10)}"
   ]
  },
  {
   "cell_type": "markdown",
   "metadata": {
    "customInput": null,
    "originalKey": "7f28e20c-ea97-4dc6-aa66-234ee9be4b05",
    "showInput": false
   },
   "source": [
    "The posterior distribution $\\mu \\mid x$ is Gaussian due to conjugacy.\n",
    "Below, we [use conjugacy](https://en.wikipedia.org/wiki/Conjugate_prior#When_likelihood_function_is_a_continuous_distribution)\n",
    "to compute its location and scale in closed form"
   ]
  },
  {
   "cell_type": "code",
   "execution_count": 3,
   "metadata": {},
   "outputs": [
    {
     "name": "stdout",
     "output_type": "stream",
     "text": [
      "tensor(0.9990) tensor(0.3161)\n"
     ]
    }
   ],
   "source": [
    "expected_variance = 1 / (\n",
    "    (std_0**-2) + (sum(observations.values()) / std_x**2)\n",
    ")\n",
    "expected_std = torch.sqrt(expected_variance)\n",
    "expected_mean = expected_variance * (\n",
    "    (sum(observations.values()) / std_x**2)\n",
    ")\n",
    "print(expected_mean, expected_std)"
   ]
  },
  {
   "cell_type": "markdown",
   "metadata": {
    "customInput": null,
    "originalKey": "2954d2e8-5eb1-45a2-8d0e-46b9be49d1df",
    "showInput": false
   },
   "source": [
    "ADVI makes a mean-field assumption, but this does not matter since there is a single 1-dimensional latent random variable.\n",
    "It also uses a Gaussian variational approximation, but this is appropriate for this example since by conjugacy we know\n",
    "this assumption is valid. Hence, we expect ADVI to yield a good approximation:"
   ]
  },
  {
   "cell_type": "code",
   "execution_count": 4,
   "metadata": {},
   "outputs": [
    {
     "data": {
      "application/vnd.jupyter.widget-view+json": {
       "model_id": "bad50808fcda4378a71bb70903dca34c",
       "version_major": 2,
       "version_minor": 0
      },
      "text/plain": [
       "  0%|          | 0/1000 [00:00<?, ?it/s]"
      ]
     },
     "metadata": {},
     "output_type": "display_data"
    },
    {
     "name": "stdout",
     "output_type": "stream",
     "text": [
      "Normal(loc: tensor([1.0570], requires_grad=True), scale: tensor([0.3229], grad_fn=<SoftplusBackward0>))\n"
     ]
    }
   ],
   "source": [
    "v_world = ADVI(queries=[mu()], observations=observations,).infer(\n",
    "    num_steps=1000,\n",
    ")\n",
    "print(v_world.get_guide_distribution(mu()))"
   ]
  },
  {
   "cell_type": "markdown",
   "metadata": {},
   "source": [
    "Below we visualize the density functions for the target and the ADVI approximation."
   ]
  },
  {
   "cell_type": "code",
   "execution_count": 13,
   "metadata": {},
   "outputs": [
    {
     "data": {
      "image/png": "[encoded data removed]",
      "text/plain": [
       "<Figure size 640x480 with 1 Axes>"
      ]
     },
     "metadata": {},
     "output_type": "display_data"
    }
   ],
   "source": [
    "import pandas as pd\n",
    "import seaborn as sns\n",
    "\n",
    "\n",
    "sns.set_style('darkgrid')\n",
    "\n",
    "with torch.no_grad():\n",
    "    xs = torch.linspace(-4, 4, steps=100)\n",
    "    sns.lineplot(\n",
    "        data=pd.DataFrame({\n",
    "            'mu': xs,\n",
    "            'target': dist.Normal(expected_mean, expected_std).log_prob(xs),\n",
    "            'ADVI approximation': v_world.get_guide_distribution(mu()).log_prob(xs),\n",
    "        }).melt(id_vars=['mu'], value_name='log_prob'),\n",
    "        x='mu',\n",
    "        y='log_prob',\n",
    "        hue='variable',\n",
    "    )\n"
   ]
  },
  {
   "cell_type": "code",
   "execution_count": null,
   "metadata": {},
   "outputs": [],
   "source": []
  }
 ],
 "metadata": {
  "language_info": {
   "name": "python"
  }
 },
 "nbformat": 4,
 "nbformat_minor": 4
}
