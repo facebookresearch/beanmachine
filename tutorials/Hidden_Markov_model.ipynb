{
 "cells": [
  {
   "cell_type": "markdown",
   "metadata": {
    "customInput": null,
    "originalKey": "4dbd5617-33f8-4544-82d3-0f96e82c50e6",
    "showInput": false
   },
   "source": [
    "## Tutorial: **Hidden Markov model**"
   ]
  },
  {
   "cell_type": "markdown",
   "metadata": {
    "customInput": null,
    "originalKey": "f699d5cc-9798-4828-8732-70d2d497edba",
    "showInput": false
   },
   "source": [
    "This tutorial demonstrates modeling and running inference on a hidden Markov model (HMM)\n",
    "in Bean Machine. The flexibility of this model allows us to demonstrate some of the\n",
    "great unique features of Bean Machine, such as block inference, compositional inference,\n",
    "and separation of data from the model."
   ]
  },
  {
   "cell_type": "markdown",
   "metadata": {
    "customInput": null,
    "originalKey": "9390c28c-9c48-48cc-a207-3f73dbabbcc6",
    "showInput": false,
    "tags": []
   },
   "source": [
    "## Problem"
   ]
  },
  {
   "cell_type": "markdown",
   "metadata": {
    "customInput": null,
    "originalKey": "9390c28c-9c48-48cc-a207-3f73dbabbcc6",
    "showInput": false
   },
   "source": [
    "HMMs are a class of probabilistic models which are popular for doing inference on\n",
    "discrete-time stochastic processes. In general, Markov models are used to study a\n",
    "sequence of random variables, $X_1,\\ldots,X_N$, where the sequence is \"memoryless\" such\n",
    "that the distribution of $X_{n}$ depends only on the value of $X_{n-1}$; any sequence\n",
    "which is memoryless is said to satisfy the Markov property. One reason Markov models are\n",
    "popular is because this flexible framework can be used to model many time-evolving\n",
    "processes, such as words in a sentence, the position of a robot, or the weather.\n",
    "\n",
    "An HMM is a Markov model in which observations are modeled as being noisy. While we are\n",
    "interested in doing inference on each $X_n$, we are actually observing variables\n",
    "$Y_1,\\ldots,Y_N$ which can depend on the values of $X_1,\\ldots,X_N$ in a variety of\n",
    "ways. In specific settings, HMMs can be very tractable, and lend themselves towards\n",
    "provably-optimal algorithms such as Kalman Filtering. Here, we illustrate how to do\n",
    "general inference with MCMC as applicable to general HMMs. The single-site algorithms\n",
    "underlying Bean Machine enable inference algorithms which scale favorably with the size\n",
    "of the HMM."
   ]
  },
  {
   "cell_type": "markdown",
   "metadata": {
    "customInput": null,
    "originalKey": "a50a9e55-266a-4e70-be95-e7cc18e8381e",
    "showInput": false
   },
   "source": [
    "## Prerequisites"
   ]
  },
  {
   "cell_type": "markdown",
   "metadata": {
    "customInput": null,
    "originalKey": "d5858da4-abf4-47ad-9cf3-f2c415faeb0e",
    "showInput": false
   },
   "source": [
    "Let's code this in Bean Machine! Import the Bean Machine library, some fundamental PyTorch classes, and optionally typing for our code."
   ]
  },
  {
   "cell_type": "code",
   "execution_count": 1,
   "metadata": {},
   "outputs": [],
   "source": [
    "# Install Bean Machine in Colab if using Colab.\n",
    "import sys\n",
    "\n",
    "\n",
    "if \"google.colab\" in sys.modules and \"beanmachine\" not in sys.modules:\n",
    "    !pip install beanmachine"
   ]
  },
  {
   "cell_type": "code",
   "execution_count": 2,
   "metadata": {},
   "outputs": [],
   "source": [
    "import logging\n",
    "import os\n",
    "import warnings\n",
    "\n",
    "import beanmachine.ppl as bm\n",
    "import matplotlib.pyplot as plt\n",
    "import torch\n",
    "import torch.distributions as dist"
   ]
  },
  {
   "cell_type": "markdown",
   "metadata": {},
   "source": [
    "The next cell includes convenient configuration settings to improve the notebook\n",
    "presentation as well as setting a manual seed for reproducibility."
   ]
  },
  {
   "cell_type": "code",
   "execution_count": 3,
   "metadata": {},
   "outputs": [],
   "source": [
    "# Eliminate excess inference logging from Bean Machine, except for progress bars.\n",
    "logging.getLogger(\"beanmachine\").setLevel(50)\n",
    "warnings.filterwarnings(\"ignore\")\n",
    "\n",
    "# Manual seed\n",
    "bm.seed(111)\n",
    "\n",
    "# Other settings for the notebook.\n",
    "smoke_test = \"SANDCASTLE_NEXUS\" in os.environ or \"CI\" in os.environ"
   ]
  },
  {
   "cell_type": "markdown",
   "metadata": {
    "customInput": null,
    "originalKey": "d340d033-17f1-423c-9734-823e3ee18062",
    "showInput": false
   },
   "source": [
    "## Model"
   ]
  },
  {
   "cell_type": "markdown",
   "metadata": {
    "customInput": null,
    "originalKey": "d340d033-17f1-423c-9734-823e3ee18062",
    "showInput": false
   },
   "source": [
    "We model the hidden state $X$ as being a discrete-time Markov chain with $K$ states and\n",
    "transition matrix (_a.k.a._ kernel) $\\Theta$. We model $N$ time steps of this chain with\n",
    "variables $X_1,\\ldots,X_N$, and use variables $Y_1,\\ldots,Y_N$ to model observable\n",
    "emissions of each $X$ with Gaussian noise.\n",
    "\n",
    "Formally, the transition and emission probabilities are as follows, for\n",
    "$n\\in1,\\ldots,N$:\n",
    "\n",
    "- $X_{n+1}\\mid X_n\\sim\\text{Categorical}(\\Theta[X_n])$\n",
    "- $Y_n\\mid X_n\\sim\\text{Normal}(\\mu[X_n],\\sigma[X_n])$\n",
    "\n",
    "\n",
    "Accordingly, priors can be assigned as follows, for $k\\in1,\\ldots,K$:\n",
    "\n",
    "- $\\mu[k]\\sim\\text{Normal}(\\mu_\\text{loc},\\mu_\\text{scale})$\n",
    "- $\\sigma[k]\\sim\\text{Gamma}(\\sigma_\\text{shape},\\sigma_\\text{rate})$\n",
    "- $\\Theta[k]\\sim\\text{Dirichlet}([\\frac{c}{K},\\ldots,\\frac{c}{K}])$\n",
    "\n",
    "\n",
    "Finally, assume that the value of $X_1$ is known:\n",
    "\n",
    "- $X_1=0$\n",
    "\n",
    "\n",
    "So the model is set by choosing the prior through the values of:\n",
    "$\\mu_\\text{loc},\\mu_\\text{scale},\\sigma_\\text{shape},\\sigma_\\text{rate},c$. ($c$ stands\n",
    "for concentration).\n",
    "\n",
    "We can implement this model in Bean Machine by defining random variable objects with the\n",
    "`@bm.random_variable` decorator. These functions behave differently than ordinary Python\n",
    "functions."
   ]
  },
  {
   "cell_type": "markdown",
   "metadata": {
    "customInput": null,
    "originalKey": "d340d033-17f1-423c-9734-823e3ee18062",
    "showInput": false
   },
   "source": [
    "<div\n",
    "  style=\"background: #daeaf3;\n",
    "      border_left: 3px solid #2980b9;\n",
    "      display: block;\n",
    "      margin: 16px 0;\n",
    "      padding: 12px;\"\n",
    ">\n",
    "  Semantics for <code>@bm.random_variable</code> functions:\n",
    "  <ul>\n",
    "    <li>\n",
    "      They must return PyTorch <code>Distribution</code> objects.\n",
    "    </li>\n",
    "    <li>\n",
    "      Though they return distributions, callees actually receive <i>samples</i> from the\n",
    "      distribution. The machinery for obtaining samples from distributions is handled\n",
    "      internally by Bean Machine.\n",
    "    </li>\n",
    "    <li>\n",
    "      Inference runs the model through many iterations. During a particular inference\n",
    "      iteration, a distinct random variable will correspond to exactly one sampled\n",
    "      value: <b>calls to the same random variable function with the same arguments will\n",
    "      receive the same sampled value within one inference iteration</b>. This makes it\n",
    "      easy for multiple components of your model to refer to the same logical random\n",
    "      variable.\n",
    "    </li>\n",
    "    <li>\n",
    "      Consequently, to define distinct random variables that correspond to different\n",
    "      sampled values during a particular inference iteration, an effective practice is\n",
    "      to add a dummy \"indexing\" parameter to the function. Distinct random variables\n",
    "      can be referred to with different values for this index.\n",
    "    </li>\n",
    "    <li>\n",
    "      Please see the documentation for more information about this decorator.\n",
    "    </li>\n",
    "  </ul>\n",
    "</div>"
   ]
  },
  {
   "cell_type": "markdown",
   "metadata": {
    "customInput": null,
    "originalKey": "d340d033-17f1-423c-9734-823e3ee18062",
    "showInput": false
   },
   "source": [
    "Note also that, compared to the statistical notation above, our implementation uses\n",
    "0-indexing instead of 1-indexing."
   ]
  },
  {
   "cell_type": "code",
   "execution_count": 4,
   "metadata": {},
   "outputs": [],
   "source": [
    "class HiddenMarkovModel:\n",
    "    def __init__(\n",
    "        self,\n",
    "        N: int,\n",
    "        K: int,\n",
    "        concentration: float,\n",
    "        mu_loc: float,\n",
    "        mu_scale: float,\n",
    "        sigma_shape: float,\n",
    "        sigma_rate: float,\n",
    "    ) -> None:\n",
    "        self.N = N\n",
    "        self.K = K\n",
    "\n",
    "        self.concentration = concentration\n",
    "        self.mu_loc = mu_loc\n",
    "        self.mu_scale = mu_scale\n",
    "        self.sigma_shape = sigma_shape\n",
    "        self.sigma_rate = sigma_rate\n",
    "\n",
    "    @bm.random_variable\n",
    "    def Theta(self, k):\n",
    "        return dist.Dirichlet(torch.ones(self.K) * self.concentration / self.K)\n",
    "\n",
    "    @bm.random_variable\n",
    "    def Mu(self, k):\n",
    "        return dist.Normal(self.mu_loc, self.mu_scale)\n",
    "\n",
    "    @bm.random_variable\n",
    "    def Sigma(self, k):\n",
    "        return dist.Gamma(self.sigma_shape, self.sigma_rate)\n",
    "\n",
    "    @bm.random_variable\n",
    "    def X(self, n: int):\n",
    "        if n == 0:\n",
    "            return dist.Categorical(torch.tensor([1.0] + [0.0] * (self.K - 1)))\n",
    "        else:\n",
    "            return dist.Categorical(self.Theta(self.X(n - 1).item()))\n",
    "\n",
    "    @bm.random_variable\n",
    "    def Y(self, n: int):\n",
    "        return dist.Normal(self.Mu(self.X(n).item()), self.Sigma(self.X(n).item()))"
   ]
  },
  {
   "cell_type": "markdown",
   "metadata": {},
   "source": [
    "## Data"
   ]
  },
  {
   "cell_type": "markdown",
   "metadata": {},
   "source": [
    "First, we will generate random observations and choose the priors."
   ]
  },
  {
   "cell_type": "code",
   "execution_count": 5,
   "metadata": {},
   "outputs": [],
   "source": [
    "def generate_chain_observations(theta, mus, sigmas, N):\n",
    "    theta_distbns = {j: dist.Categorical(vector) for j, vector in enumerate(theta)}\n",
    "    hidden = [0]\n",
    "    while len(hidden) < N:\n",
    "        hidden.append(theta_distbns[hidden[-1]].sample().item())\n",
    "\n",
    "    def observe(k):\n",
    "        return dist.Normal(mus[k], sigmas[k]).sample().item()\n",
    "\n",
    "    return hidden, list(map(observe, hidden))"
   ]
  },
  {
   "cell_type": "code",
   "execution_count": 6,
   "metadata": {},
   "outputs": [],
   "source": [
    "concentration = 1.1\n",
    "mu_loc = 0.0\n",
    "mu_scale = 5.0\n",
    "sigma_shape = 0.5\n",
    "sigma_rate = 1.0\n",
    "\n",
    "N = 15\n",
    "K = 2\n",
    "\n",
    "thetas_obs = dist.Dirichlet(torch.ones(K) * concentration / K).sample((K,))\n",
    "mus_obs = dist.Normal(mu_loc, mu_scale).sample((K,))\n",
    "sigmas_obs = dist.Gamma(sigma_shape, sigma_rate).sample((K,))\n",
    "\n",
    "\n",
    "xs_obs, ys_obs = generate_chain_observations(thetas_obs, mus_obs, sigmas_obs, N)\n",
    "x_obs = torch.tensor(xs_obs)\n",
    "y_obs = torch.tensor(ys_obs)"
   ]
  },
  {
   "cell_type": "code",
   "execution_count": 7,
   "metadata": {},
   "outputs": [],
   "source": [
    "# Initialize model\n",
    "model = HiddenMarkovModel(\n",
    "    N,\n",
    "    K,\n",
    "    concentration,\n",
    "    mu_loc,\n",
    "    mu_scale,\n",
    "    sigma_shape,\n",
    "    sigma_rate,\n",
    ")"
   ]
  },
  {
   "cell_type": "markdown",
   "metadata": {},
   "source": [
    "## Inference"
   ]
  },
  {
   "cell_type": "markdown",
   "metadata": {},
   "source": [
    "Inference is the process of combining _model_ with _data_ to obtain _insights_, in the\n",
    "form of probability distributions over values of interest. Bean Machine offers a\n",
    "powerful and general inference framework to enable fitting arbitrary models to data.\n",
    "\n",
    "Our model makes use of both continuous and discrete random variables. We'll want to make\n",
    "use of different inference strategies for each. In particular, we would like to take\n",
    "advantage of gradient information for the continuous random variables. To facilitate\n",
    "this, Bean Machine provides the `CompositionalInference` class.\n",
    "\n",
    "`CompositionalInference` is a powerful, flexible class for configuring inference in a\n",
    "variety of ways. By default, `CompositionalInference` will select an inference method\n",
    "for each random variable that is appropriate based on its support. The HMM presented in\n",
    "this tutorial has a number of different random variables that we're interested in\n",
    "learning about, and we will customize our own. The proposers for each family of random variables are summarized in the table below:\n",
    "\n",
    "| Random variable | Support            | Inference method                            |\n",
    "| --------------- | ------------------ | ------------------------------------------- |\n",
    "| $X$             | $0,\\ldots,K-1$     | Uniform Metropolis Hastings                 |\n",
    "| $\\mu$           | $(-\\infty,\\infty)$ | Newtonian Monte Carlo (real space proposer) |\n",
    "| $\\sigma$        | $[0,\\infty)$       | Newtonian Monte Carlo (half space proposer) |\n",
    "\n",
    "You can learn more about compositional inference in our framework topics.\n",
    "\n",
    "Normally, this is all you would have to do! However, the HMM model has meaningful\n",
    "structure that we would like to consider when configuring our inference strategy. In\n",
    "particular, the hidden state of each time step, $X_n$, is highly correlated with the\n",
    "state $X_{n-1}$. Thus, we would also like to jointly propose new values for all $X$ —\n",
    "it is very likely that the value of a hidden state $X_n$ becomes invalid and needs to be\n",
    "recomputed after $X_{n-1}$ is updated. Similarly, we would like to update the location\n",
    "$\\mu$ and the scale $\\sigma$ of the hidden states jointly as well. In order to update\n",
    "these variables jointly, we can configure `CompositionalInference` to \"block\" the random\n",
    "variables together.\n",
    "\n",
    "`CompositionalInference` accepts a dictionary that maps families of random variable to\n",
    "the corresponding algorithm, which allow you to override the default inference method\n",
    "for a particular subset of nodes, or group some of them into a block. To define a block,\n",
    "we simply need to pass `CompositionalInference` a *tuple* containing all random variable\n",
    "families that we want to propose jointly as a key. In our case, since we don't want to\n",
    "override the default inference method, we can use `...` instead of providing an\n",
    "inference class for the block."
   ]
  },
  {
   "cell_type": "code",
   "execution_count": 8,
   "metadata": {},
   "outputs": [],
   "source": [
    "compositional = bm.CompositionalInference(\n",
    "    {(model.X): ..., (model.Sigma, model.Mu): bm.SingleSiteNewtonianMonteCarlo()}\n",
    ")"
   ]
  },
  {
   "cell_type": "markdown",
   "metadata": {},
   "source": [
    "You may notice that we are using what we referred to as \"random variable families\" such\n",
    "as `model.X` as keys, which are essentially functions that generates the random\n",
    "variables, instead of using instantiated random variable like `model.X(0)` and\n",
    "`model.X(1)`. This is because often times the number of random variables is not known\n",
    "ahead of time until an inference starts with some data (you can even have an unbounded\n",
    "number of nodes for some models). By using random variable families in the config, we no\n",
    "longer need to explicitly spell out all instances of the random variables and group them\n",
    "in a huge tuple.\n",
    "\n",
    "The next step is to define the queries and observations. For this particular run, we're\n",
    "interested in inferring $X$, $\\mu$, and $\\sigma$."
   ]
  },
  {
   "cell_type": "code",
   "execution_count": 9,
   "metadata": {},
   "outputs": [],
   "source": [
    "queries = (\n",
    "    [model.X(n) for n in range(1, model.N)]\n",
    "    + [model.Mu(k) for k in range(model.K)]\n",
    "    + [model.Sigma(k) for k in range(model.K)]\n",
    ")\n",
    "\n",
    "observations = {\n",
    "    model.X(0): torch.tensor(0.0),\n",
    "    **{model.Y(n): y_obs[n] for n in range(model.N)},\n",
    "    **{model.Theta(k): thetas_obs[k] for k in range(model.K)},\n",
    "}"
   ]
  },
  {
   "cell_type": "markdown",
   "metadata": {},
   "source": [
    "Running inference consists of a few arguments:\n",
    "\n",
    "| Name           | Usage                                                                                                    |\n",
    "| -------------- | -------------------------------------------------------------------------------------------------------- |\n",
    "| `queries`      | List of `@bm.random_variable` targets to fit posterior distributions for.                                |\n",
    "| `observations` | A dictionary of observations, as built above.                                                            |\n",
    "| `num_samples`  | Number of Monte Carlo samples to approximate the posterior distributions for the variables in `queries`. |\n",
    "| `num_chains`   | Number of separate inference runs to use. Multiple chains can help verify that inference ran correctly.  |"
   ]
  },
  {
   "cell_type": "code",
   "execution_count": 10,
   "metadata": {},
   "outputs": [
    {
     "data": {
      "application/vnd.jupyter.widget-view+json": {
       "model_id": "6c8e9cf130ff4b3ebe1215367921e4cf",
       "version_major": 2,
       "version_minor": 0
      },
      "text/plain": [
       "Samples collected:   0%|          | 0/400 [00:00<?, ?it/s]"
      ]
     },
     "metadata": {},
     "output_type": "display_data"
    }
   ],
   "source": [
    "num_samples = 400 if not smoke_test else 1\n",
    "num_chains = 1\n",
    "\n",
    "samples = compositional.infer(\n",
    "    queries=queries,\n",
    "    observations=observations,\n",
    "    num_samples=num_samples,\n",
    "    num_chains=num_chains,\n",
    ")\n",
    "\n",
    "samples = samples.get_chain(0)"
   ]
  },
  {
   "cell_type": "code",
   "execution_count": 11,
   "metadata": {},
   "outputs": [],
   "source": [
    "# X(0) is observed and is not part of query\n",
    "x_samples = torch.stack(\n",
    "    [torch.zeros(num_samples)] + [samples[model.X(n)] for n in range(1, model.N)], dim=1\n",
    ")\n",
    "mu_samples = torch.stack([samples[model.Mu(k)] for k in range(model.K)]).T\n",
    "sigma_samples = torch.stack([samples[model.Sigma(k)] for k in range(model.K)]).T"
   ]
  },
  {
   "cell_type": "markdown",
   "metadata": {
    "customInput": null,
    "originalKey": "6d7a8437-eddc-434b-a895-325bb761a49f",
    "showInput": false
   },
   "source": [
    "## Visualization"
   ]
  },
  {
   "cell_type": "markdown",
   "metadata": {
    "customInput": null,
    "originalKey": "6d7a8437-eddc-434b-a895-325bb761a49f",
    "showInput": false
   },
   "source": [
    "We will look at the values of the samples collected for $X$ and $\\mu$. We will take the\n",
    "mean of samples taken over the last 10% of the chain, and compare these to our synthetic\n",
    "data."
   ]
  },
  {
   "cell_type": "code",
   "execution_count": 12,
   "metadata": {},
   "outputs": [
    {
     "data": {
      "image/png": "[encoded data removed]",
      "text/plain": [
       "<Figure size 432x288 with 1 Axes>"
      ]
     },
     "metadata": {
      "needs_background": "light"
     },
     "output_type": "display_data"
    },
    {
     "data": {
      "image/png": "[encoded data removed]",
      "text/plain": [
       "<Figure size 432x288 with 1 Axes>"
      ]
     },
     "metadata": {
      "needs_background": "light"
     },
     "output_type": "display_data"
    }
   ],
   "source": [
    "tail_len = num_samples // 10\n",
    "\n",
    "xs_tail_plot = x_samples[-tail_len:].mean(0)\n",
    "plt.scatter(\n",
    "    range(len(xs_tail_plot)),\n",
    "    xs_tail_plot,\n",
    "    alpha=0.5,\n",
    "    label=\"Inferred\",\n",
    "    c=\"b\",\n",
    ")\n",
    "plt.scatter(range(len(xs_obs)), xs_obs, alpha=0.5, label=\"Ground truth\", c=\"r\")\n",
    "plt.yticks(range(K))\n",
    "plt.title(\"Values of X_1 ... X_N\")\n",
    "plt.xlabel(\"n\")\n",
    "plt.ylabel(\"Value of X_n\")\n",
    "plt.legend()\n",
    "plt.show()\n",
    "\n",
    "mus_tail_plot = mu_samples[-tail_len:].mean(0)\n",
    "plt.scatter(range(K), mus_tail_plot, alpha=0.5, label=\"Inferred\", c=\"b\")\n",
    "plt.scatter(range(K), mus_obs, alpha=0.5, label=\"Ground truth\", c=\"r\")\n",
    "plt.xticks(range(K))\n",
    "plt.title(\"Values of mu_1 ... mu_K\")\n",
    "plt.xlabel(\"k\")\n",
    "plt.ylabel(\"Value of mu_k\")\n",
    "plt.legend()\n",
    "plt.show()"
   ]
  },
  {
   "cell_type": "markdown",
   "metadata": {
    "customInput": null,
    "originalKey": "e9beca04-43f5-4271-bf4d-90859b2a10d3",
    "showInput": false
   },
   "source": [
    "These plots indicate that inference seems to be recovering hidden states well, and is\n",
    "computing reasonably accurate values for $\\mu$."
   ]
  },
  {
   "cell_type": "markdown",
   "metadata": {
    "customInput": null,
    "originalKey": "4ea45674-027b-4307-b1af-5d1a10cad813",
    "showInput": false
   },
   "source": [
    "## Posterior likelihood checks"
   ]
  },
  {
   "cell_type": "markdown",
   "metadata": {
    "customInput": null,
    "originalKey": "4ea45674-027b-4307-b1af-5d1a10cad813",
    "showInput": false
   },
   "source": [
    "One way to evaluate posterior samples is computing likelihoods of our posterior samples,\n",
    "and comparing these to the likelihood of the underlying synthetic data. Formally, we can\n",
    "compute the joint likelihood of posterior samples with the observations used to generate\n",
    "the samples. And similarly, we can compute the joint likelihood of the observations with\n",
    "the underlying synthetic data which was generated at the same time as the observations."
   ]
  },
  {
   "cell_type": "code",
   "execution_count": 13,
   "metadata": {},
   "outputs": [],
   "source": [
    "def log_likelihood(xs, ys, thetas, mus, sigmas, N):\n",
    "    \"\"\"Returns the log likelihood of the HMM model conditioned on the data\"\"\"\n",
    "    result = 0\n",
    "    # transition probabilities\n",
    "    for n in range(1, N):\n",
    "        result += torch.log(thetas[xs[n - 1], xs[n]])\n",
    "    # emission probabilities\n",
    "    for n in range(N):\n",
    "        result += dist.Normal(mus[xs[n]], sigmas[xs[n]]).log_prob(ys[n])\n",
    "    return result\n",
    "\n",
    "\n",
    "# computes the log likelihood of the HMM model per iteration\n",
    "ppcs = [\n",
    "    log_likelihood(x, y_obs, thetas_obs, mu, sigma, N)\n",
    "    for x, mu, sigma in zip(x_samples.int(), mu_samples, sigma_samples)\n",
    "]"
   ]
  },
  {
   "cell_type": "code",
   "execution_count": 14,
   "metadata": {},
   "outputs": [
    {
     "data": {
      "image/png": "[encoded data removed]",
      "text/plain": [
       "<Figure size 864x432 with 1 Axes>"
      ]
     },
     "metadata": {
      "needs_background": "light"
     },
     "output_type": "display_data"
    }
   ],
   "source": [
    "plt.figure(figsize=(12, 6))\n",
    "plt.plot(ppcs, label=\"Sample\", c=\"g\")\n",
    "# plotting the ground truth for reference\n",
    "plt.plot(\n",
    "    [log_likelihood(x_obs, y_obs, thetas_obs, mus_obs, sigmas_obs, N)] * num_samples,\n",
    "    label=\"Grond truth\",\n",
    "    c=\"r\",\n",
    ")\n",
    "plt.ylabel(\"Log likelihood\")\n",
    "plt.legend()\n",
    "plt.show()"
   ]
  },
  {
   "cell_type": "markdown",
   "metadata": {
    "customInput": null,
    "originalKey": "6d0a7b07-fb2f-447c-af73-4e0cb86f0a84",
    "showInput": false
   },
   "source": [
    "From the above plot, inference appears to be doing a good job of fitting the random\n",
    "variables given the observed data. Inference appears to converge with a log likelihood\n",
    "scores near to those generated by the ground truth parameters."
   ]
  }
 ],
 "metadata": {
  "kernelspec": {
   "display_name": "Python 3 (ipykernel)",
   "language": "python",
   "name": "python3"
  },
  "language_info": {
   "codemirror_mode": {
    "name": "ipython",
    "version": 3
   },
   "file_extension": ".py",
   "mimetype": "text/x-python",
   "name": "python",
   "nbconvert_exporter": "python",
   "pygments_lexer": "ipython3",
   "version": "3.8.13"
  }
 },
 "nbformat": 4,
 "nbformat_minor": 4
}
