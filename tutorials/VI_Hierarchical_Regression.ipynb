{
 "cells": [
  {
   "cell_type": "code",
   "execution_count": 1,
   "metadata": {},
   "outputs": [],
   "source": [
    "%load_ext autoreload\n",
    "%autoreload 1"
   ]
  },
  {
   "cell_type": "code",
   "execution_count": 2,
   "metadata": {},
   "outputs": [],
   "source": [
    "%aimport beanmachine.ppl"
   ]
  },
  {
   "cell_type": "code",
   "execution_count": 3,
   "metadata": {},
   "outputs": [],
   "source": [
    "%autoreload"
   ]
  },
  {
   "cell_type": "markdown",
   "metadata": {},
   "source": [
    "# Follow Up To N1660040\n",
    "\n",
    "Run against https://github.com/feynmanliang/beanmachine/commit/70c76adcabf4a54f275a7d06a23ea257a9b1cf50\n"
   ]
  },
  {
   "cell_type": "code",
   "execution_count": 4,
   "metadata": {},
   "outputs": [],
   "source": [
    "import torch.distributions as dist\n",
    "\n",
    "N = 200\n",
    "X = dist.Normal(0, 1).expand([N, 1]).sample()\n",
    "true_beta_1 = 2.0\n",
    "true_beta_0 = 5.0\n",
    "true_epsilon = 1.0\n",
    "Y = dist.Normal(true_beta_1 * X + true_beta_0, true_epsilon).sample()"
   ]
  },
  {
   "cell_type": "code",
   "execution_count": 5,
   "metadata": {},
   "outputs": [
    {
     "data": {
      "text/plain": [
       "<matplotlib.collections.PathCollection at 0x7f8c7e8bdeb0>"
      ]
     },
     "execution_count": 5,
     "metadata": {},
     "output_type": "execute_result"
    },
    {
     "data": {
      "image/png": "[encoded data removed]",
      "text/plain": [
       "<Figure size 432x288 with 1 Axes>"
      ]
     },
     "metadata": {
      "needs_background": "light"
     },
     "output_type": "display_data"
    }
   ],
   "source": [
    "import matplotlib.pyplot as plt\n",
    "\n",
    "plt.scatter(X, Y)\n"
   ]
  },
  {
   "cell_type": "markdown",
   "metadata": {},
   "source": [
    "## MLE Inference\n",
    "\n",
    "Convert all priors to uninformatives (`Flat`s) so that only likelihood factors are present"
   ]
  },
  {
   "cell_type": "code",
   "execution_count": 6,
   "metadata": {},
   "outputs": [],
   "source": [
    "import beanmachine.ppl as bm\n",
    "from beanmachine.ppl.distributions import Flat, Unit, Delta\n",
    "\n",
    "class LinearRegressionFreq:\n",
    "    @bm.random_variable\n",
    "    def sigma_beta_1(self):\n",
    "        return Flat()\n",
    "\n",
    "    @bm.random_variable\n",
    "    def beta_1(self):\n",
    "        return Flat()\n",
    "\n",
    "    @bm.random_variable\n",
    "    def beta_0(self):\n",
    "        return Flat()\n",
    "\n",
    "    @bm.random_variable\n",
    "    def epsilon(self):\n",
    "        return Flat()\n",
    "\n",
    "    @bm.random_variable\n",
    "    def y(self, X):\n",
    "        return dist.Normal(self.beta_1() * X + self.beta_0(), torch.nn.functional.softplus(self.epsilon()))"
   ]
  },
  {
   "cell_type": "markdown",
   "metadata": {},
   "source": [
    "Perform VI using `Delta`s to obtain point estimates maximizing ELBO $\\propto$ likelihood"
   ]
  },
  {
   "cell_type": "code",
   "execution_count": 7,
   "metadata": {},
   "outputs": [
    {
     "data": {
      "application/vnd.jupyter.widget-view+json": {
       "model_id": "f847f1a6886048e9a04c79e6809e0ea9",
       "version_major": 2,
       "version_minor": 0
      },
      "text/plain": [
       "  0%|          | 0/1000 [00:00<?, ?it/s]"
      ]
     },
     "metadata": {},
     "output_type": "display_data"
    }
   ],
   "source": [
    "import torch\n",
    "import torch.optim as optim\n",
    "\n",
    "model = LinearRegressionFreq()\n",
    "\n",
    "@bm.param\n",
    "def phi():\n",
    "    return torch.tensor([0, 0, 1]).float()\n",
    "\n",
    "@bm.random_variable\n",
    "def q_beta_0():\n",
    "    return Delta(phi()[0])\n",
    "\n",
    "@bm.random_variable\n",
    "def q_beta_1():\n",
    "    return Delta(phi()[1])\n",
    "\n",
    "@bm.random_variable\n",
    "def q_eps():\n",
    "    return Delta(phi()[2])\n",
    "\n",
    "\n",
    "world_mle = bm.VariationalInfer(\n",
    "    {\n",
    "        model.beta_0(): q_beta_0(),\n",
    "        model.beta_1(): q_beta_1(),\n",
    "        model.epsilon(): q_eps(),\n",
    "    },\n",
    "    observations={model.y(X): Y},\n",
    "    optimizer=lambda params: optim.Adam(params, lr=1e-2)\n",
    ").infer(\n",
    "    num_steps=1000,\n",
    ")"
   ]
  },
  {
   "cell_type": "code",
   "execution_count": 8,
   "metadata": {},
   "outputs": [
    {
     "name": "stdout",
     "output_type": "stream",
     "text": [
      "[(<function q_beta_0 at 0x7f8c7e827940>, tensor(4.4322, requires_grad=True)), (<function q_beta_1 at 0x7f8c7e827a60>, tensor(1.9348, requires_grad=True))]\n",
      "[(<function q_eps at 0x7f8c7e827b80>, tensor(1.9952, grad_fn=<SoftplusBackward0>))]\n"
     ]
    }
   ],
   "source": [
    "import torch.nn.functional as F\n",
    "\n",
    "print([(rvid, world_mle.get_variable(rvid()).value) for rvid in (q_beta_0, q_beta_1,)])\n",
    "print([(rvid, F.softplus(world_mle.get_variable(rvid()).value)) for rvid in (q_eps,)])"
   ]
  },
  {
   "cell_type": "markdown",
   "metadata": {},
   "source": [
    "The MLE estimates are close to $\\beta_0 = 5.0$, $\\beta_1 = 2.0$, $\\epsilon = 1.0$, which agrees with the theory on consistency of MLEs."
   ]
  },
  {
   "cell_type": "code",
   "execution_count": 9,
   "metadata": {},
   "outputs": [
    {
     "name": "stdout",
     "output_type": "stream",
     "text": [
      "5.0 2.0 1.0\n"
     ]
    }
   ],
   "source": [
    "print(true_beta_0, true_beta_1, true_epsilon)"
   ]
  },
  {
   "cell_type": "markdown",
   "metadata": {},
   "source": [
    "## MAP Inference\n",
    "\n",
    "Keep priors around so the world `log_prob` is proportional to the posterior. VI with `Delta`s effectively performs MAP."
   ]
  },
  {
   "cell_type": "code",
   "execution_count": 10,
   "metadata": {},
   "outputs": [],
   "source": [
    "%autoreload"
   ]
  },
  {
   "cell_type": "code",
   "execution_count": 11,
   "metadata": {},
   "outputs": [
    {
     "data": {
      "application/vnd.jupyter.widget-view+json": {
       "model_id": "bc70873ec7d448b9b4d5e0e414331c78",
       "version_major": 2,
       "version_minor": 0
      },
      "text/plain": [
       "  0%|          | 0/1000 [00:00<?, ?it/s]"
      ]
     },
     "metadata": {},
     "output_type": "display_data"
    }
   ],
   "source": [
    "import torch\n",
    "import torch.distributions as dist\n",
    "import torch.optim as optim\n",
    "\n",
    "class LinearRegressionBayes:\n",
    "    @bm.random_variable\n",
    "    def sigma_beta_1(self):\n",
    "        return dist.Gamma(1, 1)\n",
    "\n",
    "    @bm.random_variable\n",
    "    def beta_1(self):\n",
    "        return dist.Normal(0, self.sigma_beta_1())\n",
    "\n",
    "    @bm.random_variable\n",
    "    def beta_0(self):\n",
    "        return dist.Normal(0,  10)\n",
    "\n",
    "    @bm.random_variable\n",
    "    def epsilon(self):\n",
    "        return dist.Gamma(1, 1)\n",
    "\n",
    "    @bm.random_variable\n",
    "    def y(self, X):\n",
    "        return dist.Independent(\n",
    "            dist.Normal(self.beta_1() * X + self.beta_0(), self.epsilon()),\n",
    "            0)\n",
    "\n",
    "\n",
    "model = LinearRegressionBayes()\n",
    "\n",
    "@bm.param\n",
    "def phi():\n",
    "    return torch.tensor([0, 0, 1]).float()\n",
    "\n",
    "@bm.random_variable\n",
    "def q_beta_0():\n",
    "    return Delta(phi()[0])\n",
    "\n",
    "@bm.random_variable\n",
    "def q_beta_1():\n",
    "    return Delta(phi()[1])\n",
    "\n",
    "@bm.random_variable\n",
    "def q_eps():\n",
    "    return Delta(phi()[2])\n",
    "\n",
    "\n",
    "world_map = bm.VariationalInfer(\n",
    "    {\n",
    "        model.beta_0(): q_beta_0(),\n",
    "        model.beta_1(): q_beta_1(),\n",
    "        model.epsilon(): q_eps(),\n",
    "    },\n",
    "    observations={model.y(X): Y},\n",
    "    optimizer=lambda params: optim.Adam(params, lr=1e-2),\n",
    ").infer(\n",
    "    num_steps=1000,\n",
    ")"
   ]
  },
  {
   "cell_type": "code",
   "execution_count": 12,
   "metadata": {},
   "outputs": [
    {
     "name": "stdout",
     "output_type": "stream",
     "text": [
      "[(<function q_beta_0 at 0x7f8c7e7e4160>, tensor(3.8962, requires_grad=True)), (<function q_beta_1 at 0x7f8c7e7e4280>, tensor(-0.0038, requires_grad=True))]\n",
      "[(<function q_eps at 0x7f8c7e7e43a0>, tensor(2.6429, grad_fn=<SoftplusBackward0>))]\n"
     ]
    }
   ],
   "source": [
    "print([(rvid, world_map.get_variable(rvid()).value) for rvid in (q_beta_0, q_beta_1,)])\n",
    "print([(rvid, F.softplus(world_map.get_variable(rvid()).value)) for rvid in (q_eps,)])"
   ]
  },
  {
   "cell_type": "code",
   "execution_count": 13,
   "metadata": {},
   "outputs": [
    {
     "name": "stdout",
     "output_type": "stream",
     "text": [
      "5.0 2.0 1.0\n"
     ]
    }
   ],
   "source": [
    "print(true_beta_0, true_beta_1, true_epsilon)"
   ]
  },
  {
   "cell_type": "markdown",
   "metadata": {},
   "source": [
    "The resulting MAP estimates are ``shrunken'' towards the origin, agreeing with a shrinkage view of Bayesian priors."
   ]
  },
  {
   "cell_type": "markdown",
   "metadata": {},
   "source": [
    "## SVI with a Bayesian Linear Regression NNet\n",
    "\n",
    "Next, consider a variational model more complicated than `Delta`s"
   ]
  },
  {
   "cell_type": "code",
   "execution_count": 14,
   "metadata": {},
   "outputs": [],
   "source": [
    "%autoreload"
   ]
  },
  {
   "cell_type": "markdown",
   "metadata": {},
   "source": [
    "The following sets the guide $q(x)$ to be a simple linear neural network."
   ]
  },
  {
   "cell_type": "code",
   "execution_count": 16,
   "metadata": {},
   "outputs": [
    {
     "data": {
      "application/vnd.jupyter.widget-view+json": {
       "model_id": "1d615d81ecc14e81a10f8614305b156a",
       "version_major": 2,
       "version_minor": 0
      },
      "text/plain": [
       "  0%|          | 0/1000 [00:00<?, ?it/s]"
      ]
     },
     "metadata": {},
     "output_type": "display_data"
    }
   ],
   "source": [
    "import torch\n",
    "import torch.nn as nn\n",
    "import torch.nn.functional as F\n",
    "import torch.optim as optim\n",
    "\n",
    "class LinearRegressionNNet(nn.Module):\n",
    "    def __init__(self):\n",
    "        super(LinearRegressionNNet, self).__init__()\n",
    "\n",
    "    @bm.param\n",
    "    def mu(self):\n",
    "        return torch.zeros(1)\n",
    "\n",
    "    @bm.random_variable\n",
    "    def q_mu(self):\n",
    "        return Delta(self.mu())\n",
    "\n",
    "    @bm.param\n",
    "    def scale(self):\n",
    "        return torch.ones(1)\n",
    "\n",
    "    @bm.random_variable\n",
    "    def q_scale(self):\n",
    "        return Delta(self.scale())\n",
    "\n",
    "    @bm.random_variable\n",
    "    def mu_rv(self):\n",
    "        return Flat()  # MLE, no priors\n",
    "\n",
    "    @bm.random_variable\n",
    "    def scale_rv(self):\n",
    "        return Flat()  # MLE, no priors\n",
    "\n",
    "    @bm.random_variable\n",
    "    def forward(self, x):\n",
    "        return dist.Independent(dist.Normal(\n",
    "            loc=self.mu_rv() * X,\n",
    "            scale=F.softplus(self.scale_rv()),\n",
    "        ), 1)\n",
    "\n",
    "net = LinearRegressionNNet()\n",
    "\n",
    "world = bm.VariationalInfer(\n",
    "    {\n",
    "        net.mu_rv(): net.q_mu(),\n",
    "        net.scale_rv(): net.q_scale(),\n",
    "    },\n",
    "    {\n",
    "        net.forward(X): Y,\n",
    "    },\n",
    "    optimizer=lambda params: optim.Adam(params, lr=1e-1)\n",
    ").infer(\n",
    "    num_steps=1000,\n",
    ")"
   ]
  },
  {
   "cell_type": "code",
   "execution_count": 17,
   "metadata": {},
   "outputs": [
    {
     "data": {
      "text/plain": [
       "(tensor([1.9932], requires_grad=True),\n",
       " tensor([5.1500], grad_fn=<SoftplusBackward0>))"
      ]
     },
     "execution_count": 17,
     "metadata": {},
     "output_type": "execute_result"
    }
   ],
   "source": [
    "world.get_param(net.mu()), F.softplus(world.get_param(net.scale()))"
   ]
  },
  {
   "cell_type": "markdown",
   "metadata": {},
   "source": [
    "The (without intercept) least-squares estimate of $\\mu$ coincides with that obtained here by MLE; unsurprising as LSE is the MLE for Gaussian noise"
   ]
  },
  {
   "cell_type": "code",
   "execution_count": 18,
   "metadata": {},
   "outputs": [
    {
     "data": {
      "text/plain": [
       "tensor([[1.9932]])"
      ]
     },
     "execution_count": 18,
     "metadata": {},
     "output_type": "execute_result"
    }
   ],
   "source": [
    "torch.pinverse(X) @ Y"
   ]
  },
  {
   "cell_type": "markdown",
   "metadata": {},
   "source": [
    "The `Delta` guide to a `Flat` prior seems redundant to `param`; can we make things more ergonomic?\n",
    "\n",
    "It turns out yes, if you (confusingly) use the same RV for the model and guide (the two cancel out in the density ratio) and furthermore observe on the same RV (so that the likelihood term is added to the `world.log_prob`). Then, optimization of variational `param`s literally corresponds to MLE."
   ]
  },
  {
   "cell_type": "code",
   "execution_count": 20,
   "metadata": {},
   "outputs": [
    {
     "data": {
      "application/vnd.jupyter.widget-view+json": {
       "model_id": "90f580fcaa3a483f89249f03dc6782d1",
       "version_major": 2,
       "version_minor": 0
      },
      "text/plain": [
       "  0%|          | 0/1000 [00:00<?, ?it/s]"
      ]
     },
     "metadata": {},
     "output_type": "display_data"
    }
   ],
   "source": [
    "import torch\n",
    "import torch.nn as nn\n",
    "import torch.nn.functional as F\n",
    "import torch.optim as optim\n",
    "\n",
    "class LinearRegressionNNet(nn.Module):\n",
    "    def __init__(self):\n",
    "        super(LinearRegressionNNet, self).__init__()\n",
    "\n",
    "    @bm.param\n",
    "    def mu(self):\n",
    "        return torch.zeros(1)\n",
    "\n",
    "    @bm.param\n",
    "    def scale(self):\n",
    "        return torch.ones(1)\n",
    "    @bm.random_variable\n",
    "    def forward(self, x):\n",
    "        return dist.Independent(dist.Normal(\n",
    "            loc=self.mu() * X,\n",
    "            scale=F.softplus(self.scale()),\n",
    "        ), 1)\n",
    "\n",
    "net = LinearRegressionNNet()\n",
    "\n",
    "world = bm.VariationalInfer(\n",
    "    {\n",
    "        net.forward(X): net.forward(X),\n",
    "    },\n",
    "    {\n",
    "        net.forward(X): Y,\n",
    "    },\n",
    "    optimizer=lambda params: optim.Adam(params, lr=1e-1)\n",
    ").infer(\n",
    "    num_steps=1000,\n",
    ")"
   ]
  },
  {
   "cell_type": "code",
   "execution_count": 21,
   "metadata": {},
   "outputs": [
    {
     "data": {
      "text/plain": [
       "(tensor([1.9932], requires_grad=True),\n",
       " tensor([5.1500], grad_fn=<SoftplusBackward0>))"
      ]
     },
     "execution_count": 21,
     "metadata": {},
     "output_type": "execute_result"
    }
   ],
   "source": [
    "world.get_param(net.mu()), F.softplus(world.get_param(net.scale()))"
   ]
  },
  {
   "cell_type": "markdown",
   "metadata": {},
   "source": [
    "Removing the `Flat`s and `Delta`s from an earlier MLE:"
   ]
  },
  {
   "cell_type": "code",
   "execution_count": 23,
   "metadata": {},
   "outputs": [
    {
     "data": {
      "application/vnd.jupyter.widget-view+json": {
       "model_id": "3e6a2f52a3c84599b3f0f656fd7cb8d9",
       "version_major": 2,
       "version_minor": 0
      },
      "text/plain": [
       "  0%|          | 0/1000 [00:00<?, ?it/s]"
      ]
     },
     "metadata": {},
     "output_type": "display_data"
    }
   ],
   "source": [
    "import torch\n",
    "import torch.optim as optim\n",
    "\n",
    "import beanmachine.ppl as bm\n",
    "from beanmachine.ppl.distributions import Flat, Unit, Delta\n",
    "\n",
    "class LinearRegressionFreqSlim:\n",
    "    @bm.param\n",
    "    def beta_1(self):\n",
    "        return torch.zeros(1)\n",
    "\n",
    "    @bm.param\n",
    "    def beta_0(self):\n",
    "        return torch.zeros(1)\n",
    "\n",
    "    @bm.param\n",
    "    def epsilon(self):\n",
    "        return torch.ones(1)\n",
    "\n",
    "    @bm.random_variable\n",
    "    def y(self, X):\n",
    "        return dist.Normal(self.beta_1() * X + self.beta_0(), torch.nn.functional.softplus(self.epsilon()))\n",
    "\n",
    "model = LinearRegressionFreqSlim()\n",
    "\n",
    "world = bm.VariationalInfer(\n",
    "    {\n",
    "        model.y(X): model.y(X),\n",
    "    },\n",
    "    observations={model.y(X): Y},\n",
    "    optimizer=lambda params: optim.Adam(params, lr=1e-2)\n",
    ").infer(\n",
    "    num_steps=1000,\n",
    ")"
   ]
  },
  {
   "cell_type": "code",
   "execution_count": 24,
   "metadata": {},
   "outputs": [
    {
     "name": "stdout",
     "output_type": "stream",
     "text": [
      "[(<bound method LinearRegressionFreqSlim.beta_0 of <__main__.LinearRegressionFreqSlim object at 0x7f8c7d514610>>, tensor([4.4322], requires_grad=True)), (<bound method LinearRegressionFreqSlim.beta_1 of <__main__.LinearRegressionFreqSlim object at 0x7f8c7d514610>>, tensor([1.9348], requires_grad=True))]\n",
      "[(<bound method LinearRegressionFreqSlim.epsilon of <__main__.LinearRegressionFreqSlim object at 0x7f8c7d514610>>, tensor([1.9952], grad_fn=<SoftplusBackward0>))]\n"
     ]
    }
   ],
   "source": [
    "print([(rvid, world.get_param(rvid())) for rvid in (model.beta_0, model.beta_1,)])\n",
    "print([(rvid, F.softplus(world.get_param(rvid()))) for rvid in (model.epsilon,)])"
   ]
  },
  {
   "cell_type": "code",
   "execution_count": 25,
   "metadata": {},
   "outputs": [
    {
     "name": "stdout",
     "output_type": "stream",
     "text": [
      "5.0 2.0 1.0\n"
     ]
    }
   ],
   "source": [
    "print(true_beta_0, true_beta_1, true_epsilon)"
   ]
  },
  {
   "cell_type": "code",
   "execution_count": null,
   "metadata": {},
   "outputs": [],
   "source": []
  }
 ],
 "metadata": {
  "interpreter": {
   "hash": "2d13082b4bd245bb7b08aea3b25cb3b8185404358d859b3f501f7ea456008ea8"
  },
  "kernelspec": {
   "display_name": "Python 3.9.9 64-bit",
   "language": "python",
   "name": "python3"
  },
  "language_info": {
   "codemirror_mode": {
    "name": "ipython",
    "version": 3
   },
   "file_extension": ".py",
   "mimetype": "text/x-python",
   "name": "python",
   "nbconvert_exporter": "python",
   "pygments_lexer": "ipython3",
   "version": "3.9.9"
  },
  "orig_nbformat": 4
 },
 "nbformat": 4,
 "nbformat_minor": 2
}
