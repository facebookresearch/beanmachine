{
 "cells": [
  {
   "cell_type": "markdown",
   "metadata": {
    "collapsed": true,
    "originalKey": "b753aa78-8c86-47c3-a711-37cdc52d2c65",
    "showInput": false
   },
   "source": [
    "# Tutorial: Estimating heads rate of a coin\n"
   ]
  },
  {
   "cell_type": "markdown",
   "metadata": {
    "customInput": null,
    "originalKey": "21e11ae1-bef9-4a13-a07f-22f1a9d28093",
    "showInput": false
   },
   "source": [
    "This tutorial demonstrates modeling and running inference on a simple coin-flipping model in Bean Machine. This should offer an accessible introduction to fundamental features of Bean Machine."
   ]
  },
  {
   "cell_type": "markdown",
   "metadata": {
    "originalKey": "a842303b-20af-44ab-8a24-f6224e1fb7d9",
    "showInput": false
   },
   "source": [
    "## Problem\n",
    "\n",
    "In this tutorial we consider the problem of estimating the probability of heads for a potentially biased coin. In this setup, we have flipped the coin a few times and recorded the results as training data. We're interested in learning about the coin's true heads rate."
   ]
  },
  {
   "cell_type": "markdown",
   "metadata": {
    "originalKey": "c38ce720-a973-4ca0-b9a1-4b0e9bc8c6df",
    "showInput": false
   },
   "source": [
    "## Prerequisites\n",
    "\n",
    "Let's code this in Bean Machine! Import the Bean Machine library and some fundamental PyTorch classes."
   ]
  },
  {
   "cell_type": "code",
   "execution_count": 1,
   "metadata": {
    "code_folding": [],
    "hidden_ranges": [],
    "originalKey": "69ab3a7b-5891-4200-8878-d4f5560b1a98"
   },
   "outputs": [],
   "source": [
    "import os\n",
    "import beanmachine.ppl as bm\n",
    "import beanmachine.ppl.inference.monte_carlo_samples\n",
    "\n",
    "import torch\n",
    "from torch import tensor\n",
    "import torch.distributions as dist\n",
    "import matplotlib.pyplot as plt\n",
    "import pandas as pd\n",
    "\n",
    "plt.rc('figure', figsize=[8, 6])\n",
    "plt.rc('font', size=14)\n",
    "plt.rc('lines', linewidth=2.5)\n",
    "\n",
    "pd.set_option('precision', 3)\n",
    "\n",
    "torch.manual_seed(11);   \n",
    "\n",
    "# for CI testing\n",
    "smoke_test = ('SANDCASTLE_NEXUS' in os.environ or 'CI' in os.environ)"
   ]
  },
  {
   "cell_type": "markdown",
   "metadata": {
    "code_folding": [],
    "hidden_ranges": [],
    "originalKey": "26cded9e-0f06-4e11-8866-16450351fb70",
    "showInput": false
   },
   "source": [
    "## Model\n",
    "\n",
    "We have the following definitions.\n",
    "\n",
    "  * $\\theta \\in [0, 1]$: Heads rate of the coin.\n",
    "  * $y_i \\in \\{0, 1\\}$: Result of the $i$th coin flip. This is usually an observed value.\n",
    "  * $N \\in \\mathbb{Z}^+$: Number of observed coin flips.\n",
    "  \n",
    "We're interested in modeling:\n",
    "\n",
    "  * $\\mathbb{P}(\\theta | \\{y_i\\}_{i=1}^N)$\n",
    "  \n",
    "Solving this problem requires specifying a prior distribution for $\\theta$ and the relationship between thee unobserved random varible $\\theta$, and the observed random variables $\\{y_i\\}_{i=1}^N$. We can do this as follows:\n",
    "\n",
    "  * $\\theta \\sim \\text{Beta}(2, 2)$\n",
    "  * $y_i \\stackrel{iid}{\\sim} \\text{Bernoulli}(\\theta)$\n",
    "  \n",
    "As a convention, we will consider an outcome of 1 from the Bernoulli distribution to represent heads and zero to represent tails. Here we chose to use a Beta distribution for the prior distribution for the coin's probability of heads, but in principle any distribution over $[0, 1]$ can be used.\n",
    "\n",
    "Let's visualize the particular Beta distribution used in this tutorial:"
   ]
  },
  {
   "cell_type": "code",
   "execution_count": 2,
   "metadata": {
    "code_folding": [],
    "hidden_ranges": [],
    "originalKey": "ec651aea-5d0b-4c5a-be33-495db42f5a68"
   },
   "outputs": [],
   "source": [
    "thetas = torch.arange(0, 1, 0.01)\n",
    "plt.plot(thetas, dist.Beta(2, 2).log_prob(thetas).exp())\n",
    "plt.xlabel(r'$\\theta$')\n",
    "plt.ylabel(r'$\\mathbb{P}(\\theta)$');"
   ]
  },
  {
   "cell_type": "markdown",
   "metadata": {
    "originalKey": "46966e2f-fd4f-46be-9721-9f5672efa93a"
   },
   "source": [
    "We can implement this model in Bean Machine by defining random variable objects with the `@bm.random_variable` decorator. These functions behave differently than ordinary Python functions.\n",
    "\n",
    "<div style=\"background: #daeaf3; border-left: 3px solid #2980b9; display: block; margin: 16px 0; padding: 12px;\">\n",
    "  Semantics for <code>@bm.random_variable</code> functions:\n",
    "  <ul>\n",
    "    <li>They must return PyTorch <code>Distribution</code> objects.\n",
    "    <li>Though they return distributions, callees actually receive <i>samples</i> from the distribution. The machinery for obtaining samples from distributions is handled internally by Bean Machine.\n",
    "    <li>Inference runs the model through many iterations. During a particular inference iteration, a distinct random variable will correspond to exactly one sampled value: <b>calls to the same random variable function with the same arguments will receive the same sampled value within one inference iteration</b>. This makes it easy for multiple components of your model to refer to the same logical random variable.\n",
    "    <li>Consequently, to define distinct random variables that correspond to different sampled values during a particular inference iteration, an effective practice is to add a dummy \"indexing\" parameter to the function. Distinct random variables can be referred to with different values for this index.\n",
    "    <li>Please see the documentation for more information about this decorator.\n",
    "  </ul>\n",
    "</div>\n",
    "\n",
    "First, let's define our prior for the heads rate, $\\theta$, using this syntax:"
   ]
  },
  {
   "cell_type": "code",
   "execution_count": 3,
   "metadata": {
    "originalKey": "3c8432d5-2260-49fe-b074-5f52f579e730"
   },
   "outputs": [],
   "source": [
    "@bm.random_variable\n",
    "def theta():\n",
    "    return dist.Beta(2, 2)"
   ]
  },
  {
   "cell_type": "markdown",
   "metadata": {
    "originalKey": "890a8f74-3232-4c08-890b-d354b6258b8f"
   },
   "source": [
    "Similarly, let's define a random variables for the observed values, $y_i$:"
   ]
  },
  {
   "cell_type": "code",
   "execution_count": 4,
   "metadata": {
    "originalKey": "e21f5503-4fce-4856-9bdb-2f1814fe7435"
   },
   "outputs": [],
   "source": [
    "@bm.random_variable\n",
    "def y(i: int):\n",
    "    return dist.Bernoulli(theta())"
   ]
  },
  {
   "cell_type": "markdown",
   "metadata": {
    "originalKey": "8b26329d-8838-4d6f-beb0-76167db6b473"
   },
   "source": [
    "The mathematical definitions map directly to the Python definitions.\n",
    "\n",
    "In contrast to `theta()`, notice that `y(i)` defines a dummy indexing parameter `i`. That's because `y(i)` is actually defining a _family_ of random variables -- one for each observed coin flip! This allows us to refer to specific observations as `y(0)`, `y(1)`, and so on.\n",
    "\n",
    "In the above examples, we've defined our random variable functions in the toplevel for convenience. It's worth noting that  Bean Machine models can be packaged into Python classes and instantiated as needed. This essentially namespaces random variables defined within, since the `self` argument that each random variable receives will be associated with the distinct instantiated class that it's a part of. Example code is included as an illustration below; however, this tutorial will continue to use the toplevel definitions."
   ]
  },
  {
   "cell_type": "code",
   "execution_count": 5,
   "metadata": {
    "originalKey": "57dd7f48-9fa3-4ffc-8ced-884591535111"
   },
   "outputs": [],
   "source": [
    "class HeadsRateModel(object):\n",
    "    \n",
    "    @bm.random_variable\n",
    "    def theta(self):\n",
    "        return dist.Beta(2, 2)\n",
    "\n",
    "    @bm.random_variable\n",
    "    def y(self, i):\n",
    "        return dist.Bernoulli(self.theta())\n",
    "\n",
    "heads_rate_model = HeadsRateModel()"
   ]
  },
  {
   "cell_type": "markdown",
   "metadata": {
    "code_folding": [],
    "hidden_ranges": [],
    "originalKey": "b5de42ee-0e52-4870-967f-85eca6d2998c",
    "showInput": false
   },
   "source": [
    "## Data\n",
    "\n",
    "With the model defined, we need to collect some observed data in order to learn about values of interest in our model.\n",
    "\n",
    "In this case, we will observe a few coin flips. For demonstrative purposes, we will use a synthetically generated dataset of observed values. In practice, you would flip a real coin and record observations instead.\n",
    "\n",
    "For our synthetic dataset, we will assume a true heads rate of $0.75$:"
   ]
  },
  {
   "cell_type": "code",
   "execution_count": 6,
   "metadata": {
    "originalKey": "35e9aa28-0f9d-4342-82fd-781f57132eb1"
   },
   "outputs": [],
   "source": [
    "true_theta = 0.75\n",
    "true_y = dist.Bernoulli(true_theta)"
   ]
  },
  {
   "cell_type": "markdown",
   "metadata": {
    "originalKey": "f059b3b2-7b9e-414e-be1e-74bf90a7d034",
    "showInput": false
   },
   "source": [
    "Now, we'll gather $10$ observations from flipping that coin."
   ]
  },
  {
   "cell_type": "code",
   "execution_count": 7,
   "metadata": {
    "originalKey": "b8a72c08-ac1d-4bcb-8730-1929181d7387"
   },
   "outputs": [],
   "source": [
    "N = 10\n",
    "y_obs = true_y.sample((N, ))"
   ]
  },
  {
   "cell_type": "code",
   "execution_count": 8,
   "metadata": {
    "code_folding": [],
    "hidden_ranges": [],
    "originalKey": "90af4dc5-4465-45e9-8b7e-6de76e40c02d"
   },
   "outputs": [],
   "source": [
    "y_obs[0]"
   ]
  },
  {
   "cell_type": "markdown",
   "metadata": {
    "originalKey": "a99a309f-a420-425e-8bd6-f84226523d00",
    "showInput": false
   },
   "source": [
    "Let's analyze the dataset:"
   ]
  },
  {
   "cell_type": "code",
   "execution_count": 9,
   "metadata": {
    "originalKey": "a68d2ff6-92c6-440e-9e38-2564fd796272"
   },
   "outputs": [],
   "source": [
    "plt.hist(y_obs, bins=2)\n",
    "plt.xticks([0.25, 0.75], [\"Tails\", \"Heads\"])\n",
    "plt.title(f\"Empirical heads rate: {y_obs.mean() :.2f}\");"
   ]
  },
  {
   "cell_type": "markdown",
   "metadata": {
    "originalKey": "3a9919f9-2470-451d-a54f-57dedff132ad",
    "showInput": false
   },
   "source": [
    "## Inference\n",
    "\n",
    "Inference is the process of combining _model_ and _data_ to obtain _insights_, in the form of probability distributions over values of interest. Bean Machine offers a powerful and general inference framework to enable fitting a arbitrary models to data.\n",
    "\n",
    "Our inference algorithms expect observations in the form of a dictionary. This dictionary should consist of `@bm.random_variable` invocations as keys, and tensor data as values. You can see this in the example below:"
   ]
  },
  {
   "cell_type": "code",
   "execution_count": 10,
   "metadata": {
    "originalKey": "c0f2336d-e816-4004-86bf-448810b32fc2"
   },
   "outputs": [],
   "source": [
    "observations = {\n",
    "    y(0): y_obs[0],\n",
    "    y(1): y_obs[1],\n",
    "    y(2): y_obs[2],\n",
    "    y(3): y_obs[3],\n",
    "    y(4): y_obs[4],\n",
    "    y(5): y_obs[5],\n",
    "    y(6): y_obs[6],\n",
    "    y(7): y_obs[7],\n",
    "    y(8): y_obs[8],\n",
    "    y(9): y_obs[9],\n",
    "}"
   ]
  },
  {
   "cell_type": "markdown",
   "metadata": {
    "originalKey": "0d484369-36db-4472-8bf8-eac8d6742d52",
    "showInput": false
   },
   "source": [
    "Now, we're ready to run inference! For this very simple tutorial, we'll use the simple Metropolis-Hastings inference algorithm. Check out the documentation or other tutorials for more advanced examples!\n",
    "\n",
    "Running inference consists of a few arguments:\n",
    "\n",
    "| Name | Usage\n",
    "| --- | ---\n",
    "| `queries` | A list of `@bm.random_variable` targets to fit posterior distributions for.\n",
    "| `observations` | The `Dict` of observations we built up, above.\n",
    "| `num_samples` | Number of samples to build up distributions for the values listed in `queries`.\n",
    "| `num_chains` | Number of separate inference runs to use. Multiple chains can verify inference ran correctly.\n",
    "\n",
    "Let's run inference:"
   ]
  },
  {
   "cell_type": "code",
   "execution_count": 11,
   "metadata": {
    "originalKey": "f44b51b5-6b30-4621-b54c-d2ac20ff928a"
   },
   "outputs": [],
   "source": [
    "num_samples = 2 if smoke_test else 1000\n",
    "\n",
    "samples = bm.SingleSiteAncestralMetropolisHastings().infer(\n",
    "    queries=[ theta() ],\n",
    "    observations=observations,\n",
    "    num_samples=num_samples,\n",
    "    num_chains=4,\n",
    ")"
   ]
  },
  {
   "cell_type": "markdown",
   "metadata": {
    "originalKey": "a71a97ad-11eb-4040-9fdf-06a45795a7bf"
   },
   "source": [
    "## Analysis"
   ]
  },
  {
   "cell_type": "markdown",
   "metadata": {
    "originalKey": "0e6f9edd-228a-4f20-848c-2869a1551a00",
    "showInput": true
   },
   "source": [
    "`samples` now contains our inference results. Although we ran inference only to compute distributions for `theta()`, in general you can compute distributions for many variables at once. So, you have to index into this object using the random variable syntax we've seen several times. Here's an example:"
   ]
  },
  {
   "cell_type": "code",
   "execution_count": 12,
   "metadata": {
    "originalKey": "c2ebe991-4b1b-4e7a-aad6-3c12b9bcd428"
   },
   "outputs": [],
   "source": [
    "theta_for_four_chains = samples[ theta() ].detach()\n",
    "theta_for_four_chains"
   ]
  },
  {
   "cell_type": "markdown",
   "metadata": {
    "originalKey": "ffab83bc-1cb0-407c-b4f7-eb40134cdf85"
   },
   "source": [
    "Results from all four separate inference runs are stored in here. We'll use them later; for now, let's just examine one of these runs:"
   ]
  },
  {
   "cell_type": "code",
   "execution_count": 13,
   "metadata": {
    "originalKey": "f6f3d02b-d47e-4014-afc5-5478a133ada8"
   },
   "outputs": [],
   "source": [
    "theta_for_first_chain = theta_for_four_chains[0]\n",
    "plt.hist(theta_for_first_chain)\n",
    "plt.axvline(true_theta, color=\"red\", label=f\"True theta = {true_theta :.03f}\")\n",
    "plt.axvline(y_obs.mean(), color=\"lightgreen\", label=f\"Empirical heads rate = {y_obs.mean() :.03f}\")\n",
    "plt.axvline(theta_for_first_chain.mean(), color=\"lightblue\", label=f\"Posterior mean = {theta_for_first_chain.mean() :.03f}\")\n",
    "plt.legend();"
   ]
  },
  {
   "cell_type": "markdown",
   "metadata": {
    "originalKey": "bfbac0fe-235c-426b-a82a-927486409853"
   },
   "source": [
    "The graph above is based on pseudo-randomly generated data, so, the results can be varied by changing the seed. Typically, <!-- the true $\\theta$ will remain within the main non-zero probability part of the histogram, but may not necessarily fall in the modal interval of the histogram. More generally, for this particular problem, we can expect -->the mean of inferred distribution will be closer to 0.5 than the true $\\theta$. This is because 0.5 is the mean of our prior for $\\theta$."
   ]
  },
  {
   "cell_type": "markdown",
   "metadata": {
    "originalKey": "ad209e0d-b662-4630-9c17-12f9e9a9d731"
   },
   "source": [
    "Bean Machine provides a Diagnostics package that provides helpful statistics about the result of the inference algorithm. We can query this information as follows:"
   ]
  },
  {
   "cell_type": "code",
   "execution_count": 14,
   "metadata": {
    "originalKey": "6c84f2e4-7d3a-4ef1-b3f2-91411440f9e8"
   },
   "outputs": [],
   "source": [
    "bm.Diagnostics(samples).summary()"
   ]
  },
  {
   "cell_type": "markdown",
   "metadata": {
    "originalKey": "ec7c214b-6b8b-4940-9006-9156ac14f87c",
    "showInput": false
   },
   "source": [
    "As is suggested by the visualization, the average and the median are around $0.72$. Moreover, 95% of the samples fall within the interval $[0.460, 0.904]$. The width of this interval reflects the reality that we have conditions on few observations, and so should be quite uncertain about the true $\\theta$."
   ]
  },
  {
   "cell_type": "markdown",
   "metadata": {
    "customInput": null,
    "originalKey": "bb53894d-aa3c-485c-a3c4-5f12296df67b",
    "showInput": false
   },
   "source": [
    "The summary output shows two diagnostic statistics: [$\\hat{R}$](https://projecteuclid.org/euclid.ss/1177011136) (`r_hat`) and [$N_\\text{eff}$](https://www.mcmchandbook.net/HandbookChapter1.pdf) (effective sample size, `n_eff`).\n",
    "\n",
    "  * $\\hat{R} \\in [1, \\infty)$ summarizes how effective inference was at converging on the correct posterior distribution for a particular random variable. It uses information from all chains run in order to assess whether inference had a good understanding of the distribution or not. Values very close to zero indicate that all chains discovered similar distributions for a particular random variable. We do not recommend using inference results where $\\hat{R} > 1.1$, as inference may not have converged. In that case, you may want to run inference for more samples.\n",
    "  * $N_\\text{eff} \\in [1, \\texttt{num}\\_\\texttt{samples}]$ summarizes how independent posterior samples are from one another. Although inference was run for `num_samples` iterations, it's possible that those samples were very similar to each other (due to the way inference is implemented), and may not each be representative of the full posterior space. Larger numbers are better here, and if your particular use case calls for a certain number of samples to be considered, you should ensure that $N_\\text{eff}$ is at least that large.\n",
    "  \n",
    "In this case, $\\hat{R}$ and $N_\\text{eff}$ seem to have acceptable values."
   ]
  },
  {
   "cell_type": "markdown",
   "metadata": {
    "originalKey": "d1567e73-9b23-4516-af41-02244697af66",
    "showInput": false
   },
   "source": [
    "Bean Machine can also plot diagnostical information to assess model fit. Let's take a look:"
   ]
  },
  {
   "cell_type": "code",
   "execution_count": 15,
   "metadata": {
    "originalKey": "413be10e-354e-4bc0-b06c-b1db7e5ba6d9"
   },
   "outputs": [],
   "source": [
    "bm.Diagnostics(samples).plot(display=True);"
   ]
  },
  {
   "cell_type": "markdown",
   "metadata": {
    "originalKey": "a41335ba-40bf-49fd-bdf6-5c2075c44b5e",
    "showInput": false
   },
   "source": [
    "The diagnostics output shows two diagnostic plots for individual random variables: trace plots and autocorrelation plots.\n",
    "\n",
    "  * Trace plots are simply a time series of values assigned to random variables over each iteration of inference. The concrete values assigned are usually problem-specific. However, it's important that these values are \"mixing\" well over time. This means that they don't tend to get stuck in one region for large periods of time, and that each of the chains ends up exploring the same space as the other chains throughout the course of inference.\n",
    "  * Autocorrelation plots measure how predictive the last several samples are of the current sample. Autocorrelation may vary between -1.0 (deterministically anticorrelated) and 1.0 (deterministically correlated). (We compute autocorrelation approximately, so it may sometimes exceed these bounds.) In an ideal world, the current sample is chosen independently of the previous samples: an autocorrelation of zero. This is not possible in practice, due to stochastic noise and the mechanics of how inference works.\n",
    "\n",
    "From the trace plots, we see each of the chains are healthy: they don't get stuck, and do not explore a chain-specific subset of the space. From the autocorrelation plots, we see the absolute mangitude of autocorrelation to be very small, often around 0.1, indicating a healthy exploration of the space."
   ]
  }
 ],
 "metadata": {
  "bento_stylesheets": {
   "bento/extensions/flow/main.css": true,
   "bento/extensions/kernel_selector/main.css": true,
   "bento/extensions/kernel_ui/main.css": true,
   "bento/extensions/new_kernel/main.css": true,
   "bento/extensions/system_usage/main.css": true,
   "bento/extensions/theme/main.css": true
  },
  "disseminate_notebook_id": {
   "notebook_id": "1778441122310355"
  },
  "disseminate_notebook_info": {
   "data_retention_policy": "default",
   "description": "",
   "hide_code": false,
   "hipster_group": "",
   "no_uii": true,
   "notebook_number": "277521",
   "others_can_edit": true,
   "reviewers": "",
   "revision_id": 260053228407938,
   "tags": "python",
   "tasks": "",
   "title": "Tutorial: Estimating heads rate of a coin"
  },
  "kernelspec": {
   "display_name": "Python 3",
   "language": "python",
   "name": "python3"
  },
  "language_info": {
   "codemirror_mode": {
    "name": "ipython",
    "version": 3
   },
   "file_extension": ".py",
   "mimetype": "text/x-python",
   "name": "python",
   "nbconvert_exporter": "python",
   "pygments_lexer": "ipython3",
   "version": "3.7.10"
  },
  "widgets": {
   "application/vnd.jupyter.widget-state+json": {
    "state": {
     "05565a14566048938202f2c8cb0c05ed": {
      "buffers": [],
      "state": {
       "_model_module": "@jupyter-widgets/base",
       "_model_module_version": "1.2.0",
       "_model_name": "LayoutModel",
       "_view_count": null,
       "_view_module": "@jupyter-widgets/base",
       "_view_module_version": "1.2.0",
       "_view_name": "LayoutView",
       "align_content": null,
       "align_items": null,
       "align_self": null,
       "border": null,
       "bottom": null,
       "display": null,
       "flex": null,
       "flex_flow": null,
       "grid_area": null,
       "grid_auto_columns": null,
       "grid_auto_flow": null,
       "grid_auto_rows": null,
       "grid_column": null,
       "grid_gap": null,
       "grid_row": null,
       "grid_template_areas": null,
       "grid_template_columns": null,
       "grid_template_rows": null,
       "height": null,
       "justify_content": null,
       "justify_items": null,
       "left": null,
       "margin": null,
       "max_height": null,
       "max_width": null,
       "min_height": null,
       "min_width": null,
       "object_fit": null,
       "object_position": null,
       "order": null,
       "overflow": null,
       "overflow_x": null,
       "overflow_y": null,
       "padding": null,
       "right": null,
       "top": null,
       "visibility": null,
       "width": null
      }
     },
     "0e3660cb73dd402ba236f1b4b6161e55": {
      "buffers": [],
      "state": {
       "_model_module": "@jupyter-widgets/base",
       "_model_module_version": "1.2.0",
       "_model_name": "LayoutModel",
       "_view_count": null,
       "_view_module": "@jupyter-widgets/base",
       "_view_module_version": "1.2.0",
       "_view_name": "LayoutView",
       "align_content": null,
       "align_items": null,
       "align_self": null,
       "border": null,
       "bottom": null,
       "display": null,
       "flex": null,
       "flex_flow": null,
       "grid_area": null,
       "grid_auto_columns": null,
       "grid_auto_flow": null,
       "grid_auto_rows": null,
       "grid_column": null,
       "grid_gap": null,
       "grid_row": null,
       "grid_template_areas": null,
       "grid_template_columns": null,
       "grid_template_rows": null,
       "height": null,
       "justify_content": null,
       "justify_items": null,
       "left": null,
       "margin": null,
       "max_height": null,
       "max_width": null,
       "min_height": null,
       "min_width": null,
       "object_fit": null,
       "object_position": null,
       "order": null,
       "overflow": null,
       "overflow_x": null,
       "overflow_y": null,
       "padding": null,
       "right": null,
       "top": null,
       "visibility": null,
       "width": null
      }
     },
     "11cd5d54cb3d411bb486c14276d2cd49": {
      "buffers": [],
      "state": {
       "_dom_classes": [],
       "_model_module": "@jupyter-widgets/controls",
       "_model_module_version": "1.5.0",
       "_model_name": "HTMLModel",
       "_view_count": null,
       "_view_module": "@jupyter-widgets/controls",
       "_view_module_version": "1.5.0",
       "_view_name": "HTMLView",
       "description": "",
       "description_tooltip": null,
       "layout": "IPY_MODEL_544d427b92234cdaa870ea81036a54ee",
       "placeholder": "​",
       "style": "IPY_MODEL_adb7537ccee848e9a09fbda260779513",
       "value": "Samples collected: 100%"
      }
     },
     "163d7ab0c43b4de18e140e70582c22a2": {
      "buffers": [],
      "state": {
       "_model_module": "@jupyter-widgets/controls",
       "_model_module_version": "1.5.0",
       "_model_name": "ProgressStyleModel",
       "_view_count": null,
       "_view_module": "@jupyter-widgets/base",
       "_view_module_version": "1.2.0",
       "_view_name": "StyleView",
       "bar_color": null,
       "description_width": ""
      }
     },
     "16d07d1c1f7e45dab5521c011178313f": {
      "buffers": [],
      "state": {
       "_dom_classes": [],
       "_model_module": "@jupyter-widgets/controls",
       "_model_module_version": "1.5.0",
       "_model_name": "FloatProgressModel",
       "_view_count": null,
       "_view_module": "@jupyter-widgets/controls",
       "_view_module_version": "1.5.0",
       "_view_name": "ProgressView",
       "bar_style": "success",
       "description": "",
       "description_tooltip": null,
       "layout": "IPY_MODEL_3f5c3a6918f4479b8e8f9e147e72dd83",
       "max": 1000,
       "min": 0,
       "orientation": "horizontal",
       "style": "IPY_MODEL_232ae243876e434da3e7b9928bba3969",
       "value": 1000
      }
     },
     "173b36e6f1ce4a82b62647447251b97a": {
      "buffers": [],
      "state": {
       "_dom_classes": [],
       "_model_module": "@jupyter-widgets/controls",
       "_model_module_version": "1.5.0",
       "_model_name": "HBoxModel",
       "_view_count": null,
       "_view_module": "@jupyter-widgets/controls",
       "_view_module_version": "1.5.0",
       "_view_name": "HBoxView",
       "box_style": "",
       "children": [
        "IPY_MODEL_413dd5ba5157432e953311195c3e69ec",
        "IPY_MODEL_dbccad31b01b45a2be42da8a128e66a2",
        "IPY_MODEL_5c17c03073814511bed073e6449c8e8a"
       ],
       "layout": "IPY_MODEL_e7a414c1e894498a879a37ff35b410f5"
      }
     },
     "1a0a24fea4d64c7584066afc7341d326": {
      "buffers": [],
      "state": {
       "_model_module": "@jupyter-widgets/base",
       "_model_module_version": "1.2.0",
       "_model_name": "LayoutModel",
       "_view_count": null,
       "_view_module": "@jupyter-widgets/base",
       "_view_module_version": "1.2.0",
       "_view_name": "LayoutView",
       "align_content": null,
       "align_items": null,
       "align_self": null,
       "border": null,
       "bottom": null,
       "display": null,
       "flex": null,
       "flex_flow": null,
       "grid_area": null,
       "grid_auto_columns": null,
       "grid_auto_flow": null,
       "grid_auto_rows": null,
       "grid_column": null,
       "grid_gap": null,
       "grid_row": null,
       "grid_template_areas": null,
       "grid_template_columns": null,
       "grid_template_rows": null,
       "height": null,
       "justify_content": null,
       "justify_items": null,
       "left": null,
       "margin": null,
       "max_height": null,
       "max_width": null,
       "min_height": null,
       "min_width": null,
       "object_fit": null,
       "object_position": null,
       "order": null,
       "overflow": null,
       "overflow_x": null,
       "overflow_y": null,
       "padding": null,
       "right": null,
       "top": null,
       "visibility": null,
       "width": null
      }
     },
     "232ae243876e434da3e7b9928bba3969": {
      "buffers": [],
      "state": {
       "_model_module": "@jupyter-widgets/controls",
       "_model_module_version": "1.5.0",
       "_model_name": "ProgressStyleModel",
       "_view_count": null,
       "_view_module": "@jupyter-widgets/base",
       "_view_module_version": "1.2.0",
       "_view_name": "StyleView",
       "bar_color": null,
       "description_width": ""
      }
     },
     "2956bb5f526c45208e62da7f1f3b5888": {
      "buffers": [],
      "state": {
       "_model_module": "@jupyter-widgets/controls",
       "_model_module_version": "1.5.0",
       "_model_name": "DescriptionStyleModel",
       "_view_count": null,
       "_view_module": "@jupyter-widgets/base",
       "_view_module_version": "1.2.0",
       "_view_name": "StyleView",
       "description_width": ""
      }
     },
     "34658cafaf264c18b96e242b7c36b148": {
      "buffers": [],
      "state": {
       "_dom_classes": [],
       "_model_module": "@jupyter-widgets/controls",
       "_model_module_version": "1.5.0",
       "_model_name": "FloatProgressModel",
       "_view_count": null,
       "_view_module": "@jupyter-widgets/controls",
       "_view_module_version": "1.5.0",
       "_view_name": "ProgressView",
       "bar_style": "success",
       "description": "",
       "description_tooltip": null,
       "layout": "IPY_MODEL_0e3660cb73dd402ba236f1b4b6161e55",
       "max": 1000,
       "min": 0,
       "orientation": "horizontal",
       "style": "IPY_MODEL_550b19fd283442f2af3f9da13491b456",
       "value": 1000
      }
     },
     "35d0a16bea944c47aacd1b8dce42c35d": {
      "buffers": [],
      "state": {
       "_model_module": "@jupyter-widgets/controls",
       "_model_module_version": "1.5.0",
       "_model_name": "DescriptionStyleModel",
       "_view_count": null,
       "_view_module": "@jupyter-widgets/base",
       "_view_module_version": "1.2.0",
       "_view_name": "StyleView",
       "description_width": ""
      }
     },
     "3ea46d1db2c745b48d624fe9e4ad996a": {
      "buffers": [],
      "state": {
       "_dom_classes": [],
       "_model_module": "@jupyter-widgets/controls",
       "_model_module_version": "1.5.0",
       "_model_name": "HTMLModel",
       "_view_count": null,
       "_view_module": "@jupyter-widgets/controls",
       "_view_module_version": "1.5.0",
       "_view_name": "HTMLView",
       "description": "",
       "description_tooltip": null,
       "layout": "IPY_MODEL_6af55dc2c985446ebaa8591907e8ad5e",
       "placeholder": "​",
       "style": "IPY_MODEL_35d0a16bea944c47aacd1b8dce42c35d",
       "value": "Samples collected: 100%"
      }
     },
     "3f5c3a6918f4479b8e8f9e147e72dd83": {
      "buffers": [],
      "state": {
       "_model_module": "@jupyter-widgets/base",
       "_model_module_version": "1.2.0",
       "_model_name": "LayoutModel",
       "_view_count": null,
       "_view_module": "@jupyter-widgets/base",
       "_view_module_version": "1.2.0",
       "_view_name": "LayoutView",
       "align_content": null,
       "align_items": null,
       "align_self": null,
       "border": null,
       "bottom": null,
       "display": null,
       "flex": null,
       "flex_flow": null,
       "grid_area": null,
       "grid_auto_columns": null,
       "grid_auto_flow": null,
       "grid_auto_rows": null,
       "grid_column": null,
       "grid_gap": null,
       "grid_row": null,
       "grid_template_areas": null,
       "grid_template_columns": null,
       "grid_template_rows": null,
       "height": null,
       "justify_content": null,
       "justify_items": null,
       "left": null,
       "margin": null,
       "max_height": null,
       "max_width": null,
       "min_height": null,
       "min_width": null,
       "object_fit": null,
       "object_position": null,
       "order": null,
       "overflow": null,
       "overflow_x": null,
       "overflow_y": null,
       "padding": null,
       "right": null,
       "top": null,
       "visibility": null,
       "width": null
      }
     },
     "413dd5ba5157432e953311195c3e69ec": {
      "buffers": [],
      "state": {
       "_dom_classes": [],
       "_model_module": "@jupyter-widgets/controls",
       "_model_module_version": "1.5.0",
       "_model_name": "HTMLModel",
       "_view_count": null,
       "_view_module": "@jupyter-widgets/controls",
       "_view_module_version": "1.5.0",
       "_view_name": "HTMLView",
       "description": "",
       "description_tooltip": null,
       "layout": "IPY_MODEL_987c5b9a0ee045ed9ba71045f5288a23",
       "placeholder": "​",
       "style": "IPY_MODEL_8c3cd33d408945f59ad954dfaf3be358",
       "value": "Samples collected: 100%"
      }
     },
     "48e169003834499f99b0d75db0af0be5": {
      "buffers": [],
      "state": {
       "_model_module": "@jupyter-widgets/controls",
       "_model_module_version": "1.5.0",
       "_model_name": "DescriptionStyleModel",
       "_view_count": null,
       "_view_module": "@jupyter-widgets/base",
       "_view_module_version": "1.2.0",
       "_view_name": "StyleView",
       "description_width": ""
      }
     },
     "4abb10ca6c7a4068a2e60e421b911ffe": {
      "buffers": [],
      "state": {
       "_dom_classes": [],
       "_model_module": "@jupyter-widgets/controls",
       "_model_module_version": "1.5.0",
       "_model_name": "FloatProgressModel",
       "_view_count": null,
       "_view_module": "@jupyter-widgets/controls",
       "_view_module_version": "1.5.0",
       "_view_name": "ProgressView",
       "bar_style": "success",
       "description": "",
       "description_tooltip": null,
       "layout": "IPY_MODEL_7b481edbaa304ce0aca28957ead69193",
       "max": 1000,
       "min": 0,
       "orientation": "horizontal",
       "style": "IPY_MODEL_ab5a860684dd45539e65f2a2a06c04d4",
       "value": 1000
      }
     },
     "53bf41f0b14a4d9a95402503da869db6": {
      "buffers": [],
      "state": {
       "_dom_classes": [],
       "_model_module": "@jupyter-widgets/controls",
       "_model_module_version": "1.5.0",
       "_model_name": "HTMLModel",
       "_view_count": null,
       "_view_module": "@jupyter-widgets/controls",
       "_view_module_version": "1.5.0",
       "_view_name": "HTMLView",
       "description": "",
       "description_tooltip": null,
       "layout": "IPY_MODEL_84b4427de13d4d369c598a00c1febe8a",
       "placeholder": "​",
       "style": "IPY_MODEL_c3f5675fea8e4ef99be6ea8693c7b605",
       "value": " 1000/1000 [00:05&lt;00:00, 165.95it/s]"
      }
     },
     "544706c5dbd64592bdf9e8c031b04f76": {
      "buffers": [],
      "state": {
       "_model_module": "@jupyter-widgets/base",
       "_model_module_version": "1.2.0",
       "_model_name": "LayoutModel",
       "_view_count": null,
       "_view_module": "@jupyter-widgets/base",
       "_view_module_version": "1.2.0",
       "_view_name": "LayoutView",
       "align_content": null,
       "align_items": null,
       "align_self": null,
       "border": null,
       "bottom": null,
       "display": null,
       "flex": null,
       "flex_flow": null,
       "grid_area": null,
       "grid_auto_columns": null,
       "grid_auto_flow": null,
       "grid_auto_rows": null,
       "grid_column": null,
       "grid_gap": null,
       "grid_row": null,
       "grid_template_areas": null,
       "grid_template_columns": null,
       "grid_template_rows": null,
       "height": null,
       "justify_content": null,
       "justify_items": null,
       "left": null,
       "margin": null,
       "max_height": null,
       "max_width": null,
       "min_height": null,
       "min_width": null,
       "object_fit": null,
       "object_position": null,
       "order": null,
       "overflow": null,
       "overflow_x": null,
       "overflow_y": null,
       "padding": null,
       "right": null,
       "top": null,
       "visibility": null,
       "width": null
      }
     },
     "544d427b92234cdaa870ea81036a54ee": {
      "buffers": [],
      "state": {
       "_model_module": "@jupyter-widgets/base",
       "_model_module_version": "1.2.0",
       "_model_name": "LayoutModel",
       "_view_count": null,
       "_view_module": "@jupyter-widgets/base",
       "_view_module_version": "1.2.0",
       "_view_name": "LayoutView",
       "align_content": null,
       "align_items": null,
       "align_self": null,
       "border": null,
       "bottom": null,
       "display": null,
       "flex": null,
       "flex_flow": null,
       "grid_area": null,
       "grid_auto_columns": null,
       "grid_auto_flow": null,
       "grid_auto_rows": null,
       "grid_column": null,
       "grid_gap": null,
       "grid_row": null,
       "grid_template_areas": null,
       "grid_template_columns": null,
       "grid_template_rows": null,
       "height": null,
       "justify_content": null,
       "justify_items": null,
       "left": null,
       "margin": null,
       "max_height": null,
       "max_width": null,
       "min_height": null,
       "min_width": null,
       "object_fit": null,
       "object_position": null,
       "order": null,
       "overflow": null,
       "overflow_x": null,
       "overflow_y": null,
       "padding": null,
       "right": null,
       "top": null,
       "visibility": null,
       "width": null
      }
     },
     "550b19fd283442f2af3f9da13491b456": {
      "buffers": [],
      "state": {
       "_model_module": "@jupyter-widgets/controls",
       "_model_module_version": "1.5.0",
       "_model_name": "ProgressStyleModel",
       "_view_count": null,
       "_view_module": "@jupyter-widgets/base",
       "_view_module_version": "1.2.0",
       "_view_name": "StyleView",
       "bar_color": null,
       "description_width": ""
      }
     },
     "5c1266c2093646c2b2ac1cae3cdfa758": {
      "buffers": [],
      "state": {
       "_dom_classes": [],
       "_model_module": "@jupyter-widgets/controls",
       "_model_module_version": "1.5.0",
       "_model_name": "HTMLModel",
       "_view_count": null,
       "_view_module": "@jupyter-widgets/controls",
       "_view_module_version": "1.5.0",
       "_view_name": "HTMLView",
       "description": "",
       "description_tooltip": null,
       "layout": "IPY_MODEL_05565a14566048938202f2c8cb0c05ed",
       "placeholder": "​",
       "style": "IPY_MODEL_6904b30d80eb48c9a3b74ffd3c7d6af6",
       "value": "Samples collected: 100%"
      }
     },
     "5c17c03073814511bed073e6449c8e8a": {
      "buffers": [],
      "state": {
       "_dom_classes": [],
       "_model_module": "@jupyter-widgets/controls",
       "_model_module_version": "1.5.0",
       "_model_name": "HTMLModel",
       "_view_count": null,
       "_view_module": "@jupyter-widgets/controls",
       "_view_module_version": "1.5.0",
       "_view_name": "HTMLView",
       "description": "",
       "description_tooltip": null,
       "layout": "IPY_MODEL_bce377477ace4648a360f5ffd642bfaa",
       "placeholder": "​",
       "style": "IPY_MODEL_2956bb5f526c45208e62da7f1f3b5888",
       "value": " 1000/1000 [00:05&lt;00:00, 193.69it/s]"
      }
     },
     "5c3fe2d0dcac4c2a820c0a8c58157371": {
      "buffers": [],
      "state": {
       "_model_module": "@jupyter-widgets/base",
       "_model_module_version": "1.2.0",
       "_model_name": "LayoutModel",
       "_view_count": null,
       "_view_module": "@jupyter-widgets/base",
       "_view_module_version": "1.2.0",
       "_view_name": "LayoutView",
       "align_content": null,
       "align_items": null,
       "align_self": null,
       "border": null,
       "bottom": null,
       "display": null,
       "flex": null,
       "flex_flow": null,
       "grid_area": null,
       "grid_auto_columns": null,
       "grid_auto_flow": null,
       "grid_auto_rows": null,
       "grid_column": null,
       "grid_gap": null,
       "grid_row": null,
       "grid_template_areas": null,
       "grid_template_columns": null,
       "grid_template_rows": null,
       "height": null,
       "justify_content": null,
       "justify_items": null,
       "left": null,
       "margin": null,
       "max_height": null,
       "max_width": null,
       "min_height": null,
       "min_width": null,
       "object_fit": null,
       "object_position": null,
       "order": null,
       "overflow": null,
       "overflow_x": null,
       "overflow_y": null,
       "padding": null,
       "right": null,
       "top": null,
       "visibility": null,
       "width": null
      }
     },
     "614e8ec82ed34e55b7f4ff8bfcbea7c8": {
      "buffers": [],
      "state": {
       "_dom_classes": [],
       "_model_module": "@jupyter-widgets/controls",
       "_model_module_version": "1.5.0",
       "_model_name": "HTMLModel",
       "_view_count": null,
       "_view_module": "@jupyter-widgets/controls",
       "_view_module_version": "1.5.0",
       "_view_name": "HTMLView",
       "description": "",
       "description_tooltip": null,
       "layout": "IPY_MODEL_93528b0229fa410cbd099e295a7d6bab",
       "placeholder": "​",
       "style": "IPY_MODEL_9a3dca8de0d34b058700cf653d260229",
       "value": " 1000/1000 [00:05&lt;00:00, 197.40it/s]"
      }
     },
     "6904b30d80eb48c9a3b74ffd3c7d6af6": {
      "buffers": [],
      "state": {
       "_model_module": "@jupyter-widgets/controls",
       "_model_module_version": "1.5.0",
       "_model_name": "DescriptionStyleModel",
       "_view_count": null,
       "_view_module": "@jupyter-widgets/base",
       "_view_module_version": "1.2.0",
       "_view_name": "StyleView",
       "description_width": ""
      }
     },
     "6af55dc2c985446ebaa8591907e8ad5e": {
      "buffers": [],
      "state": {
       "_model_module": "@jupyter-widgets/base",
       "_model_module_version": "1.2.0",
       "_model_name": "LayoutModel",
       "_view_count": null,
       "_view_module": "@jupyter-widgets/base",
       "_view_module_version": "1.2.0",
       "_view_name": "LayoutView",
       "align_content": null,
       "align_items": null,
       "align_self": null,
       "border": null,
       "bottom": null,
       "display": null,
       "flex": null,
       "flex_flow": null,
       "grid_area": null,
       "grid_auto_columns": null,
       "grid_auto_flow": null,
       "grid_auto_rows": null,
       "grid_column": null,
       "grid_gap": null,
       "grid_row": null,
       "grid_template_areas": null,
       "grid_template_columns": null,
       "grid_template_rows": null,
       "height": null,
       "justify_content": null,
       "justify_items": null,
       "left": null,
       "margin": null,
       "max_height": null,
       "max_width": null,
       "min_height": null,
       "min_width": null,
       "object_fit": null,
       "object_position": null,
       "order": null,
       "overflow": null,
       "overflow_x": null,
       "overflow_y": null,
       "padding": null,
       "right": null,
       "top": null,
       "visibility": null,
       "width": null
      }
     },
     "7b481edbaa304ce0aca28957ead69193": {
      "buffers": [],
      "state": {
       "_model_module": "@jupyter-widgets/base",
       "_model_module_version": "1.2.0",
       "_model_name": "LayoutModel",
       "_view_count": null,
       "_view_module": "@jupyter-widgets/base",
       "_view_module_version": "1.2.0",
       "_view_name": "LayoutView",
       "align_content": null,
       "align_items": null,
       "align_self": null,
       "border": null,
       "bottom": null,
       "display": null,
       "flex": null,
       "flex_flow": null,
       "grid_area": null,
       "grid_auto_columns": null,
       "grid_auto_flow": null,
       "grid_auto_rows": null,
       "grid_column": null,
       "grid_gap": null,
       "grid_row": null,
       "grid_template_areas": null,
       "grid_template_columns": null,
       "grid_template_rows": null,
       "height": null,
       "justify_content": null,
       "justify_items": null,
       "left": null,
       "margin": null,
       "max_height": null,
       "max_width": null,
       "min_height": null,
       "min_width": null,
       "object_fit": null,
       "object_position": null,
       "order": null,
       "overflow": null,
       "overflow_x": null,
       "overflow_y": null,
       "padding": null,
       "right": null,
       "top": null,
       "visibility": null,
       "width": null
      }
     },
     "7cc5f3f4a49d463190d8fd9a0f4eb81c": {
      "buffers": [],
      "state": {
       "_dom_classes": [],
       "_model_module": "@jupyter-widgets/controls",
       "_model_module_version": "1.5.0",
       "_model_name": "HBoxModel",
       "_view_count": null,
       "_view_module": "@jupyter-widgets/controls",
       "_view_module_version": "1.5.0",
       "_view_name": "HBoxView",
       "box_style": "",
       "children": [
        "IPY_MODEL_5c1266c2093646c2b2ac1cae3cdfa758",
        "IPY_MODEL_4abb10ca6c7a4068a2e60e421b911ffe",
        "IPY_MODEL_e1b2cfa7dce34e9c81afb9620f20af69"
       ],
       "layout": "IPY_MODEL_968350134d104f08a8f3d4307d117501"
      }
     },
     "84b4427de13d4d369c598a00c1febe8a": {
      "buffers": [],
      "state": {
       "_model_module": "@jupyter-widgets/base",
       "_model_module_version": "1.2.0",
       "_model_name": "LayoutModel",
       "_view_count": null,
       "_view_module": "@jupyter-widgets/base",
       "_view_module_version": "1.2.0",
       "_view_name": "LayoutView",
       "align_content": null,
       "align_items": null,
       "align_self": null,
       "border": null,
       "bottom": null,
       "display": null,
       "flex": null,
       "flex_flow": null,
       "grid_area": null,
       "grid_auto_columns": null,
       "grid_auto_flow": null,
       "grid_auto_rows": null,
       "grid_column": null,
       "grid_gap": null,
       "grid_row": null,
       "grid_template_areas": null,
       "grid_template_columns": null,
       "grid_template_rows": null,
       "height": null,
       "justify_content": null,
       "justify_items": null,
       "left": null,
       "margin": null,
       "max_height": null,
       "max_width": null,
       "min_height": null,
       "min_width": null,
       "object_fit": null,
       "object_position": null,
       "order": null,
       "overflow": null,
       "overflow_x": null,
       "overflow_y": null,
       "padding": null,
       "right": null,
       "top": null,
       "visibility": null,
       "width": null
      }
     },
     "8c3cd33d408945f59ad954dfaf3be358": {
      "buffers": [],
      "state": {
       "_model_module": "@jupyter-widgets/controls",
       "_model_module_version": "1.5.0",
       "_model_name": "DescriptionStyleModel",
       "_view_count": null,
       "_view_module": "@jupyter-widgets/base",
       "_view_module_version": "1.2.0",
       "_view_name": "StyleView",
       "description_width": ""
      }
     },
     "93528b0229fa410cbd099e295a7d6bab": {
      "buffers": [],
      "state": {
       "_model_module": "@jupyter-widgets/base",
       "_model_module_version": "1.2.0",
       "_model_name": "LayoutModel",
       "_view_count": null,
       "_view_module": "@jupyter-widgets/base",
       "_view_module_version": "1.2.0",
       "_view_name": "LayoutView",
       "align_content": null,
       "align_items": null,
       "align_self": null,
       "border": null,
       "bottom": null,
       "display": null,
       "flex": null,
       "flex_flow": null,
       "grid_area": null,
       "grid_auto_columns": null,
       "grid_auto_flow": null,
       "grid_auto_rows": null,
       "grid_column": null,
       "grid_gap": null,
       "grid_row": null,
       "grid_template_areas": null,
       "grid_template_columns": null,
       "grid_template_rows": null,
       "height": null,
       "justify_content": null,
       "justify_items": null,
       "left": null,
       "margin": null,
       "max_height": null,
       "max_width": null,
       "min_height": null,
       "min_width": null,
       "object_fit": null,
       "object_position": null,
       "order": null,
       "overflow": null,
       "overflow_x": null,
       "overflow_y": null,
       "padding": null,
       "right": null,
       "top": null,
       "visibility": null,
       "width": null
      }
     },
     "968350134d104f08a8f3d4307d117501": {
      "buffers": [],
      "state": {
       "_model_module": "@jupyter-widgets/base",
       "_model_module_version": "1.2.0",
       "_model_name": "LayoutModel",
       "_view_count": null,
       "_view_module": "@jupyter-widgets/base",
       "_view_module_version": "1.2.0",
       "_view_name": "LayoutView",
       "align_content": null,
       "align_items": null,
       "align_self": null,
       "border": null,
       "bottom": null,
       "display": null,
       "flex": null,
       "flex_flow": null,
       "grid_area": null,
       "grid_auto_columns": null,
       "grid_auto_flow": null,
       "grid_auto_rows": null,
       "grid_column": null,
       "grid_gap": null,
       "grid_row": null,
       "grid_template_areas": null,
       "grid_template_columns": null,
       "grid_template_rows": null,
       "height": null,
       "justify_content": null,
       "justify_items": null,
       "left": null,
       "margin": null,
       "max_height": null,
       "max_width": null,
       "min_height": null,
       "min_width": null,
       "object_fit": null,
       "object_position": null,
       "order": null,
       "overflow": null,
       "overflow_x": null,
       "overflow_y": null,
       "padding": null,
       "right": null,
       "top": null,
       "visibility": null,
       "width": null
      }
     },
     "987c5b9a0ee045ed9ba71045f5288a23": {
      "buffers": [],
      "state": {
       "_model_module": "@jupyter-widgets/base",
       "_model_module_version": "1.2.0",
       "_model_name": "LayoutModel",
       "_view_count": null,
       "_view_module": "@jupyter-widgets/base",
       "_view_module_version": "1.2.0",
       "_view_name": "LayoutView",
       "align_content": null,
       "align_items": null,
       "align_self": null,
       "border": null,
       "bottom": null,
       "display": null,
       "flex": null,
       "flex_flow": null,
       "grid_area": null,
       "grid_auto_columns": null,
       "grid_auto_flow": null,
       "grid_auto_rows": null,
       "grid_column": null,
       "grid_gap": null,
       "grid_row": null,
       "grid_template_areas": null,
       "grid_template_columns": null,
       "grid_template_rows": null,
       "height": null,
       "justify_content": null,
       "justify_items": null,
       "left": null,
       "margin": null,
       "max_height": null,
       "max_width": null,
       "min_height": null,
       "min_width": null,
       "object_fit": null,
       "object_position": null,
       "order": null,
       "overflow": null,
       "overflow_x": null,
       "overflow_y": null,
       "padding": null,
       "right": null,
       "top": null,
       "visibility": null,
       "width": null
      }
     },
     "9a3dca8de0d34b058700cf653d260229": {
      "buffers": [],
      "state": {
       "_model_module": "@jupyter-widgets/controls",
       "_model_module_version": "1.5.0",
       "_model_name": "DescriptionStyleModel",
       "_view_count": null,
       "_view_module": "@jupyter-widgets/base",
       "_view_module_version": "1.2.0",
       "_view_name": "StyleView",
       "description_width": ""
      }
     },
     "aa3b2a94c1764cdea1ea2d741b0be0f7": {
      "buffers": [],
      "state": {
       "_model_module": "@jupyter-widgets/base",
       "_model_module_version": "1.2.0",
       "_model_name": "LayoutModel",
       "_view_count": null,
       "_view_module": "@jupyter-widgets/base",
       "_view_module_version": "1.2.0",
       "_view_name": "LayoutView",
       "align_content": null,
       "align_items": null,
       "align_self": null,
       "border": null,
       "bottom": null,
       "display": null,
       "flex": null,
       "flex_flow": null,
       "grid_area": null,
       "grid_auto_columns": null,
       "grid_auto_flow": null,
       "grid_auto_rows": null,
       "grid_column": null,
       "grid_gap": null,
       "grid_row": null,
       "grid_template_areas": null,
       "grid_template_columns": null,
       "grid_template_rows": null,
       "height": null,
       "justify_content": null,
       "justify_items": null,
       "left": null,
       "margin": null,
       "max_height": null,
       "max_width": null,
       "min_height": null,
       "min_width": null,
       "object_fit": null,
       "object_position": null,
       "order": null,
       "overflow": null,
       "overflow_x": null,
       "overflow_y": null,
       "padding": null,
       "right": null,
       "top": null,
       "visibility": null,
       "width": null
      }
     },
     "ab5a860684dd45539e65f2a2a06c04d4": {
      "buffers": [],
      "state": {
       "_model_module": "@jupyter-widgets/controls",
       "_model_module_version": "1.5.0",
       "_model_name": "ProgressStyleModel",
       "_view_count": null,
       "_view_module": "@jupyter-widgets/base",
       "_view_module_version": "1.2.0",
       "_view_name": "StyleView",
       "bar_color": null,
       "description_width": ""
      }
     },
     "adb7537ccee848e9a09fbda260779513": {
      "buffers": [],
      "state": {
       "_model_module": "@jupyter-widgets/controls",
       "_model_module_version": "1.5.0",
       "_model_name": "DescriptionStyleModel",
       "_view_count": null,
       "_view_module": "@jupyter-widgets/base",
       "_view_module_version": "1.2.0",
       "_view_name": "StyleView",
       "description_width": ""
      }
     },
     "b70906f5b9b04ca6b0c307877f9c0c60": {
      "buffers": [],
      "state": {
       "_dom_classes": [],
       "_model_module": "@jupyter-widgets/controls",
       "_model_module_version": "1.5.0",
       "_model_name": "HBoxModel",
       "_view_count": null,
       "_view_module": "@jupyter-widgets/controls",
       "_view_module_version": "1.5.0",
       "_view_name": "HBoxView",
       "box_style": "",
       "children": [
        "IPY_MODEL_11cd5d54cb3d411bb486c14276d2cd49",
        "IPY_MODEL_34658cafaf264c18b96e242b7c36b148",
        "IPY_MODEL_614e8ec82ed34e55b7f4ff8bfcbea7c8"
       ],
       "layout": "IPY_MODEL_1a0a24fea4d64c7584066afc7341d326"
      }
     },
     "bce377477ace4648a360f5ffd642bfaa": {
      "buffers": [],
      "state": {
       "_model_module": "@jupyter-widgets/base",
       "_model_module_version": "1.2.0",
       "_model_name": "LayoutModel",
       "_view_count": null,
       "_view_module": "@jupyter-widgets/base",
       "_view_module_version": "1.2.0",
       "_view_name": "LayoutView",
       "align_content": null,
       "align_items": null,
       "align_self": null,
       "border": null,
       "bottom": null,
       "display": null,
       "flex": null,
       "flex_flow": null,
       "grid_area": null,
       "grid_auto_columns": null,
       "grid_auto_flow": null,
       "grid_auto_rows": null,
       "grid_column": null,
       "grid_gap": null,
       "grid_row": null,
       "grid_template_areas": null,
       "grid_template_columns": null,
       "grid_template_rows": null,
       "height": null,
       "justify_content": null,
       "justify_items": null,
       "left": null,
       "margin": null,
       "max_height": null,
       "max_width": null,
       "min_height": null,
       "min_width": null,
       "object_fit": null,
       "object_position": null,
       "order": null,
       "overflow": null,
       "overflow_x": null,
       "overflow_y": null,
       "padding": null,
       "right": null,
       "top": null,
       "visibility": null,
       "width": null
      }
     },
     "c3f5675fea8e4ef99be6ea8693c7b605": {
      "buffers": [],
      "state": {
       "_model_module": "@jupyter-widgets/controls",
       "_model_module_version": "1.5.0",
       "_model_name": "DescriptionStyleModel",
       "_view_count": null,
       "_view_module": "@jupyter-widgets/base",
       "_view_module_version": "1.2.0",
       "_view_name": "StyleView",
       "description_width": ""
      }
     },
     "c72ee29f773f4e80b53e8a96526d756f": {
      "buffers": [],
      "state": {
       "_dom_classes": [],
       "_model_module": "@jupyter-widgets/controls",
       "_model_module_version": "1.5.0",
       "_model_name": "HBoxModel",
       "_view_count": null,
       "_view_module": "@jupyter-widgets/controls",
       "_view_module_version": "1.5.0",
       "_view_name": "HBoxView",
       "box_style": "",
       "children": [
        "IPY_MODEL_3ea46d1db2c745b48d624fe9e4ad996a",
        "IPY_MODEL_16d07d1c1f7e45dab5521c011178313f",
        "IPY_MODEL_53bf41f0b14a4d9a95402503da869db6"
       ],
       "layout": "IPY_MODEL_544706c5dbd64592bdf9e8c031b04f76"
      }
     },
     "dbccad31b01b45a2be42da8a128e66a2": {
      "buffers": [],
      "state": {
       "_dom_classes": [],
       "_model_module": "@jupyter-widgets/controls",
       "_model_module_version": "1.5.0",
       "_model_name": "FloatProgressModel",
       "_view_count": null,
       "_view_module": "@jupyter-widgets/controls",
       "_view_module_version": "1.5.0",
       "_view_name": "ProgressView",
       "bar_style": "success",
       "description": "",
       "description_tooltip": null,
       "layout": "IPY_MODEL_5c3fe2d0dcac4c2a820c0a8c58157371",
       "max": 1000,
       "min": 0,
       "orientation": "horizontal",
       "style": "IPY_MODEL_163d7ab0c43b4de18e140e70582c22a2",
       "value": 1000
      }
     },
     "e1b2cfa7dce34e9c81afb9620f20af69": {
      "buffers": [],
      "state": {
       "_dom_classes": [],
       "_model_module": "@jupyter-widgets/controls",
       "_model_module_version": "1.5.0",
       "_model_name": "HTMLModel",
       "_view_count": null,
       "_view_module": "@jupyter-widgets/controls",
       "_view_module_version": "1.5.0",
       "_view_name": "HTMLView",
       "description": "",
       "description_tooltip": null,
       "layout": "IPY_MODEL_aa3b2a94c1764cdea1ea2d741b0be0f7",
       "placeholder": "​",
       "style": "IPY_MODEL_48e169003834499f99b0d75db0af0be5",
       "value": " 1000/1000 [00:05&lt;00:00, 192.44it/s]"
      }
     },
     "e7a414c1e894498a879a37ff35b410f5": {
      "buffers": [],
      "state": {
       "_model_module": "@jupyter-widgets/base",
       "_model_module_version": "1.2.0",
       "_model_name": "LayoutModel",
       "_view_count": null,
       "_view_module": "@jupyter-widgets/base",
       "_view_module_version": "1.2.0",
       "_view_name": "LayoutView",
       "align_content": null,
       "align_items": null,
       "align_self": null,
       "border": null,
       "bottom": null,
       "display": null,
       "flex": null,
       "flex_flow": null,
       "grid_area": null,
       "grid_auto_columns": null,
       "grid_auto_flow": null,
       "grid_auto_rows": null,
       "grid_column": null,
       "grid_gap": null,
       "grid_row": null,
       "grid_template_areas": null,
       "grid_template_columns": null,
       "grid_template_rows": null,
       "height": null,
       "justify_content": null,
       "justify_items": null,
       "left": null,
       "margin": null,
       "max_height": null,
       "max_width": null,
       "min_height": null,
       "min_width": null,
       "object_fit": null,
       "object_position": null,
       "order": null,
       "overflow": null,
       "overflow_x": null,
       "overflow_y": null,
       "padding": null,
       "right": null,
       "top": null,
       "visibility": null,
       "width": null
      }
     }
    }
   }
  }
 },
 "nbformat": 4,
 "nbformat_minor": 2
}
